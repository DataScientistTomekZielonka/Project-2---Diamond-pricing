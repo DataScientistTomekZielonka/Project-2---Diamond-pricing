{
 "cells": [
  {
   "cell_type": "code",
   "execution_count": 2,
   "metadata": {},
   "outputs": [],
   "source": [
    "import numpy as np\n",
    "import pandas as pd"
   ]
  },
  {
   "cell_type": "code",
   "execution_count": 3,
   "metadata": {},
   "outputs": [],
   "source": [
    "import warnings\n",
    "warnings.filterwarnings(\"ignore\")"
   ]
  },
  {
   "cell_type": "code",
   "execution_count": 8,
   "metadata": {},
   "outputs": [
    {
     "data": {
      "text/html": [
       "<div>\n",
       "<style scoped>\n",
       "    .dataframe tbody tr th:only-of-type {\n",
       "        vertical-align: middle;\n",
       "    }\n",
       "\n",
       "    .dataframe tbody tr th {\n",
       "        vertical-align: top;\n",
       "    }\n",
       "\n",
       "    .dataframe thead th {\n",
       "        text-align: right;\n",
       "    }\n",
       "</style>\n",
       "<table border=\"1\" class=\"dataframe\">\n",
       "  <thead>\n",
       "    <tr style=\"text-align: right;\">\n",
       "      <th></th>\n",
       "      <th>carat</th>\n",
       "      <th>cut</th>\n",
       "      <th>color</th>\n",
       "      <th>clarity</th>\n",
       "      <th>depth</th>\n",
       "      <th>table</th>\n",
       "      <th>price</th>\n",
       "      <th>x</th>\n",
       "      <th>y</th>\n",
       "      <th>z</th>\n",
       "    </tr>\n",
       "  </thead>\n",
       "  <tbody>\n",
       "    <tr>\n",
       "      <th>4876</th>\n",
       "      <td>0.23</td>\n",
       "      <td>3</td>\n",
       "      <td>8</td>\n",
       "      <td>3</td>\n",
       "      <td>62.4</td>\n",
       "      <td>56.0</td>\n",
       "      <td>468</td>\n",
       "      <td>3.93</td>\n",
       "      <td>3.98</td>\n",
       "      <td>2.46</td>\n",
       "    </tr>\n",
       "    <tr>\n",
       "      <th>19042</th>\n",
       "      <td>0.60</td>\n",
       "      <td>5</td>\n",
       "      <td>7</td>\n",
       "      <td>5</td>\n",
       "      <td>61.4</td>\n",
       "      <td>58.0</td>\n",
       "      <td>1749</td>\n",
       "      <td>5.44</td>\n",
       "      <td>5.47</td>\n",
       "      <td>3.35</td>\n",
       "    </tr>\n",
       "    <tr>\n",
       "      <th>6340</th>\n",
       "      <td>1.00</td>\n",
       "      <td>3</td>\n",
       "      <td>5</td>\n",
       "      <td>3</td>\n",
       "      <td>63.8</td>\n",
       "      <td>58.0</td>\n",
       "      <td>6389</td>\n",
       "      <td>6.31</td>\n",
       "      <td>6.35</td>\n",
       "      <td>4.04</td>\n",
       "    </tr>\n",
       "    <tr>\n",
       "      <th>8856</th>\n",
       "      <td>0.70</td>\n",
       "      <td>5</td>\n",
       "      <td>4</td>\n",
       "      <td>5</td>\n",
       "      <td>61.5</td>\n",
       "      <td>56.0</td>\n",
       "      <td>2536</td>\n",
       "      <td>5.74</td>\n",
       "      <td>5.71</td>\n",
       "      <td>3.52</td>\n",
       "    </tr>\n",
       "    <tr>\n",
       "      <th>36469</th>\n",
       "      <td>0.55</td>\n",
       "      <td>5</td>\n",
       "      <td>7</td>\n",
       "      <td>5</td>\n",
       "      <td>60.6</td>\n",
       "      <td>56.0</td>\n",
       "      <td>1551</td>\n",
       "      <td>5.30</td>\n",
       "      <td>5.33</td>\n",
       "      <td>3.22</td>\n",
       "    </tr>\n",
       "  </tbody>\n",
       "</table>\n",
       "</div>"
      ],
      "text/plain": [
       "       carat  cut  color  clarity  depth  table  price     x     y     z\n",
       "4876    0.23    3      8        3   62.4   56.0    468  3.93  3.98  2.46\n",
       "19042   0.60    5      7        5   61.4   58.0   1749  5.44  5.47  3.35\n",
       "6340    1.00    3      5        3   63.8   58.0   6389  6.31  6.35  4.04\n",
       "8856    0.70    5      4        5   61.5   56.0   2536  5.74  5.71  3.52\n",
       "36469   0.55    5      7        5   60.6   56.0   1551  5.30  5.33  3.22"
      ]
     },
     "execution_count": 8,
     "metadata": {},
     "output_type": "execute_result"
    }
   ],
   "source": [
    "df = pd.read_csv('../data/diamonds_preprocessed.csv')\n",
    "df = df.sample(frac = 1)\n",
    "df.head()"
   ]
  },
  {
   "cell_type": "code",
   "execution_count": 5,
   "metadata": {},
   "outputs": [],
   "source": [
    "from sklearn.preprocessing import StandardScaler\n",
    "\n",
    "scaler = StandardScaler()\n",
    "\n",
    "data = df.drop(columns = ['price', 'cut', 'color', 'clarity', 'depth', 'table'], axis = 1)\n",
    "data = scaler.fit_transform(data)"
   ]
  },
  {
   "cell_type": "code",
   "execution_count": 34,
   "metadata": {},
   "outputs": [
    {
     "data": {
      "text/plain": [
       "['../models/scaler_model.joblib']"
      ]
     },
     "execution_count": 34,
     "metadata": {},
     "output_type": "execute_result"
    }
   ],
   "source": [
    "#import joblib\n",
    "#joblib.dump(scaler, '../models/scaler_model.joblib')"
   ]
  },
  {
   "cell_type": "code",
   "execution_count": 48,
   "metadata": {},
   "outputs": [
    {
     "data": {
      "text/html": [
       "<div>\n",
       "<style scoped>\n",
       "    .dataframe tbody tr th:only-of-type {\n",
       "        vertical-align: middle;\n",
       "    }\n",
       "\n",
       "    .dataframe tbody tr th {\n",
       "        vertical-align: top;\n",
       "    }\n",
       "\n",
       "    .dataframe thead th {\n",
       "        text-align: right;\n",
       "    }\n",
       "</style>\n",
       "<table border=\"1\" class=\"dataframe\">\n",
       "  <thead>\n",
       "    <tr style=\"text-align: right;\">\n",
       "      <th></th>\n",
       "      <th>carat</th>\n",
       "      <th>x</th>\n",
       "      <th>y</th>\n",
       "      <th>z</th>\n",
       "    </tr>\n",
       "  </thead>\n",
       "  <tbody>\n",
       "    <tr>\n",
       "      <th>0</th>\n",
       "      <td>0.002148</td>\n",
       "      <td>0.040735</td>\n",
       "      <td>-0.006983</td>\n",
       "      <td>0.315721</td>\n",
       "    </tr>\n",
       "    <tr>\n",
       "      <th>1</th>\n",
       "      <td>-0.187340</td>\n",
       "      <td>-0.075278</td>\n",
       "      <td>-0.059304</td>\n",
       "      <td>0.012569</td>\n",
       "    </tr>\n",
       "    <tr>\n",
       "      <th>2</th>\n",
       "      <td>-0.187340</td>\n",
       "      <td>-0.119899</td>\n",
       "      <td>-0.059304</td>\n",
       "      <td>0.041441</td>\n",
       "    </tr>\n",
       "    <tr>\n",
       "      <th>3</th>\n",
       "      <td>-0.987401</td>\n",
       "      <td>-1.137244</td>\n",
       "      <td>-1.149317</td>\n",
       "      <td>-1.214473</td>\n",
       "    </tr>\n",
       "    <tr>\n",
       "      <th>4</th>\n",
       "      <td>0.444287</td>\n",
       "      <td>0.540483</td>\n",
       "      <td>0.542384</td>\n",
       "      <td>0.691051</td>\n",
       "    </tr>\n",
       "  </tbody>\n",
       "</table>\n",
       "</div>"
      ],
      "text/plain": [
       "      carat         x         y         z\n",
       "0  0.002148  0.040735 -0.006983  0.315721\n",
       "1 -0.187340 -0.075278 -0.059304  0.012569\n",
       "2 -0.187340 -0.119899 -0.059304  0.041441\n",
       "3 -0.987401 -1.137244 -1.149317 -1.214473\n",
       "4  0.444287  0.540483  0.542384  0.691051"
      ]
     },
     "execution_count": 48,
     "metadata": {},
     "output_type": "execute_result"
    }
   ],
   "source": [
    "data = pd.DataFrame(data, columns = df.drop(columns = ['price', 'cut', 'color', 'clarity', 'depth', 'table'], axis = 1).columns.tolist())\n",
    "data.head()"
   ]
  },
  {
   "cell_type": "markdown",
   "metadata": {},
   "source": [
    "Determining the best number of clusters"
   ]
  },
  {
   "cell_type": "code",
   "execution_count": 49,
   "metadata": {},
   "outputs": [],
   "source": [
    "from sklearn.cluster import KMeans\n",
    "from sklearn.metrics import silhouette_score\n",
    "from kneed import KneeLocator\n",
    "\n",
    "range_n_clusters = range(2, 11)  # Testing between 2 to 10 clusters"
   ]
  },
  {
   "cell_type": "code",
   "execution_count": 177,
   "metadata": {},
   "outputs": [],
   "source": [
    "import matplotlib.pyplot as plt\n",
    "import seaborn as sns"
   ]
  },
  {
   "cell_type": "code",
   "execution_count": 51,
   "metadata": {},
   "outputs": [
    {
     "data": {
      "image/png": "[encoded data removed]",
      "text/plain": [
       "<Figure size 1000x600 with 1 Axes>"
      ]
     },
     "metadata": {},
     "output_type": "display_data"
    }
   ],
   "source": [
    "# 1. Elbow Method (Sum of Squared Distances)\n",
    "inertia = []\n",
    "for n_clusters in range_n_clusters:\n",
    "    kmeans = KMeans(n_clusters = n_clusters, random_state = 42)\n",
    "    kmeans.fit(data)\n",
    "    inertia.append(kmeans.inertia_)\n",
    "\n",
    "plt.figure(figsize = (10, 6))\n",
    "plt.plot(range_n_clusters, inertia, marker='o')\n",
    "plt.title('Elbow Method: Sum of Squared Distances')\n",
    "plt.xlabel('Number of clusters')\n",
    "plt.ylabel('Inertia (Sum of Squared Distances)')\n",
    "plt.show()"
   ]
  },
  {
   "cell_type": "code",
   "execution_count": 52,
   "metadata": {},
   "outputs": [
    {
     "data": {
      "image/png": "[encoded data removed]",
      "text/plain": [
       "<Figure size 1000x600 with 1 Axes>"
      ]
     },
     "metadata": {},
     "output_type": "display_data"
    }
   ],
   "source": [
    "# 2. Silhouette Coefficient\n",
    "\n",
    "sil_scores = []\n",
    "for n_clusters in range_n_clusters:\n",
    "    kmeans = KMeans(n_clusters = n_clusters, random_state = 42)\n",
    "    kmeans.fit(data)\n",
    "    sil_scores.append(silhouette_score(data, kmeans.labels_))\n",
    "\n",
    "plt.figure(figsize = (10, 6))\n",
    "plt.plot(range_n_clusters, sil_scores, marker='o')\n",
    "plt.title('Silhouette Coefficient')\n",
    "plt.xlabel('Number of clusters')\n",
    "plt.ylabel('Silhouette Score')\n",
    "plt.show()"
   ]
  },
  {
   "cell_type": "code",
   "execution_count": 53,
   "metadata": {},
   "outputs": [
    {
     "name": "stdout",
     "output_type": "stream",
     "text": [
      "Optimal number of clusters according to Knee Locator: 5\n"
     ]
    }
   ],
   "source": [
    "# 3. Knee Locator for Elbow Method\n",
    "# Using the kneedle algorithm to find the \"elbow\"\n",
    "kneedle = KneeLocator(range_n_clusters, inertia, curve = 'convex', direction = 'decreasing')\n",
    "\n",
    "# Print the optimal number of clusters\n",
    "print(f'Optimal number of clusters according to Knee Locator: {kneedle.elbow}')"
   ]
  },
  {
   "cell_type": "markdown",
   "metadata": {},
   "source": [
    "INSIGHT : Outcome of potential number of clusters is inconclusive. Grid search wil be applied with range from 2 to 5 clusters."
   ]
  },
  {
   "cell_type": "markdown",
   "metadata": {},
   "source": [
    "# Defining functions"
   ]
  },
  {
   "cell_type": "code",
   "execution_count": 54,
   "metadata": {},
   "outputs": [],
   "source": [
    "from sklearn.cluster import KMeans\n",
    "\n",
    "def clusters(data : pd.DataFrame, n_clusters : int) -> pd.DataFrame :\n",
    "    \n",
    "    kmeans = KMeans(n_clusters = n_clusters, random_state = 42)\n",
    "    kmeans.fit(data)\n",
    "\n",
    "    data['cluster'] = kmeans.labels_\n",
    "\n",
    "    return data['cluster'], kmeans"
   ]
  },
  {
   "cell_type": "code",
   "execution_count": 55,
   "metadata": {},
   "outputs": [],
   "source": [
    "from sklearn.model_selection import train_test_split\n",
    "from sklearn.metrics import root_mean_squared_error, mean_absolute_error\n",
    "from sklearn.preprocessing import StandardScaler\n",
    "\n",
    "from sklearn.linear_model import LinearRegression\n",
    "from sklearn.linear_model import ElasticNet\n",
    "from sklearn.ensemble import RandomForestRegressor\n",
    "from xgboost import XGBRegressor\n",
    "from lightgbm import LGBMRegressor\n",
    "from catboost import CatBoostRegressor\n",
    "from sklearn.svm import SVR\n",
    "\n",
    "def models(X, y) :\n",
    "\n",
    "    X_train, X_test, y_train, y_test = train_test_split(X, y, test_size = 0.2, random_state = 42)\n",
    "\n",
    "    scaler = StandardScaler()\n",
    "    X_train = scaler.fit_transform(X_train)\n",
    "    X_test = scaler.transform(X_test)\n",
    "\n",
    "    X_train = pd.DataFrame(X_train, columns = X.columns.tolist())\n",
    "    X_test = pd.DataFrame(X_test, columns = X.columns.tolist())\n",
    "\n",
    "    index = [\n",
    "        'Linear',\n",
    "        'Elastic Net',\n",
    "        'Random Forest',\n",
    "        'XGBoost',\n",
    "        'LightGBM',\n",
    "        'CatBoost',\n",
    "        'SVM'\n",
    "    ]\n",
    "\n",
    "    rmse = []\n",
    "    mae = []\n",
    "\n",
    "    lr = LinearRegression()\n",
    "    lr.fit(X_train, y_train)\n",
    "    lr_y_pred = lr.predict(X_test)\n",
    "    lr_rmse = root_mean_squared_error(y_test, lr_y_pred)\n",
    "    lr_mae = mean_absolute_error(y_test, lr_y_pred)\n",
    "    rmse.append(lr_rmse)\n",
    "    mae.append(lr_mae)\n",
    "\n",
    "    en = ElasticNet(alpha = 0.05, l1_ratio = 0.95, random_state = 42)\n",
    "    en.fit(X_train, y_train)\n",
    "    en_y_pred = en.predict(X_test)\n",
    "    en_rmse = root_mean_squared_error(y_test, en_y_pred)\n",
    "    en_mae = mean_absolute_error(y_test, en_y_pred)\n",
    "    rmse.append(en_rmse)\n",
    "    mae.append(en_mae)\n",
    "\n",
    "    rf = RandomForestRegressor(n_estimators = 100, random_state = 42)\n",
    "    rf.fit(X_train, y_train)\n",
    "    rf_y_pred = rf.predict(X_test)\n",
    "    rf_rmse = root_mean_squared_error(y_test, rf_y_pred)\n",
    "    rf_mae = mean_absolute_error(y_test, rf_y_pred)\n",
    "    rmse.append(rf_rmse)\n",
    "    mae.append(rf_mae)\n",
    "\n",
    "    xgb = XGBRegressor(n_estimators = 100, learning_rate = 0.1, random_state = 42)\n",
    "    xgb.fit(X_train, y_train)\n",
    "    xgb_y_pred = xgb.predict(X_test)\n",
    "    xgb_rmse = root_mean_squared_error(y_test, xgb_y_pred)\n",
    "    xgb_mae = mean_absolute_error(y_test, xgb_y_pred)\n",
    "    rmse.append(xgb_rmse)\n",
    "    mae.append(xgb_mae)\n",
    "\n",
    "    lgbm = LGBMRegressor(n_estimators = 100, learning_rate = 0.1, random_state = 42, verbose = -1)\n",
    "    lgbm.fit(X_train, y_train)\n",
    "    lgbm_y_pred = lgbm.predict(X_test)\n",
    "    lgbm_rmse = root_mean_squared_error(y_test, lgbm_y_pred)\n",
    "    lgbm_mae = mean_absolute_error(y_test, lgbm_y_pred)\n",
    "    rmse.append(lgbm_rmse)\n",
    "    mae.append(lgbm_mae)\n",
    "\n",
    "    catboost = CatBoostRegressor(n_estimators = 100, learning_rate = 0.1, random_state = 42, verbose = 0, allow_writing_files = False)\n",
    "    catboost.fit(X_train, y_train)\n",
    "    cat_y_pred = catboost.predict(X_test)\n",
    "    cat_rmse = root_mean_squared_error(y_test, cat_y_pred)\n",
    "    cat_mae = mean_absolute_error(y_test, cat_y_pred)\n",
    "    rmse.append(cat_rmse)\n",
    "    mae.append(cat_mae)\n",
    "\n",
    "    svr = SVR(kernel = 'rbf', C = 1.0, epsilon = 0.1)\n",
    "    svr.fit(X_train, y_train)\n",
    "    svm_y_pred = svr.predict(X_test)\n",
    "    svm_rmse = root_mean_squared_error(y_test, svm_y_pred)\n",
    "    svm_mae = mean_absolute_error(y_test, svm_y_pred)\n",
    "    rmse.append(svm_rmse)\n",
    "    mae.append(svm_mae)\n",
    "\n",
    "    metrics = pd.DataFrame({\n",
    "        'METHOD': index,\n",
    "        'RMSE': np.round(rmse, 2),\n",
    "        'MAE': np.round(mae, 2)\n",
    "    })\n",
    "\n",
    "    metrics.set_index('METHOD', inplace = True)\n",
    "    return metrics, y_test.mean()"
   ]
  },
  {
   "cell_type": "markdown",
   "metadata": {},
   "source": [
    "# k-Means : 2 clusters analysis"
   ]
  },
  {
   "cell_type": "code",
   "execution_count": 57,
   "metadata": {},
   "outputs": [
    {
     "data": {
      "text/plain": [
       "cluster\n",
       "0    3934.508433\n",
       "1    3946.174654\n",
       "Name: price, dtype: float64"
      ]
     },
     "execution_count": 57,
     "metadata": {},
     "output_type": "execute_result"
    }
   ],
   "source": [
    "clusters2 = df.copy()\n",
    "clusters2['cluster'], model_2 = clusters(data, 2)\n",
    "clusters2.groupby('cluster')['price'].mean()"
   ]
  },
  {
   "cell_type": "code",
   "execution_count": 58,
   "metadata": {},
   "outputs": [
    {
     "data": {
      "text/plain": [
       "cluster\n",
       "0    25911\n",
       "1    19072\n",
       "Name: count, dtype: int64"
      ]
     },
     "execution_count": 58,
     "metadata": {},
     "output_type": "execute_result"
    }
   ],
   "source": [
    "clusters2['cluster'].value_counts()"
   ]
  },
  {
   "cell_type": "code",
   "execution_count": 59,
   "metadata": {},
   "outputs": [],
   "source": [
    "c2_c0 = clusters2.query('cluster == 0')\n",
    "c2_c1 = clusters2.query('cluster == 1')"
   ]
  },
  {
   "cell_type": "code",
   "execution_count": 60,
   "metadata": {},
   "outputs": [
    {
     "data": {
      "text/html": [
       "<div>\n",
       "<style scoped>\n",
       "    .dataframe tbody tr th:only-of-type {\n",
       "        vertical-align: middle;\n",
       "    }\n",
       "\n",
       "    .dataframe tbody tr th {\n",
       "        vertical-align: top;\n",
       "    }\n",
       "\n",
       "    .dataframe thead th {\n",
       "        text-align: right;\n",
       "    }\n",
       "</style>\n",
       "<table border=\"1\" class=\"dataframe\">\n",
       "  <thead>\n",
       "    <tr style=\"text-align: right;\">\n",
       "      <th></th>\n",
       "      <th>RMSE</th>\n",
       "      <th>MAE</th>\n",
       "      <th>RMSE to mean</th>\n",
       "    </tr>\n",
       "    <tr>\n",
       "      <th>METHOD</th>\n",
       "      <th></th>\n",
       "      <th></th>\n",
       "      <th></th>\n",
       "    </tr>\n",
       "  </thead>\n",
       "  <tbody>\n",
       "    <tr>\n",
       "      <th>Linear</th>\n",
       "      <td>1393.54</td>\n",
       "      <td>871.93</td>\n",
       "      <td>0.355302</td>\n",
       "    </tr>\n",
       "    <tr>\n",
       "      <th>Elastic Net</th>\n",
       "      <td>1399.53</td>\n",
       "      <td>887.64</td>\n",
       "      <td>0.356829</td>\n",
       "    </tr>\n",
       "    <tr>\n",
       "      <th>Random Forest</th>\n",
       "      <td>1170.65</td>\n",
       "      <td>642.01</td>\n",
       "      <td>0.298473</td>\n",
       "    </tr>\n",
       "    <tr>\n",
       "      <th>XGBoost</th>\n",
       "      <td>1158.25</td>\n",
       "      <td>637.64</td>\n",
       "      <td>0.295312</td>\n",
       "    </tr>\n",
       "    <tr>\n",
       "      <th>LightGBM</th>\n",
       "      <td>1149.39</td>\n",
       "      <td>635.60</td>\n",
       "      <td>0.293053</td>\n",
       "    </tr>\n",
       "    <tr>\n",
       "      <th>CatBoost</th>\n",
       "      <td>1159.00</td>\n",
       "      <td>653.90</td>\n",
       "      <td>0.295503</td>\n",
       "    </tr>\n",
       "    <tr>\n",
       "      <th>SVM</th>\n",
       "      <td>3189.00</td>\n",
       "      <td>1617.33</td>\n",
       "      <td>0.813079</td>\n",
       "    </tr>\n",
       "  </tbody>\n",
       "</table>\n",
       "</div>"
      ],
      "text/plain": [
       "                  RMSE      MAE  RMSE to mean\n",
       "METHOD                                       \n",
       "Linear         1393.54   871.93      0.355302\n",
       "Elastic Net    1399.53   887.64      0.356829\n",
       "Random Forest  1170.65   642.01      0.298473\n",
       "XGBoost        1158.25   637.64      0.295312\n",
       "LightGBM       1149.39   635.60      0.293053\n",
       "CatBoost       1159.00   653.90      0.295503\n",
       "SVM            3189.00  1617.33      0.813079"
      ]
     },
     "execution_count": 60,
     "metadata": {},
     "output_type": "execute_result"
    }
   ],
   "source": [
    "X_c2_c0 = c2_c0.drop(columns = ['price', 'cluster'], axis = 1)\n",
    "y_c2_c0 = c2_c0['price']\n",
    "\n",
    "stats_c2_c0, c2_c0_price_mean = models(X_c2_c0, y_c2_c0)\n",
    "stats_c2_c0['RMSE to mean'] = stats_c2_c0['RMSE'].apply(lambda x: x / c2_c0_price_mean)\n",
    "stats_c2_c0"
   ]
  },
  {
   "cell_type": "code",
   "execution_count": 61,
   "metadata": {},
   "outputs": [
    {
     "data": {
      "text/html": [
       "<div>\n",
       "<style scoped>\n",
       "    .dataframe tbody tr th:only-of-type {\n",
       "        vertical-align: middle;\n",
       "    }\n",
       "\n",
       "    .dataframe tbody tr th {\n",
       "        vertical-align: top;\n",
       "    }\n",
       "\n",
       "    .dataframe thead th {\n",
       "        text-align: right;\n",
       "    }\n",
       "</style>\n",
       "<table border=\"1\" class=\"dataframe\">\n",
       "  <thead>\n",
       "    <tr style=\"text-align: right;\">\n",
       "      <th></th>\n",
       "      <th>RMSE</th>\n",
       "      <th>MAE</th>\n",
       "      <th>RMSE to mean</th>\n",
       "    </tr>\n",
       "    <tr>\n",
       "      <th>METHOD</th>\n",
       "      <th></th>\n",
       "      <th></th>\n",
       "      <th></th>\n",
       "    </tr>\n",
       "  </thead>\n",
       "  <tbody>\n",
       "    <tr>\n",
       "      <th>Linear</th>\n",
       "      <td>1417.26</td>\n",
       "      <td>882.72</td>\n",
       "      <td>0.351975</td>\n",
       "    </tr>\n",
       "    <tr>\n",
       "      <th>Elastic Net</th>\n",
       "      <td>1417.41</td>\n",
       "      <td>894.56</td>\n",
       "      <td>0.352012</td>\n",
       "    </tr>\n",
       "    <tr>\n",
       "      <th>Random Forest</th>\n",
       "      <td>1236.25</td>\n",
       "      <td>675.44</td>\n",
       "      <td>0.307021</td>\n",
       "    </tr>\n",
       "    <tr>\n",
       "      <th>XGBoost</th>\n",
       "      <td>1202.32</td>\n",
       "      <td>654.63</td>\n",
       "      <td>0.298595</td>\n",
       "    </tr>\n",
       "    <tr>\n",
       "      <th>LightGBM</th>\n",
       "      <td>1206.94</td>\n",
       "      <td>660.54</td>\n",
       "      <td>0.299742</td>\n",
       "    </tr>\n",
       "    <tr>\n",
       "      <th>CatBoost</th>\n",
       "      <td>1193.86</td>\n",
       "      <td>666.83</td>\n",
       "      <td>0.296494</td>\n",
       "    </tr>\n",
       "    <tr>\n",
       "      <th>SVM</th>\n",
       "      <td>3392.56</td>\n",
       "      <td>1778.09</td>\n",
       "      <td>0.842538</td>\n",
       "    </tr>\n",
       "  </tbody>\n",
       "</table>\n",
       "</div>"
      ],
      "text/plain": [
       "                  RMSE      MAE  RMSE to mean\n",
       "METHOD                                       \n",
       "Linear         1417.26   882.72      0.351975\n",
       "Elastic Net    1417.41   894.56      0.352012\n",
       "Random Forest  1236.25   675.44      0.307021\n",
       "XGBoost        1202.32   654.63      0.298595\n",
       "LightGBM       1206.94   660.54      0.299742\n",
       "CatBoost       1193.86   666.83      0.296494\n",
       "SVM            3392.56  1778.09      0.842538"
      ]
     },
     "execution_count": 61,
     "metadata": {},
     "output_type": "execute_result"
    }
   ],
   "source": [
    "X_c2_c1 = c2_c1.drop(columns = ['price', 'cluster'], axis = 1)\n",
    "y_c2_c1 = c2_c1['price']\n",
    "\n",
    "stats_c2_c1, c2_c1_price_mean = models(X_c2_c1, y_c2_c1)\n",
    "stats_c2_c1['RMSE to mean'] = stats_c2_c1['RMSE'].apply(lambda x: x / c2_c1_price_mean)\n",
    "stats_c2_c1"
   ]
  },
  {
   "cell_type": "markdown",
   "metadata": {},
   "source": [
    "# k-Means : 3 clusters analysis"
   ]
  },
  {
   "cell_type": "code",
   "execution_count": 62,
   "metadata": {},
   "outputs": [
    {
     "data": {
      "text/plain": [
       "cluster\n",
       "0    3923.412549\n",
       "1    3963.811314\n",
       "2    3946.410999\n",
       "Name: price, dtype: float64"
      ]
     },
     "execution_count": 62,
     "metadata": {},
     "output_type": "execute_result"
    }
   ],
   "source": [
    "clusters3 = df.copy()\n",
    "clusters3['cluster'], model_3 = clusters(data, 3)\n",
    "clusters3.groupby('cluster')['price'].mean()"
   ]
  },
  {
   "cell_type": "code",
   "execution_count": 63,
   "metadata": {},
   "outputs": [
    {
     "data": {
      "text/plain": [
       "cluster\n",
       "2    20820\n",
       "0    18153\n",
       "1     6010\n",
       "Name: count, dtype: int64"
      ]
     },
     "execution_count": 63,
     "metadata": {},
     "output_type": "execute_result"
    }
   ],
   "source": [
    "clusters3['cluster'].value_counts()"
   ]
  },
  {
   "cell_type": "code",
   "execution_count": 64,
   "metadata": {},
   "outputs": [],
   "source": [
    "c3_c0 = clusters3.query('cluster == 0')\n",
    "c3_c1 = clusters3.query('cluster == 1')\n",
    "c3_c2 = clusters3.query('cluster == 2')"
   ]
  },
  {
   "cell_type": "code",
   "execution_count": 65,
   "metadata": {},
   "outputs": [
    {
     "data": {
      "text/html": [
       "<div>\n",
       "<style scoped>\n",
       "    .dataframe tbody tr th:only-of-type {\n",
       "        vertical-align: middle;\n",
       "    }\n",
       "\n",
       "    .dataframe tbody tr th {\n",
       "        vertical-align: top;\n",
       "    }\n",
       "\n",
       "    .dataframe thead th {\n",
       "        text-align: right;\n",
       "    }\n",
       "</style>\n",
       "<table border=\"1\" class=\"dataframe\">\n",
       "  <thead>\n",
       "    <tr style=\"text-align: right;\">\n",
       "      <th></th>\n",
       "      <th>RMSE</th>\n",
       "      <th>MAE</th>\n",
       "      <th>RMSE to mean</th>\n",
       "    </tr>\n",
       "    <tr>\n",
       "      <th>METHOD</th>\n",
       "      <th></th>\n",
       "      <th></th>\n",
       "      <th></th>\n",
       "    </tr>\n",
       "  </thead>\n",
       "  <tbody>\n",
       "    <tr>\n",
       "      <th>Linear</th>\n",
       "      <td>1384.39</td>\n",
       "      <td>864.47</td>\n",
       "      <td>0.358678</td>\n",
       "    </tr>\n",
       "    <tr>\n",
       "      <th>Elastic Net</th>\n",
       "      <td>1389.37</td>\n",
       "      <td>880.55</td>\n",
       "      <td>0.359968</td>\n",
       "    </tr>\n",
       "    <tr>\n",
       "      <th>Random Forest</th>\n",
       "      <td>1163.27</td>\n",
       "      <td>639.83</td>\n",
       "      <td>0.301388</td>\n",
       "    </tr>\n",
       "    <tr>\n",
       "      <th>XGBoost</th>\n",
       "      <td>1142.65</td>\n",
       "      <td>627.39</td>\n",
       "      <td>0.296046</td>\n",
       "    </tr>\n",
       "    <tr>\n",
       "      <th>LightGBM</th>\n",
       "      <td>1144.08</td>\n",
       "      <td>631.55</td>\n",
       "      <td>0.296416</td>\n",
       "    </tr>\n",
       "    <tr>\n",
       "      <th>CatBoost</th>\n",
       "      <td>1136.31</td>\n",
       "      <td>638.28</td>\n",
       "      <td>0.294403</td>\n",
       "    </tr>\n",
       "    <tr>\n",
       "      <th>SVM</th>\n",
       "      <td>3280.00</td>\n",
       "      <td>1709.32</td>\n",
       "      <td>0.849806</td>\n",
       "    </tr>\n",
       "  </tbody>\n",
       "</table>\n",
       "</div>"
      ],
      "text/plain": [
       "                  RMSE      MAE  RMSE to mean\n",
       "METHOD                                       \n",
       "Linear         1384.39   864.47      0.358678\n",
       "Elastic Net    1389.37   880.55      0.359968\n",
       "Random Forest  1163.27   639.83      0.301388\n",
       "XGBoost        1142.65   627.39      0.296046\n",
       "LightGBM       1144.08   631.55      0.296416\n",
       "CatBoost       1136.31   638.28      0.294403\n",
       "SVM            3280.00  1709.32      0.849806"
      ]
     },
     "execution_count": 65,
     "metadata": {},
     "output_type": "execute_result"
    }
   ],
   "source": [
    "X_c3_c0 = c3_c0.drop(columns = ['price', 'cluster'], axis = 1)\n",
    "y_c3_c0 = c3_c0['price']\n",
    "\n",
    "stats_c3_c0, c3_c0_price_mean = models(X_c3_c0, y_c3_c0)\n",
    "stats_c3_c0['RMSE to mean'] = stats_c3_c0['RMSE'].apply(lambda x: x / c3_c0_price_mean)\n",
    "stats_c3_c0"
   ]
  },
  {
   "cell_type": "code",
   "execution_count": 66,
   "metadata": {},
   "outputs": [
    {
     "data": {
      "text/html": [
       "<div>\n",
       "<style scoped>\n",
       "    .dataframe tbody tr th:only-of-type {\n",
       "        vertical-align: middle;\n",
       "    }\n",
       "\n",
       "    .dataframe tbody tr th {\n",
       "        vertical-align: top;\n",
       "    }\n",
       "\n",
       "    .dataframe thead th {\n",
       "        text-align: right;\n",
       "    }\n",
       "</style>\n",
       "<table border=\"1\" class=\"dataframe\">\n",
       "  <thead>\n",
       "    <tr style=\"text-align: right;\">\n",
       "      <th></th>\n",
       "      <th>RMSE</th>\n",
       "      <th>MAE</th>\n",
       "      <th>RMSE to mean</th>\n",
       "    </tr>\n",
       "    <tr>\n",
       "      <th>METHOD</th>\n",
       "      <th></th>\n",
       "      <th></th>\n",
       "      <th></th>\n",
       "    </tr>\n",
       "  </thead>\n",
       "  <tbody>\n",
       "    <tr>\n",
       "      <th>Linear</th>\n",
       "      <td>1340.64</td>\n",
       "      <td>852.86</td>\n",
       "      <td>0.348991</td>\n",
       "    </tr>\n",
       "    <tr>\n",
       "      <th>Elastic Net</th>\n",
       "      <td>1362.21</td>\n",
       "      <td>874.74</td>\n",
       "      <td>0.354606</td>\n",
       "    </tr>\n",
       "    <tr>\n",
       "      <th>Random Forest</th>\n",
       "      <td>1235.37</td>\n",
       "      <td>664.06</td>\n",
       "      <td>0.321588</td>\n",
       "    </tr>\n",
       "    <tr>\n",
       "      <th>XGBoost</th>\n",
       "      <td>1250.60</td>\n",
       "      <td>669.14</td>\n",
       "      <td>0.325552</td>\n",
       "    </tr>\n",
       "    <tr>\n",
       "      <th>LightGBM</th>\n",
       "      <td>1256.87</td>\n",
       "      <td>665.06</td>\n",
       "      <td>0.327184</td>\n",
       "    </tr>\n",
       "    <tr>\n",
       "      <th>CatBoost</th>\n",
       "      <td>1190.56</td>\n",
       "      <td>648.68</td>\n",
       "      <td>0.309923</td>\n",
       "    </tr>\n",
       "    <tr>\n",
       "      <th>SVM</th>\n",
       "      <td>3792.42</td>\n",
       "      <td>2214.95</td>\n",
       "      <td>0.987231</td>\n",
       "    </tr>\n",
       "  </tbody>\n",
       "</table>\n",
       "</div>"
      ],
      "text/plain": [
       "                  RMSE      MAE  RMSE to mean\n",
       "METHOD                                       \n",
       "Linear         1340.64   852.86      0.348991\n",
       "Elastic Net    1362.21   874.74      0.354606\n",
       "Random Forest  1235.37   664.06      0.321588\n",
       "XGBoost        1250.60   669.14      0.325552\n",
       "LightGBM       1256.87   665.06      0.327184\n",
       "CatBoost       1190.56   648.68      0.309923\n",
       "SVM            3792.42  2214.95      0.987231"
      ]
     },
     "execution_count": 66,
     "metadata": {},
     "output_type": "execute_result"
    }
   ],
   "source": [
    "X_c3_c1 = c3_c1.drop(columns = ['price', 'cluster'], axis = 1)\n",
    "y_c3_c1 = c3_c1['price']\n",
    "\n",
    "stats_c3_c1, c3_c1_price_mean = models(X_c3_c1, y_c3_c1)\n",
    "stats_c3_c1['RMSE to mean'] = stats_c3_c1['RMSE'].apply(lambda x: x / c3_c1_price_mean)\n",
    "stats_c3_c1"
   ]
  },
  {
   "cell_type": "code",
   "execution_count": 67,
   "metadata": {},
   "outputs": [
    {
     "data": {
      "text/html": [
       "<div>\n",
       "<style scoped>\n",
       "    .dataframe tbody tr th:only-of-type {\n",
       "        vertical-align: middle;\n",
       "    }\n",
       "\n",
       "    .dataframe tbody tr th {\n",
       "        vertical-align: top;\n",
       "    }\n",
       "\n",
       "    .dataframe thead th {\n",
       "        text-align: right;\n",
       "    }\n",
       "</style>\n",
       "<table border=\"1\" class=\"dataframe\">\n",
       "  <thead>\n",
       "    <tr style=\"text-align: right;\">\n",
       "      <th></th>\n",
       "      <th>RMSE</th>\n",
       "      <th>MAE</th>\n",
       "      <th>RMSE to mean</th>\n",
       "    </tr>\n",
       "    <tr>\n",
       "      <th>METHOD</th>\n",
       "      <th></th>\n",
       "      <th></th>\n",
       "      <th></th>\n",
       "    </tr>\n",
       "  </thead>\n",
       "  <tbody>\n",
       "    <tr>\n",
       "      <th>Linear</th>\n",
       "      <td>1405.49</td>\n",
       "      <td>887.62</td>\n",
       "      <td>0.352894</td>\n",
       "    </tr>\n",
       "    <tr>\n",
       "      <th>Elastic Net</th>\n",
       "      <td>1413.18</td>\n",
       "      <td>903.70</td>\n",
       "      <td>0.354825</td>\n",
       "    </tr>\n",
       "    <tr>\n",
       "      <th>Random Forest</th>\n",
       "      <td>1168.92</td>\n",
       "      <td>655.41</td>\n",
       "      <td>0.293496</td>\n",
       "    </tr>\n",
       "    <tr>\n",
       "      <th>XGBoost</th>\n",
       "      <td>1147.49</td>\n",
       "      <td>646.72</td>\n",
       "      <td>0.288115</td>\n",
       "    </tr>\n",
       "    <tr>\n",
       "      <th>LightGBM</th>\n",
       "      <td>1137.79</td>\n",
       "      <td>644.48</td>\n",
       "      <td>0.285680</td>\n",
       "    </tr>\n",
       "    <tr>\n",
       "      <th>CatBoost</th>\n",
       "      <td>1166.14</td>\n",
       "      <td>668.24</td>\n",
       "      <td>0.292798</td>\n",
       "    </tr>\n",
       "    <tr>\n",
       "      <th>SVM</th>\n",
       "      <td>3325.02</td>\n",
       "      <td>1720.08</td>\n",
       "      <td>0.834855</td>\n",
       "    </tr>\n",
       "  </tbody>\n",
       "</table>\n",
       "</div>"
      ],
      "text/plain": [
       "                  RMSE      MAE  RMSE to mean\n",
       "METHOD                                       \n",
       "Linear         1405.49   887.62      0.352894\n",
       "Elastic Net    1413.18   903.70      0.354825\n",
       "Random Forest  1168.92   655.41      0.293496\n",
       "XGBoost        1147.49   646.72      0.288115\n",
       "LightGBM       1137.79   644.48      0.285680\n",
       "CatBoost       1166.14   668.24      0.292798\n",
       "SVM            3325.02  1720.08      0.834855"
      ]
     },
     "execution_count": 67,
     "metadata": {},
     "output_type": "execute_result"
    }
   ],
   "source": [
    "X_c3_c2 = c3_c2.drop(columns = ['price', 'cluster'], axis = 1)\n",
    "y_c3_c2 = c3_c2['price']\n",
    "\n",
    "stats_c3_c2, c3_c2_price_mean = models(X_c3_c2, y_c3_c2)\n",
    "stats_c3_c2['RMSE to mean'] = stats_c3_c2['RMSE'].apply(lambda x: x / c3_c2_price_mean)\n",
    "stats_c3_c2"
   ]
  },
  {
   "cell_type": "markdown",
   "metadata": {},
   "source": [
    "# k-Means : 4 clusters analysis"
   ]
  },
  {
   "cell_type": "code",
   "execution_count": 69,
   "metadata": {},
   "outputs": [
    {
     "data": {
      "text/plain": [
       "cluster\n",
       "0    3929.349115\n",
       "1    3946.410999\n",
       "2    3918.666949\n",
       "3    3966.463308\n",
       "Name: price, dtype: float64"
      ]
     },
     "execution_count": 69,
     "metadata": {},
     "output_type": "execute_result"
    }
   ],
   "source": [
    "clusters4 = df.copy()\n",
    "clusters4['cluster'], model_4 = clusters(data, 4)\n",
    "clusters4.groupby('cluster')['price'].mean()"
   ]
  },
  {
   "cell_type": "code",
   "execution_count": 70,
   "metadata": {},
   "outputs": [
    {
     "data": {
      "text/plain": [
       "cluster\n",
       "1    20820\n",
       "2    10632\n",
       "0     7794\n",
       "3     5737\n",
       "Name: count, dtype: int64"
      ]
     },
     "execution_count": 70,
     "metadata": {},
     "output_type": "execute_result"
    }
   ],
   "source": [
    "clusters4['cluster'].value_counts()"
   ]
  },
  {
   "cell_type": "code",
   "execution_count": 71,
   "metadata": {},
   "outputs": [],
   "source": [
    "c4_c0 = clusters4.query('cluster == 0')\n",
    "c4_c1 = clusters4.query('cluster == 1')\n",
    "c4_c2 = clusters4.query('cluster == 2')\n",
    "c4_c3 = clusters4.query('cluster == 3')"
   ]
  },
  {
   "cell_type": "code",
   "execution_count": 72,
   "metadata": {},
   "outputs": [
    {
     "data": {
      "text/html": [
       "<div>\n",
       "<style scoped>\n",
       "    .dataframe tbody tr th:only-of-type {\n",
       "        vertical-align: middle;\n",
       "    }\n",
       "\n",
       "    .dataframe tbody tr th {\n",
       "        vertical-align: top;\n",
       "    }\n",
       "\n",
       "    .dataframe thead th {\n",
       "        text-align: right;\n",
       "    }\n",
       "</style>\n",
       "<table border=\"1\" class=\"dataframe\">\n",
       "  <thead>\n",
       "    <tr style=\"text-align: right;\">\n",
       "      <th></th>\n",
       "      <th>RMSE</th>\n",
       "      <th>MAE</th>\n",
       "      <th>RMSE to mean</th>\n",
       "    </tr>\n",
       "    <tr>\n",
       "      <th>METHOD</th>\n",
       "      <th></th>\n",
       "      <th></th>\n",
       "      <th></th>\n",
       "    </tr>\n",
       "  </thead>\n",
       "  <tbody>\n",
       "    <tr>\n",
       "      <th>Linear</th>\n",
       "      <td>1364.07</td>\n",
       "      <td>861.99</td>\n",
       "      <td>0.344098</td>\n",
       "    </tr>\n",
       "    <tr>\n",
       "      <th>Elastic Net</th>\n",
       "      <td>1369.03</td>\n",
       "      <td>878.36</td>\n",
       "      <td>0.345349</td>\n",
       "    </tr>\n",
       "    <tr>\n",
       "      <th>Random Forest</th>\n",
       "      <td>1211.28</td>\n",
       "      <td>665.47</td>\n",
       "      <td>0.305555</td>\n",
       "    </tr>\n",
       "    <tr>\n",
       "      <th>XGBoost</th>\n",
       "      <td>1190.04</td>\n",
       "      <td>651.00</td>\n",
       "      <td>0.300197</td>\n",
       "    </tr>\n",
       "    <tr>\n",
       "      <th>LightGBM</th>\n",
       "      <td>1187.77</td>\n",
       "      <td>657.39</td>\n",
       "      <td>0.299625</td>\n",
       "    </tr>\n",
       "    <tr>\n",
       "      <th>CatBoost</th>\n",
       "      <td>1149.82</td>\n",
       "      <td>652.22</td>\n",
       "      <td>0.290052</td>\n",
       "    </tr>\n",
       "    <tr>\n",
       "      <th>SVM</th>\n",
       "      <td>3760.08</td>\n",
       "      <td>2219.35</td>\n",
       "      <td>0.948511</td>\n",
       "    </tr>\n",
       "  </tbody>\n",
       "</table>\n",
       "</div>"
      ],
      "text/plain": [
       "                  RMSE      MAE  RMSE to mean\n",
       "METHOD                                       \n",
       "Linear         1364.07   861.99      0.344098\n",
       "Elastic Net    1369.03   878.36      0.345349\n",
       "Random Forest  1211.28   665.47      0.305555\n",
       "XGBoost        1190.04   651.00      0.300197\n",
       "LightGBM       1187.77   657.39      0.299625\n",
       "CatBoost       1149.82   652.22      0.290052\n",
       "SVM            3760.08  2219.35      0.948511"
      ]
     },
     "execution_count": 72,
     "metadata": {},
     "output_type": "execute_result"
    }
   ],
   "source": [
    "X_c4_c0 = c4_c0.drop(columns = ['price', 'cluster'], axis = 1)\n",
    "y_c4_c0 = c4_c0['price']\n",
    "\n",
    "stats_c4_c0, c4_c0_price_mean = models(X_c4_c0, y_c4_c0)\n",
    "stats_c4_c0['RMSE to mean'] = stats_c4_c0['RMSE'].apply(lambda x: x / c4_c0_price_mean)\n",
    "stats_c4_c0"
   ]
  },
  {
   "cell_type": "code",
   "execution_count": 73,
   "metadata": {},
   "outputs": [
    {
     "data": {
      "text/html": [
       "<div>\n",
       "<style scoped>\n",
       "    .dataframe tbody tr th:only-of-type {\n",
       "        vertical-align: middle;\n",
       "    }\n",
       "\n",
       "    .dataframe tbody tr th {\n",
       "        vertical-align: top;\n",
       "    }\n",
       "\n",
       "    .dataframe thead th {\n",
       "        text-align: right;\n",
       "    }\n",
       "</style>\n",
       "<table border=\"1\" class=\"dataframe\">\n",
       "  <thead>\n",
       "    <tr style=\"text-align: right;\">\n",
       "      <th></th>\n",
       "      <th>RMSE</th>\n",
       "      <th>MAE</th>\n",
       "      <th>RMSE to mean</th>\n",
       "    </tr>\n",
       "    <tr>\n",
       "      <th>METHOD</th>\n",
       "      <th></th>\n",
       "      <th></th>\n",
       "      <th></th>\n",
       "    </tr>\n",
       "  </thead>\n",
       "  <tbody>\n",
       "    <tr>\n",
       "      <th>Linear</th>\n",
       "      <td>1405.49</td>\n",
       "      <td>887.62</td>\n",
       "      <td>0.352894</td>\n",
       "    </tr>\n",
       "    <tr>\n",
       "      <th>Elastic Net</th>\n",
       "      <td>1413.18</td>\n",
       "      <td>903.70</td>\n",
       "      <td>0.354825</td>\n",
       "    </tr>\n",
       "    <tr>\n",
       "      <th>Random Forest</th>\n",
       "      <td>1168.92</td>\n",
       "      <td>655.41</td>\n",
       "      <td>0.293496</td>\n",
       "    </tr>\n",
       "    <tr>\n",
       "      <th>XGBoost</th>\n",
       "      <td>1147.49</td>\n",
       "      <td>646.72</td>\n",
       "      <td>0.288115</td>\n",
       "    </tr>\n",
       "    <tr>\n",
       "      <th>LightGBM</th>\n",
       "      <td>1137.79</td>\n",
       "      <td>644.48</td>\n",
       "      <td>0.285680</td>\n",
       "    </tr>\n",
       "    <tr>\n",
       "      <th>CatBoost</th>\n",
       "      <td>1166.14</td>\n",
       "      <td>668.24</td>\n",
       "      <td>0.292798</td>\n",
       "    </tr>\n",
       "    <tr>\n",
       "      <th>SVM</th>\n",
       "      <td>3325.02</td>\n",
       "      <td>1720.08</td>\n",
       "      <td>0.834855</td>\n",
       "    </tr>\n",
       "  </tbody>\n",
       "</table>\n",
       "</div>"
      ],
      "text/plain": [
       "                  RMSE      MAE  RMSE to mean\n",
       "METHOD                                       \n",
       "Linear         1405.49   887.62      0.352894\n",
       "Elastic Net    1413.18   903.70      0.354825\n",
       "Random Forest  1168.92   655.41      0.293496\n",
       "XGBoost        1147.49   646.72      0.288115\n",
       "LightGBM       1137.79   644.48      0.285680\n",
       "CatBoost       1166.14   668.24      0.292798\n",
       "SVM            3325.02  1720.08      0.834855"
      ]
     },
     "execution_count": 73,
     "metadata": {},
     "output_type": "execute_result"
    }
   ],
   "source": [
    "X_c4_c1 = c4_c1.drop(columns = ['price', 'cluster'], axis = 1)\n",
    "y_c4_c1 = c4_c1['price']\n",
    "\n",
    "stats_c4_c1, c4_c1_price_mean = models(X_c4_c1, y_c4_c1)\n",
    "stats_c4_c1['RMSE to mean'] = stats_c4_c1['RMSE'].apply(lambda x: x / c4_c1_price_mean)\n",
    "stats_c4_c1"
   ]
  },
  {
   "cell_type": "code",
   "execution_count": 74,
   "metadata": {},
   "outputs": [
    {
     "data": {
      "text/html": [
       "<div>\n",
       "<style scoped>\n",
       "    .dataframe tbody tr th:only-of-type {\n",
       "        vertical-align: middle;\n",
       "    }\n",
       "\n",
       "    .dataframe tbody tr th {\n",
       "        vertical-align: top;\n",
       "    }\n",
       "\n",
       "    .dataframe thead th {\n",
       "        text-align: right;\n",
       "    }\n",
       "</style>\n",
       "<table border=\"1\" class=\"dataframe\">\n",
       "  <thead>\n",
       "    <tr style=\"text-align: right;\">\n",
       "      <th></th>\n",
       "      <th>RMSE</th>\n",
       "      <th>MAE</th>\n",
       "      <th>RMSE to mean</th>\n",
       "    </tr>\n",
       "    <tr>\n",
       "      <th>METHOD</th>\n",
       "      <th></th>\n",
       "      <th></th>\n",
       "      <th></th>\n",
       "    </tr>\n",
       "  </thead>\n",
       "  <tbody>\n",
       "    <tr>\n",
       "      <th>Linear</th>\n",
       "      <td>1396.51</td>\n",
       "      <td>856.94</td>\n",
       "      <td>0.359087</td>\n",
       "    </tr>\n",
       "    <tr>\n",
       "      <th>Elastic Net</th>\n",
       "      <td>1407.63</td>\n",
       "      <td>871.57</td>\n",
       "      <td>0.361947</td>\n",
       "    </tr>\n",
       "    <tr>\n",
       "      <th>Random Forest</th>\n",
       "      <td>1181.74</td>\n",
       "      <td>658.69</td>\n",
       "      <td>0.303863</td>\n",
       "    </tr>\n",
       "    <tr>\n",
       "      <th>XGBoost</th>\n",
       "      <td>1143.66</td>\n",
       "      <td>637.05</td>\n",
       "      <td>0.294071</td>\n",
       "    </tr>\n",
       "    <tr>\n",
       "      <th>LightGBM</th>\n",
       "      <td>1150.39</td>\n",
       "      <td>644.29</td>\n",
       "      <td>0.295802</td>\n",
       "    </tr>\n",
       "    <tr>\n",
       "      <th>CatBoost</th>\n",
       "      <td>1141.83</td>\n",
       "      <td>649.03</td>\n",
       "      <td>0.293601</td>\n",
       "    </tr>\n",
       "    <tr>\n",
       "      <th>SVM</th>\n",
       "      <td>3593.21</td>\n",
       "      <td>2007.43</td>\n",
       "      <td>0.923929</td>\n",
       "    </tr>\n",
       "  </tbody>\n",
       "</table>\n",
       "</div>"
      ],
      "text/plain": [
       "                  RMSE      MAE  RMSE to mean\n",
       "METHOD                                       \n",
       "Linear         1396.51   856.94      0.359087\n",
       "Elastic Net    1407.63   871.57      0.361947\n",
       "Random Forest  1181.74   658.69      0.303863\n",
       "XGBoost        1143.66   637.05      0.294071\n",
       "LightGBM       1150.39   644.29      0.295802\n",
       "CatBoost       1141.83   649.03      0.293601\n",
       "SVM            3593.21  2007.43      0.923929"
      ]
     },
     "execution_count": 74,
     "metadata": {},
     "output_type": "execute_result"
    }
   ],
   "source": [
    "X_c4_c2 = c4_c2.drop(columns = ['price', 'cluster'], axis = 1)\n",
    "y_c4_c2 = c4_c2['price']\n",
    "\n",
    "stats_c4_c2, c4_c2_price_mean = models(X_c4_c2, y_c4_c2)\n",
    "stats_c4_c2['RMSE to mean'] = stats_c4_c2['RMSE'].apply(lambda x: x / c4_c2_price_mean)\n",
    "stats_c4_c2"
   ]
  },
  {
   "cell_type": "code",
   "execution_count": 75,
   "metadata": {},
   "outputs": [
    {
     "data": {
      "text/html": [
       "<div>\n",
       "<style scoped>\n",
       "    .dataframe tbody tr th:only-of-type {\n",
       "        vertical-align: middle;\n",
       "    }\n",
       "\n",
       "    .dataframe tbody tr th {\n",
       "        vertical-align: top;\n",
       "    }\n",
       "\n",
       "    .dataframe thead th {\n",
       "        text-align: right;\n",
       "    }\n",
       "</style>\n",
       "<table border=\"1\" class=\"dataframe\">\n",
       "  <thead>\n",
       "    <tr style=\"text-align: right;\">\n",
       "      <th></th>\n",
       "      <th>RMSE</th>\n",
       "      <th>MAE</th>\n",
       "      <th>RMSE to mean</th>\n",
       "    </tr>\n",
       "    <tr>\n",
       "      <th>METHOD</th>\n",
       "      <th></th>\n",
       "      <th></th>\n",
       "      <th></th>\n",
       "    </tr>\n",
       "  </thead>\n",
       "  <tbody>\n",
       "    <tr>\n",
       "      <th>Linear</th>\n",
       "      <td>1489.92</td>\n",
       "      <td>931.52</td>\n",
       "      <td>0.362234</td>\n",
       "    </tr>\n",
       "    <tr>\n",
       "      <th>Elastic Net</th>\n",
       "      <td>1441.62</td>\n",
       "      <td>930.29</td>\n",
       "      <td>0.350491</td>\n",
       "    </tr>\n",
       "    <tr>\n",
       "      <th>Random Forest</th>\n",
       "      <td>1294.49</td>\n",
       "      <td>724.98</td>\n",
       "      <td>0.314720</td>\n",
       "    </tr>\n",
       "    <tr>\n",
       "      <th>XGBoost</th>\n",
       "      <td>1347.37</td>\n",
       "      <td>733.01</td>\n",
       "      <td>0.327577</td>\n",
       "    </tr>\n",
       "    <tr>\n",
       "      <th>LightGBM</th>\n",
       "      <td>1337.30</td>\n",
       "      <td>745.58</td>\n",
       "      <td>0.325128</td>\n",
       "    </tr>\n",
       "    <tr>\n",
       "      <th>CatBoost</th>\n",
       "      <td>1254.45</td>\n",
       "      <td>712.12</td>\n",
       "      <td>0.304986</td>\n",
       "    </tr>\n",
       "    <tr>\n",
       "      <th>SVM</th>\n",
       "      <td>4024.92</td>\n",
       "      <td>2424.34</td>\n",
       "      <td>0.978551</td>\n",
       "    </tr>\n",
       "  </tbody>\n",
       "</table>\n",
       "</div>"
      ],
      "text/plain": [
       "                  RMSE      MAE  RMSE to mean\n",
       "METHOD                                       \n",
       "Linear         1489.92   931.52      0.362234\n",
       "Elastic Net    1441.62   930.29      0.350491\n",
       "Random Forest  1294.49   724.98      0.314720\n",
       "XGBoost        1347.37   733.01      0.327577\n",
       "LightGBM       1337.30   745.58      0.325128\n",
       "CatBoost       1254.45   712.12      0.304986\n",
       "SVM            4024.92  2424.34      0.978551"
      ]
     },
     "execution_count": 75,
     "metadata": {},
     "output_type": "execute_result"
    }
   ],
   "source": [
    "X_c4_c3 = c4_c3.drop(columns = ['price', 'cluster'], axis = 1)\n",
    "y_c4_c3 = c4_c3['price']\n",
    "\n",
    "stats_c4_c3, c4_c3_price_mean = models(X_c4_c3, y_c4_c3)\n",
    "stats_c4_c3['RMSE to mean'] = stats_c4_c3['RMSE'].apply(lambda x: x / c4_c3_price_mean)\n",
    "stats_c4_c3"
   ]
  },
  {
   "cell_type": "markdown",
   "metadata": {},
   "source": [
    "# k-Means : 5 clusters analysis"
   ]
  },
  {
   "cell_type": "code",
   "execution_count": 76,
   "metadata": {},
   "outputs": [
    {
     "data": {
      "text/plain": [
       "cluster\n",
       "0    3929.349115\n",
       "1    3918.666949\n",
       "2    3942.998024\n",
       "3    3966.463308\n",
       "4    3952.930668\n",
       "Name: price, dtype: float64"
      ]
     },
     "execution_count": 76,
     "metadata": {},
     "output_type": "execute_result"
    }
   ],
   "source": [
    "clusters5 = df.copy()\n",
    "clusters5['cluster'], model_5 = clusters(data, 5)\n",
    "clusters5.groupby('cluster')['price'].mean()"
   ]
  },
  {
   "cell_type": "code",
   "execution_count": 77,
   "metadata": {},
   "outputs": [
    {
     "data": {
      "text/plain": [
       "cluster\n",
       "2    13666\n",
       "1    10632\n",
       "0     7794\n",
       "4     7154\n",
       "3     5737\n",
       "Name: count, dtype: int64"
      ]
     },
     "execution_count": 77,
     "metadata": {},
     "output_type": "execute_result"
    }
   ],
   "source": [
    "clusters5['cluster'].value_counts()"
   ]
  },
  {
   "cell_type": "code",
   "execution_count": 78,
   "metadata": {},
   "outputs": [],
   "source": [
    "c5_c0 = clusters5.query('cluster == 0')\n",
    "c5_c1 = clusters5.query('cluster == 1')\n",
    "c5_c2 = clusters5.query('cluster == 2')\n",
    "c5_c3 = clusters5.query('cluster == 3')\n",
    "c5_c4 = clusters5.query('cluster == 4')"
   ]
  },
  {
   "cell_type": "code",
   "execution_count": 79,
   "metadata": {},
   "outputs": [
    {
     "data": {
      "text/html": [
       "<div>\n",
       "<style scoped>\n",
       "    .dataframe tbody tr th:only-of-type {\n",
       "        vertical-align: middle;\n",
       "    }\n",
       "\n",
       "    .dataframe tbody tr th {\n",
       "        vertical-align: top;\n",
       "    }\n",
       "\n",
       "    .dataframe thead th {\n",
       "        text-align: right;\n",
       "    }\n",
       "</style>\n",
       "<table border=\"1\" class=\"dataframe\">\n",
       "  <thead>\n",
       "    <tr style=\"text-align: right;\">\n",
       "      <th></th>\n",
       "      <th>RMSE</th>\n",
       "      <th>MAE</th>\n",
       "      <th>RMSE to mean</th>\n",
       "    </tr>\n",
       "    <tr>\n",
       "      <th>METHOD</th>\n",
       "      <th></th>\n",
       "      <th></th>\n",
       "      <th></th>\n",
       "    </tr>\n",
       "  </thead>\n",
       "  <tbody>\n",
       "    <tr>\n",
       "      <th>Linear</th>\n",
       "      <td>1364.07</td>\n",
       "      <td>861.99</td>\n",
       "      <td>0.344098</td>\n",
       "    </tr>\n",
       "    <tr>\n",
       "      <th>Elastic Net</th>\n",
       "      <td>1369.03</td>\n",
       "      <td>878.36</td>\n",
       "      <td>0.345349</td>\n",
       "    </tr>\n",
       "    <tr>\n",
       "      <th>Random Forest</th>\n",
       "      <td>1211.28</td>\n",
       "      <td>665.47</td>\n",
       "      <td>0.305555</td>\n",
       "    </tr>\n",
       "    <tr>\n",
       "      <th>XGBoost</th>\n",
       "      <td>1190.04</td>\n",
       "      <td>651.00</td>\n",
       "      <td>0.300197</td>\n",
       "    </tr>\n",
       "    <tr>\n",
       "      <th>LightGBM</th>\n",
       "      <td>1187.77</td>\n",
       "      <td>657.39</td>\n",
       "      <td>0.299625</td>\n",
       "    </tr>\n",
       "    <tr>\n",
       "      <th>CatBoost</th>\n",
       "      <td>1149.82</td>\n",
       "      <td>652.22</td>\n",
       "      <td>0.290052</td>\n",
       "    </tr>\n",
       "    <tr>\n",
       "      <th>SVM</th>\n",
       "      <td>3760.08</td>\n",
       "      <td>2219.35</td>\n",
       "      <td>0.948511</td>\n",
       "    </tr>\n",
       "  </tbody>\n",
       "</table>\n",
       "</div>"
      ],
      "text/plain": [
       "                  RMSE      MAE  RMSE to mean\n",
       "METHOD                                       \n",
       "Linear         1364.07   861.99      0.344098\n",
       "Elastic Net    1369.03   878.36      0.345349\n",
       "Random Forest  1211.28   665.47      0.305555\n",
       "XGBoost        1190.04   651.00      0.300197\n",
       "LightGBM       1187.77   657.39      0.299625\n",
       "CatBoost       1149.82   652.22      0.290052\n",
       "SVM            3760.08  2219.35      0.948511"
      ]
     },
     "execution_count": 79,
     "metadata": {},
     "output_type": "execute_result"
    }
   ],
   "source": [
    "X_c5_c0 = c5_c0.drop(columns = ['price', 'cluster'], axis = 1)\n",
    "y_c5_c0 = c5_c0['price']\n",
    "\n",
    "stats_c5_c0, c5_c0_price_mean = models(X_c5_c0, y_c5_c0)\n",
    "stats_c5_c0['RMSE to mean'] = stats_c5_c0['RMSE'].apply(lambda x: x / c5_c0_price_mean)\n",
    "stats_c5_c0"
   ]
  },
  {
   "cell_type": "code",
   "execution_count": 80,
   "metadata": {},
   "outputs": [
    {
     "data": {
      "text/html": [
       "<div>\n",
       "<style scoped>\n",
       "    .dataframe tbody tr th:only-of-type {\n",
       "        vertical-align: middle;\n",
       "    }\n",
       "\n",
       "    .dataframe tbody tr th {\n",
       "        vertical-align: top;\n",
       "    }\n",
       "\n",
       "    .dataframe thead th {\n",
       "        text-align: right;\n",
       "    }\n",
       "</style>\n",
       "<table border=\"1\" class=\"dataframe\">\n",
       "  <thead>\n",
       "    <tr style=\"text-align: right;\">\n",
       "      <th></th>\n",
       "      <th>RMSE</th>\n",
       "      <th>MAE</th>\n",
       "      <th>RMSE to mean</th>\n",
       "    </tr>\n",
       "    <tr>\n",
       "      <th>METHOD</th>\n",
       "      <th></th>\n",
       "      <th></th>\n",
       "      <th></th>\n",
       "    </tr>\n",
       "  </thead>\n",
       "  <tbody>\n",
       "    <tr>\n",
       "      <th>Linear</th>\n",
       "      <td>1396.51</td>\n",
       "      <td>856.94</td>\n",
       "      <td>0.359087</td>\n",
       "    </tr>\n",
       "    <tr>\n",
       "      <th>Elastic Net</th>\n",
       "      <td>1407.63</td>\n",
       "      <td>871.57</td>\n",
       "      <td>0.361947</td>\n",
       "    </tr>\n",
       "    <tr>\n",
       "      <th>Random Forest</th>\n",
       "      <td>1181.74</td>\n",
       "      <td>658.69</td>\n",
       "      <td>0.303863</td>\n",
       "    </tr>\n",
       "    <tr>\n",
       "      <th>XGBoost</th>\n",
       "      <td>1143.66</td>\n",
       "      <td>637.05</td>\n",
       "      <td>0.294071</td>\n",
       "    </tr>\n",
       "    <tr>\n",
       "      <th>LightGBM</th>\n",
       "      <td>1150.39</td>\n",
       "      <td>644.29</td>\n",
       "      <td>0.295802</td>\n",
       "    </tr>\n",
       "    <tr>\n",
       "      <th>CatBoost</th>\n",
       "      <td>1141.83</td>\n",
       "      <td>649.03</td>\n",
       "      <td>0.293601</td>\n",
       "    </tr>\n",
       "    <tr>\n",
       "      <th>SVM</th>\n",
       "      <td>3593.21</td>\n",
       "      <td>2007.43</td>\n",
       "      <td>0.923929</td>\n",
       "    </tr>\n",
       "  </tbody>\n",
       "</table>\n",
       "</div>"
      ],
      "text/plain": [
       "                  RMSE      MAE  RMSE to mean\n",
       "METHOD                                       \n",
       "Linear         1396.51   856.94      0.359087\n",
       "Elastic Net    1407.63   871.57      0.361947\n",
       "Random Forest  1181.74   658.69      0.303863\n",
       "XGBoost        1143.66   637.05      0.294071\n",
       "LightGBM       1150.39   644.29      0.295802\n",
       "CatBoost       1141.83   649.03      0.293601\n",
       "SVM            3593.21  2007.43      0.923929"
      ]
     },
     "execution_count": 80,
     "metadata": {},
     "output_type": "execute_result"
    }
   ],
   "source": [
    "X_c5_c1 = c5_c1.drop(columns = ['price', 'cluster'], axis = 1)\n",
    "y_c5_c1 = c5_c1['price']\n",
    "\n",
    "stats_c5_c1, c5_c1_price_mean = models(X_c5_c1, y_c5_c1)\n",
    "stats_c5_c1['RMSE to mean'] = stats_c5_c1['RMSE'].apply(lambda x: x / c5_c1_price_mean)\n",
    "stats_c5_c1"
   ]
  },
  {
   "cell_type": "code",
   "execution_count": 82,
   "metadata": {},
   "outputs": [
    {
     "data": {
      "text/html": [
       "<div>\n",
       "<style scoped>\n",
       "    .dataframe tbody tr th:only-of-type {\n",
       "        vertical-align: middle;\n",
       "    }\n",
       "\n",
       "    .dataframe tbody tr th {\n",
       "        vertical-align: top;\n",
       "    }\n",
       "\n",
       "    .dataframe thead th {\n",
       "        text-align: right;\n",
       "    }\n",
       "</style>\n",
       "<table border=\"1\" class=\"dataframe\">\n",
       "  <thead>\n",
       "    <tr style=\"text-align: right;\">\n",
       "      <th></th>\n",
       "      <th>RMSE</th>\n",
       "      <th>MAE</th>\n",
       "      <th>RMSE to mean</th>\n",
       "    </tr>\n",
       "    <tr>\n",
       "      <th>METHOD</th>\n",
       "      <th></th>\n",
       "      <th></th>\n",
       "      <th></th>\n",
       "    </tr>\n",
       "  </thead>\n",
       "  <tbody>\n",
       "    <tr>\n",
       "      <th>Linear</th>\n",
       "      <td>1420.08</td>\n",
       "      <td>872.94</td>\n",
       "      <td>0.367847</td>\n",
       "    </tr>\n",
       "    <tr>\n",
       "      <th>Elastic Net</th>\n",
       "      <td>1415.15</td>\n",
       "      <td>886.33</td>\n",
       "      <td>0.366570</td>\n",
       "    </tr>\n",
       "    <tr>\n",
       "      <th>Random Forest</th>\n",
       "      <td>1109.11</td>\n",
       "      <td>636.18</td>\n",
       "      <td>0.287296</td>\n",
       "    </tr>\n",
       "    <tr>\n",
       "      <th>XGBoost</th>\n",
       "      <td>1090.58</td>\n",
       "      <td>627.48</td>\n",
       "      <td>0.282496</td>\n",
       "    </tr>\n",
       "    <tr>\n",
       "      <th>LightGBM</th>\n",
       "      <td>1087.76</td>\n",
       "      <td>624.05</td>\n",
       "      <td>0.281765</td>\n",
       "    </tr>\n",
       "    <tr>\n",
       "      <th>CatBoost</th>\n",
       "      <td>1081.13</td>\n",
       "      <td>631.99</td>\n",
       "      <td>0.280048</td>\n",
       "    </tr>\n",
       "    <tr>\n",
       "      <th>SVM</th>\n",
       "      <td>3372.52</td>\n",
       "      <td>1822.49</td>\n",
       "      <td>0.873593</td>\n",
       "    </tr>\n",
       "  </tbody>\n",
       "</table>\n",
       "</div>"
      ],
      "text/plain": [
       "                  RMSE      MAE  RMSE to mean\n",
       "METHOD                                       \n",
       "Linear         1420.08   872.94      0.367847\n",
       "Elastic Net    1415.15   886.33      0.366570\n",
       "Random Forest  1109.11   636.18      0.287296\n",
       "XGBoost        1090.58   627.48      0.282496\n",
       "LightGBM       1087.76   624.05      0.281765\n",
       "CatBoost       1081.13   631.99      0.280048\n",
       "SVM            3372.52  1822.49      0.873593"
      ]
     },
     "execution_count": 82,
     "metadata": {},
     "output_type": "execute_result"
    }
   ],
   "source": [
    "X_c5_c2 = c5_c2.drop(columns = ['price', 'cluster'], axis = 1)\n",
    "y_c5_c2 = c5_c2['price']\n",
    "\n",
    "stats_c5_c2, c5_c2_price_mean = models(X_c5_c2, y_c5_c2)\n",
    "stats_c5_c2['RMSE to mean'] = stats_c5_c2['RMSE'].apply(lambda x: x / c5_c2_price_mean)\n",
    "stats_c5_c2"
   ]
  },
  {
   "cell_type": "code",
   "execution_count": 83,
   "metadata": {},
   "outputs": [
    {
     "data": {
      "text/html": [
       "<div>\n",
       "<style scoped>\n",
       "    .dataframe tbody tr th:only-of-type {\n",
       "        vertical-align: middle;\n",
       "    }\n",
       "\n",
       "    .dataframe tbody tr th {\n",
       "        vertical-align: top;\n",
       "    }\n",
       "\n",
       "    .dataframe thead th {\n",
       "        text-align: right;\n",
       "    }\n",
       "</style>\n",
       "<table border=\"1\" class=\"dataframe\">\n",
       "  <thead>\n",
       "    <tr style=\"text-align: right;\">\n",
       "      <th></th>\n",
       "      <th>RMSE</th>\n",
       "      <th>MAE</th>\n",
       "      <th>RMSE to mean</th>\n",
       "    </tr>\n",
       "    <tr>\n",
       "      <th>METHOD</th>\n",
       "      <th></th>\n",
       "      <th></th>\n",
       "      <th></th>\n",
       "    </tr>\n",
       "  </thead>\n",
       "  <tbody>\n",
       "    <tr>\n",
       "      <th>Linear</th>\n",
       "      <td>1489.92</td>\n",
       "      <td>931.52</td>\n",
       "      <td>0.362234</td>\n",
       "    </tr>\n",
       "    <tr>\n",
       "      <th>Elastic Net</th>\n",
       "      <td>1441.62</td>\n",
       "      <td>930.29</td>\n",
       "      <td>0.350491</td>\n",
       "    </tr>\n",
       "    <tr>\n",
       "      <th>Random Forest</th>\n",
       "      <td>1294.49</td>\n",
       "      <td>724.98</td>\n",
       "      <td>0.314720</td>\n",
       "    </tr>\n",
       "    <tr>\n",
       "      <th>XGBoost</th>\n",
       "      <td>1347.37</td>\n",
       "      <td>733.01</td>\n",
       "      <td>0.327577</td>\n",
       "    </tr>\n",
       "    <tr>\n",
       "      <th>LightGBM</th>\n",
       "      <td>1337.30</td>\n",
       "      <td>745.58</td>\n",
       "      <td>0.325128</td>\n",
       "    </tr>\n",
       "    <tr>\n",
       "      <th>CatBoost</th>\n",
       "      <td>1254.45</td>\n",
       "      <td>712.12</td>\n",
       "      <td>0.304986</td>\n",
       "    </tr>\n",
       "    <tr>\n",
       "      <th>SVM</th>\n",
       "      <td>4024.92</td>\n",
       "      <td>2424.34</td>\n",
       "      <td>0.978551</td>\n",
       "    </tr>\n",
       "  </tbody>\n",
       "</table>\n",
       "</div>"
      ],
      "text/plain": [
       "                  RMSE      MAE  RMSE to mean\n",
       "METHOD                                       \n",
       "Linear         1489.92   931.52      0.362234\n",
       "Elastic Net    1441.62   930.29      0.350491\n",
       "Random Forest  1294.49   724.98      0.314720\n",
       "XGBoost        1347.37   733.01      0.327577\n",
       "LightGBM       1337.30   745.58      0.325128\n",
       "CatBoost       1254.45   712.12      0.304986\n",
       "SVM            4024.92  2424.34      0.978551"
      ]
     },
     "execution_count": 83,
     "metadata": {},
     "output_type": "execute_result"
    }
   ],
   "source": [
    "X_c5_c3 = c5_c3.drop(columns = ['price', 'cluster'], axis = 1)\n",
    "y_c5_c3 = c5_c3['price']\n",
    "\n",
    "stats_c5_c3, c5_c3_price_mean = models(X_c5_c3, y_c5_c3)\n",
    "stats_c5_c3['RMSE to mean'] = stats_c5_c3['RMSE'].apply(lambda x: x / c5_c3_price_mean)\n",
    "stats_c5_c3"
   ]
  },
  {
   "cell_type": "code",
   "execution_count": 84,
   "metadata": {},
   "outputs": [
    {
     "data": {
      "text/html": [
       "<div>\n",
       "<style scoped>\n",
       "    .dataframe tbody tr th:only-of-type {\n",
       "        vertical-align: middle;\n",
       "    }\n",
       "\n",
       "    .dataframe tbody tr th {\n",
       "        vertical-align: top;\n",
       "    }\n",
       "\n",
       "    .dataframe thead th {\n",
       "        text-align: right;\n",
       "    }\n",
       "</style>\n",
       "<table border=\"1\" class=\"dataframe\">\n",
       "  <thead>\n",
       "    <tr style=\"text-align: right;\">\n",
       "      <th></th>\n",
       "      <th>RMSE</th>\n",
       "      <th>MAE</th>\n",
       "      <th>RMSE to mean</th>\n",
       "    </tr>\n",
       "    <tr>\n",
       "      <th>METHOD</th>\n",
       "      <th></th>\n",
       "      <th></th>\n",
       "      <th></th>\n",
       "    </tr>\n",
       "  </thead>\n",
       "  <tbody>\n",
       "    <tr>\n",
       "      <th>Linear</th>\n",
       "      <td>1419.29</td>\n",
       "      <td>909.67</td>\n",
       "      <td>0.357135</td>\n",
       "    </tr>\n",
       "    <tr>\n",
       "      <th>Elastic Net</th>\n",
       "      <td>1436.02</td>\n",
       "      <td>922.17</td>\n",
       "      <td>0.361345</td>\n",
       "    </tr>\n",
       "    <tr>\n",
       "      <th>Random Forest</th>\n",
       "      <td>1227.90</td>\n",
       "      <td>673.11</td>\n",
       "      <td>0.308976</td>\n",
       "    </tr>\n",
       "    <tr>\n",
       "      <th>XGBoost</th>\n",
       "      <td>1240.09</td>\n",
       "      <td>688.87</td>\n",
       "      <td>0.312043</td>\n",
       "    </tr>\n",
       "    <tr>\n",
       "      <th>LightGBM</th>\n",
       "      <td>1212.92</td>\n",
       "      <td>675.61</td>\n",
       "      <td>0.305207</td>\n",
       "    </tr>\n",
       "    <tr>\n",
       "      <th>CatBoost</th>\n",
       "      <td>1189.07</td>\n",
       "      <td>671.05</td>\n",
       "      <td>0.299205</td>\n",
       "    </tr>\n",
       "    <tr>\n",
       "      <th>SVM</th>\n",
       "      <td>3817.43</td>\n",
       "      <td>2267.76</td>\n",
       "      <td>0.960579</td>\n",
       "    </tr>\n",
       "  </tbody>\n",
       "</table>\n",
       "</div>"
      ],
      "text/plain": [
       "                  RMSE      MAE  RMSE to mean\n",
       "METHOD                                       \n",
       "Linear         1419.29   909.67      0.357135\n",
       "Elastic Net    1436.02   922.17      0.361345\n",
       "Random Forest  1227.90   673.11      0.308976\n",
       "XGBoost        1240.09   688.87      0.312043\n",
       "LightGBM       1212.92   675.61      0.305207\n",
       "CatBoost       1189.07   671.05      0.299205\n",
       "SVM            3817.43  2267.76      0.960579"
      ]
     },
     "execution_count": 84,
     "metadata": {},
     "output_type": "execute_result"
    }
   ],
   "source": [
    "X_c5_c4 = c5_c4.drop(columns = ['price', 'cluster'], axis = 1)\n",
    "y_c5_c4 = c5_c4['price']\n",
    "\n",
    "stats_c5_c4, c5_c4_price_mean = models(X_c5_c4, y_c5_c4)\n",
    "stats_c5_c4['RMSE to mean'] = stats_c5_c4['RMSE'].apply(lambda x: x / c5_c4_price_mean)\n",
    "stats_c5_c4"
   ]
  },
  {
   "cell_type": "markdown",
   "metadata": {},
   "source": [
    "INSIGHT : Aborting the grid search process. Clustering according to carats, x, y, z didn't result with expected outcome. Let's try sth simpler - manual clustering according to price only based od price boxplot and histogram."
   ]
  },
  {
   "cell_type": "markdown",
   "metadata": {},
   "source": [
    "# Manual clustering based on price distribution"
   ]
  },
  {
   "cell_type": "code",
   "execution_count": 9,
   "metadata": {},
   "outputs": [
    {
     "data": {
      "text/html": [
       "<div>\n",
       "<style scoped>\n",
       "    .dataframe tbody tr th:only-of-type {\n",
       "        vertical-align: middle;\n",
       "    }\n",
       "\n",
       "    .dataframe tbody tr th {\n",
       "        vertical-align: top;\n",
       "    }\n",
       "\n",
       "    .dataframe thead th {\n",
       "        text-align: right;\n",
       "    }\n",
       "</style>\n",
       "<table border=\"1\" class=\"dataframe\">\n",
       "  <thead>\n",
       "    <tr style=\"text-align: right;\">\n",
       "      <th></th>\n",
       "      <th>carat</th>\n",
       "      <th>cut</th>\n",
       "      <th>color</th>\n",
       "      <th>clarity</th>\n",
       "      <th>depth</th>\n",
       "      <th>table</th>\n",
       "      <th>price</th>\n",
       "      <th>x</th>\n",
       "      <th>y</th>\n",
       "      <th>z</th>\n",
       "    </tr>\n",
       "  </thead>\n",
       "  <tbody>\n",
       "    <tr>\n",
       "      <th>10941</th>\n",
       "      <td>0.31</td>\n",
       "      <td>3</td>\n",
       "      <td>8</td>\n",
       "      <td>3</td>\n",
       "      <td>63.5</td>\n",
       "      <td>56.0</td>\n",
       "      <td>732</td>\n",
       "      <td>4.31</td>\n",
       "      <td>4.29</td>\n",
       "      <td>2.73</td>\n",
       "    </tr>\n",
       "    <tr>\n",
       "      <th>6172</th>\n",
       "      <td>1.66</td>\n",
       "      <td>3</td>\n",
       "      <td>3</td>\n",
       "      <td>3</td>\n",
       "      <td>63.0</td>\n",
       "      <td>57.0</td>\n",
       "      <td>8901</td>\n",
       "      <td>7.45</td>\n",
       "      <td>7.50</td>\n",
       "      <td>4.71</td>\n",
       "    </tr>\n",
       "    <tr>\n",
       "      <th>8908</th>\n",
       "      <td>0.51</td>\n",
       "      <td>2</td>\n",
       "      <td>5</td>\n",
       "      <td>2</td>\n",
       "      <td>63.3</td>\n",
       "      <td>58.0</td>\n",
       "      <td>1800</td>\n",
       "      <td>5.04</td>\n",
       "      <td>5.07</td>\n",
       "      <td>3.20</td>\n",
       "    </tr>\n",
       "    <tr>\n",
       "      <th>76</th>\n",
       "      <td>0.30</td>\n",
       "      <td>5</td>\n",
       "      <td>5</td>\n",
       "      <td>5</td>\n",
       "      <td>62.0</td>\n",
       "      <td>54.0</td>\n",
       "      <td>776</td>\n",
       "      <td>4.35</td>\n",
       "      <td>4.30</td>\n",
       "      <td>2.68</td>\n",
       "    </tr>\n",
       "    <tr>\n",
       "      <th>39728</th>\n",
       "      <td>0.35</td>\n",
       "      <td>4</td>\n",
       "      <td>7</td>\n",
       "      <td>4</td>\n",
       "      <td>60.8</td>\n",
       "      <td>60.0</td>\n",
       "      <td>788</td>\n",
       "      <td>4.57</td>\n",
       "      <td>4.51</td>\n",
       "      <td>2.76</td>\n",
       "    </tr>\n",
       "  </tbody>\n",
       "</table>\n",
       "</div>"
      ],
      "text/plain": [
       "       carat  cut  color  clarity  depth  table  price     x     y     z\n",
       "10941   0.31    3      8        3   63.5   56.0    732  4.31  4.29  2.73\n",
       "6172    1.66    3      3        3   63.0   57.0   8901  7.45  7.50  4.71\n",
       "8908    0.51    2      5        2   63.3   58.0   1800  5.04  5.07  3.20\n",
       "76      0.30    5      5        5   62.0   54.0    776  4.35  4.30  2.68\n",
       "39728   0.35    4      7        4   60.8   60.0    788  4.57  4.51  2.76"
      ]
     },
     "execution_count": 9,
     "metadata": {},
     "output_type": "execute_result"
    }
   ],
   "source": [
    "df = pd.read_csv('../data/diamonds_preprocessed.csv')\n",
    "df = df.sample(frac = 1)\n",
    "df.head()"
   ]
  },
  {
   "cell_type": "code",
   "execution_count": 143,
   "metadata": {},
   "outputs": [
    {
     "data": {
      "image/png": "[encoded data removed]",
      "text/plain": [
       "<Figure size 225x450 with 1 Axes>"
      ]
     },
     "metadata": {},
     "output_type": "display_data"
    }
   ],
   "source": [
    "import matplotlib.pyplot as plt\n",
    "import seaborn as sns\n",
    "\n",
    "plt.figure(figsize = (3, 6), dpi = 75)\n",
    "sns.boxplot(data = df['price'])\n",
    "plt.show();"
   ]
  },
  {
   "cell_type": "code",
   "execution_count": 147,
   "metadata": {},
   "outputs": [
    {
     "data": {
      "image/png": "[encoded data removed]",
      "text/plain": [
       "<Figure size 1200x600 with 1 Axes>"
      ]
     },
     "metadata": {},
     "output_type": "display_data"
    }
   ],
   "source": [
    "plt.figure(figsize = (16, 8), dpi = 75)\n",
    "sns.histplot(df['price'], bins = 100)\n",
    "plt.title(f'Distribution of price')\n",
    "plt.xlabel('price')\n",
    "plt.ylabel('frequency')\n",
    "plt.show();"
   ]
  },
  {
   "cell_type": "code",
   "execution_count": 151,
   "metadata": {},
   "outputs": [
    {
     "data": {
      "text/plain": [
       "(12103, 10833, 9729, 9411, 2907)"
      ]
     },
     "execution_count": 151,
     "metadata": {},
     "output_type": "execute_result"
    }
   ],
   "source": [
    "len(df.query('price < 1000')), len(df.query('price >= 1000 & price < 2500')), len(df.query('price >= 2500 & price < 5000')), len(df.query('price >= 5000 & price < 12000')), len(df.query('price >= 12000'))"
   ]
  },
  {
   "cell_type": "code",
   "execution_count": 11,
   "metadata": {},
   "outputs": [],
   "source": [
    "cluster_0 = df.query('price < 1000').copy()\n",
    "cluster_1 = df.query('price >= 1000 & price < 2500').copy()\n",
    "cluster_2 = df.query('price >= 2500 & price < 5000').copy()\n",
    "cluster_3 = df.query('price >= 5000 & price < 12000').copy()\n",
    "cluster_4 = df.query('price >= 12000').copy()"
   ]
  },
  {
   "cell_type": "code",
   "execution_count": 153,
   "metadata": {},
   "outputs": [
    {
     "data": {
      "text/html": [
       "<div>\n",
       "<style scoped>\n",
       "    .dataframe tbody tr th:only-of-type {\n",
       "        vertical-align: middle;\n",
       "    }\n",
       "\n",
       "    .dataframe tbody tr th {\n",
       "        vertical-align: top;\n",
       "    }\n",
       "\n",
       "    .dataframe thead th {\n",
       "        text-align: right;\n",
       "    }\n",
       "</style>\n",
       "<table border=\"1\" class=\"dataframe\">\n",
       "  <thead>\n",
       "    <tr style=\"text-align: right;\">\n",
       "      <th></th>\n",
       "      <th>RMSE</th>\n",
       "      <th>MAE</th>\n",
       "      <th>RMSE to mean</th>\n",
       "    </tr>\n",
       "    <tr>\n",
       "      <th>METHOD</th>\n",
       "      <th></th>\n",
       "      <th></th>\n",
       "      <th></th>\n",
       "    </tr>\n",
       "  </thead>\n",
       "  <tbody>\n",
       "    <tr>\n",
       "      <th>Linear</th>\n",
       "      <td>128.85</td>\n",
       "      <td>100.84</td>\n",
       "      <td>0.181772</td>\n",
       "    </tr>\n",
       "    <tr>\n",
       "      <th>Elastic Net</th>\n",
       "      <td>122.45</td>\n",
       "      <td>100.26</td>\n",
       "      <td>0.172743</td>\n",
       "    </tr>\n",
       "    <tr>\n",
       "      <th>Random Forest</th>\n",
       "      <td>115.29</td>\n",
       "      <td>91.66</td>\n",
       "      <td>0.162642</td>\n",
       "    </tr>\n",
       "    <tr>\n",
       "      <th>XGBoost</th>\n",
       "      <td>110.72</td>\n",
       "      <td>89.48</td>\n",
       "      <td>0.156195</td>\n",
       "    </tr>\n",
       "    <tr>\n",
       "      <th>LightGBM</th>\n",
       "      <td>110.14</td>\n",
       "      <td>89.01</td>\n",
       "      <td>0.155377</td>\n",
       "    </tr>\n",
       "    <tr>\n",
       "      <th>CatBoost</th>\n",
       "      <td>113.71</td>\n",
       "      <td>92.24</td>\n",
       "      <td>0.160414</td>\n",
       "    </tr>\n",
       "    <tr>\n",
       "      <th>SVM</th>\n",
       "      <td>128.18</td>\n",
       "      <td>105.46</td>\n",
       "      <td>0.180827</td>\n",
       "    </tr>\n",
       "  </tbody>\n",
       "</table>\n",
       "</div>"
      ],
      "text/plain": [
       "                 RMSE     MAE  RMSE to mean\n",
       "METHOD                                     \n",
       "Linear         128.85  100.84      0.181772\n",
       "Elastic Net    122.45  100.26      0.172743\n",
       "Random Forest  115.29   91.66      0.162642\n",
       "XGBoost        110.72   89.48      0.156195\n",
       "LightGBM       110.14   89.01      0.155377\n",
       "CatBoost       113.71   92.24      0.160414\n",
       "SVM            128.18  105.46      0.180827"
      ]
     },
     "execution_count": 153,
     "metadata": {},
     "output_type": "execute_result"
    }
   ],
   "source": [
    "X_cluster_0 = cluster_0.drop(columns = ['price'], axis = 1)\n",
    "y_cluster_0 = cluster_0['price']\n",
    "\n",
    "stats_cluster_0, cluster_0_price_mean = models(X_cluster_0, y_cluster_0)\n",
    "stats_cluster_0['RMSE to mean'] = stats_cluster_0['RMSE'].apply(lambda x: x / cluster_0_price_mean)\n",
    "stats_cluster_0"
   ]
  },
  {
   "cell_type": "code",
   "execution_count": 154,
   "metadata": {},
   "outputs": [
    {
     "data": {
      "text/html": [
       "<div>\n",
       "<style scoped>\n",
       "    .dataframe tbody tr th:only-of-type {\n",
       "        vertical-align: middle;\n",
       "    }\n",
       "\n",
       "    .dataframe tbody tr th {\n",
       "        vertical-align: top;\n",
       "    }\n",
       "\n",
       "    .dataframe thead th {\n",
       "        text-align: right;\n",
       "    }\n",
       "</style>\n",
       "<table border=\"1\" class=\"dataframe\">\n",
       "  <thead>\n",
       "    <tr style=\"text-align: right;\">\n",
       "      <th></th>\n",
       "      <th>RMSE</th>\n",
       "      <th>MAE</th>\n",
       "      <th>RMSE to mean</th>\n",
       "    </tr>\n",
       "    <tr>\n",
       "      <th>METHOD</th>\n",
       "      <th></th>\n",
       "      <th></th>\n",
       "      <th></th>\n",
       "    </tr>\n",
       "  </thead>\n",
       "  <tbody>\n",
       "    <tr>\n",
       "      <th>Linear</th>\n",
       "      <td>266.84</td>\n",
       "      <td>207.66</td>\n",
       "      <td>0.161115</td>\n",
       "    </tr>\n",
       "    <tr>\n",
       "      <th>Elastic Net</th>\n",
       "      <td>264.35</td>\n",
       "      <td>207.09</td>\n",
       "      <td>0.159612</td>\n",
       "    </tr>\n",
       "    <tr>\n",
       "      <th>Random Forest</th>\n",
       "      <td>247.60</td>\n",
       "      <td>183.10</td>\n",
       "      <td>0.149498</td>\n",
       "    </tr>\n",
       "    <tr>\n",
       "      <th>XGBoost</th>\n",
       "      <td>240.66</td>\n",
       "      <td>177.77</td>\n",
       "      <td>0.145308</td>\n",
       "    </tr>\n",
       "    <tr>\n",
       "      <th>LightGBM</th>\n",
       "      <td>241.16</td>\n",
       "      <td>178.34</td>\n",
       "      <td>0.145610</td>\n",
       "    </tr>\n",
       "    <tr>\n",
       "      <th>CatBoost</th>\n",
       "      <td>243.35</td>\n",
       "      <td>180.43</td>\n",
       "      <td>0.146932</td>\n",
       "    </tr>\n",
       "    <tr>\n",
       "      <th>SVM</th>\n",
       "      <td>281.62</td>\n",
       "      <td>225.08</td>\n",
       "      <td>0.170039</td>\n",
       "    </tr>\n",
       "  </tbody>\n",
       "</table>\n",
       "</div>"
      ],
      "text/plain": [
       "                 RMSE     MAE  RMSE to mean\n",
       "METHOD                                     \n",
       "Linear         266.84  207.66      0.161115\n",
       "Elastic Net    264.35  207.09      0.159612\n",
       "Random Forest  247.60  183.10      0.149498\n",
       "XGBoost        240.66  177.77      0.145308\n",
       "LightGBM       241.16  178.34      0.145610\n",
       "CatBoost       243.35  180.43      0.146932\n",
       "SVM            281.62  225.08      0.170039"
      ]
     },
     "execution_count": 154,
     "metadata": {},
     "output_type": "execute_result"
    }
   ],
   "source": [
    "X_cluster_1 = cluster_1.drop(columns = ['price'], axis = 1)\n",
    "y_cluster_1 = cluster_1['price']\n",
    "\n",
    "stats_cluster_1, cluster_1_price_mean = models(X_cluster_1, y_cluster_1)\n",
    "stats_cluster_1['RMSE to mean'] = stats_cluster_1['RMSE'].apply(lambda x: x / cluster_1_price_mean)\n",
    "stats_cluster_1"
   ]
  },
  {
   "cell_type": "code",
   "execution_count": 155,
   "metadata": {},
   "outputs": [
    {
     "data": {
      "text/html": [
       "<div>\n",
       "<style scoped>\n",
       "    .dataframe tbody tr th:only-of-type {\n",
       "        vertical-align: middle;\n",
       "    }\n",
       "\n",
       "    .dataframe tbody tr th {\n",
       "        vertical-align: top;\n",
       "    }\n",
       "\n",
       "    .dataframe thead th {\n",
       "        text-align: right;\n",
       "    }\n",
       "</style>\n",
       "<table border=\"1\" class=\"dataframe\">\n",
       "  <thead>\n",
       "    <tr style=\"text-align: right;\">\n",
       "      <th></th>\n",
       "      <th>RMSE</th>\n",
       "      <th>MAE</th>\n",
       "      <th>RMSE to mean</th>\n",
       "    </tr>\n",
       "    <tr>\n",
       "      <th>METHOD</th>\n",
       "      <th></th>\n",
       "      <th></th>\n",
       "      <th></th>\n",
       "    </tr>\n",
       "  </thead>\n",
       "  <tbody>\n",
       "    <tr>\n",
       "      <th>Linear</th>\n",
       "      <td>502.01</td>\n",
       "      <td>387.91</td>\n",
       "      <td>0.135364</td>\n",
       "    </tr>\n",
       "    <tr>\n",
       "      <th>Elastic Net</th>\n",
       "      <td>498.67</td>\n",
       "      <td>387.97</td>\n",
       "      <td>0.134464</td>\n",
       "    </tr>\n",
       "    <tr>\n",
       "      <th>Random Forest</th>\n",
       "      <td>455.23</td>\n",
       "      <td>352.63</td>\n",
       "      <td>0.122750</td>\n",
       "    </tr>\n",
       "    <tr>\n",
       "      <th>XGBoost</th>\n",
       "      <td>444.95</td>\n",
       "      <td>345.66</td>\n",
       "      <td>0.119978</td>\n",
       "    </tr>\n",
       "    <tr>\n",
       "      <th>LightGBM</th>\n",
       "      <td>446.24</td>\n",
       "      <td>346.37</td>\n",
       "      <td>0.120326</td>\n",
       "    </tr>\n",
       "    <tr>\n",
       "      <th>CatBoost</th>\n",
       "      <td>443.78</td>\n",
       "      <td>346.86</td>\n",
       "      <td>0.119663</td>\n",
       "    </tr>\n",
       "    <tr>\n",
       "      <th>SVM</th>\n",
       "      <td>520.58</td>\n",
       "      <td>434.64</td>\n",
       "      <td>0.140371</td>\n",
       "    </tr>\n",
       "  </tbody>\n",
       "</table>\n",
       "</div>"
      ],
      "text/plain": [
       "                 RMSE     MAE  RMSE to mean\n",
       "METHOD                                     \n",
       "Linear         502.01  387.91      0.135364\n",
       "Elastic Net    498.67  387.97      0.134464\n",
       "Random Forest  455.23  352.63      0.122750\n",
       "XGBoost        444.95  345.66      0.119978\n",
       "LightGBM       446.24  346.37      0.120326\n",
       "CatBoost       443.78  346.86      0.119663\n",
       "SVM            520.58  434.64      0.140371"
      ]
     },
     "execution_count": 155,
     "metadata": {},
     "output_type": "execute_result"
    }
   ],
   "source": [
    "X_cluster_2 = cluster_2.drop(columns = ['price'], axis = 1)\n",
    "y_cluster_2 = cluster_2['price']\n",
    "\n",
    "stats_cluster_2, cluster_2_price_mean = models(X_cluster_2, y_cluster_2)\n",
    "stats_cluster_2['RMSE to mean'] = stats_cluster_2['RMSE'].apply(lambda x: x / cluster_2_price_mean)\n",
    "stats_cluster_2"
   ]
  },
  {
   "cell_type": "code",
   "execution_count": 156,
   "metadata": {},
   "outputs": [
    {
     "data": {
      "text/html": [
       "<div>\n",
       "<style scoped>\n",
       "    .dataframe tbody tr th:only-of-type {\n",
       "        vertical-align: middle;\n",
       "    }\n",
       "\n",
       "    .dataframe tbody tr th {\n",
       "        vertical-align: top;\n",
       "    }\n",
       "\n",
       "    .dataframe thead th {\n",
       "        text-align: right;\n",
       "    }\n",
       "</style>\n",
       "<table border=\"1\" class=\"dataframe\">\n",
       "  <thead>\n",
       "    <tr style=\"text-align: right;\">\n",
       "      <th></th>\n",
       "      <th>RMSE</th>\n",
       "      <th>MAE</th>\n",
       "      <th>RMSE to mean</th>\n",
       "    </tr>\n",
       "    <tr>\n",
       "      <th>METHOD</th>\n",
       "      <th></th>\n",
       "      <th></th>\n",
       "      <th></th>\n",
       "    </tr>\n",
       "  </thead>\n",
       "  <tbody>\n",
       "    <tr>\n",
       "      <th>Linear</th>\n",
       "      <td>1550.78</td>\n",
       "      <td>1240.43</td>\n",
       "      <td>0.206339</td>\n",
       "    </tr>\n",
       "    <tr>\n",
       "      <th>Elastic Net</th>\n",
       "      <td>1552.83</td>\n",
       "      <td>1241.51</td>\n",
       "      <td>0.206611</td>\n",
       "    </tr>\n",
       "    <tr>\n",
       "      <th>Random Forest</th>\n",
       "      <td>1424.86</td>\n",
       "      <td>1085.76</td>\n",
       "      <td>0.189584</td>\n",
       "    </tr>\n",
       "    <tr>\n",
       "      <th>XGBoost</th>\n",
       "      <td>1393.90</td>\n",
       "      <td>1063.41</td>\n",
       "      <td>0.185465</td>\n",
       "    </tr>\n",
       "    <tr>\n",
       "      <th>LightGBM</th>\n",
       "      <td>1390.62</td>\n",
       "      <td>1067.29</td>\n",
       "      <td>0.185028</td>\n",
       "    </tr>\n",
       "    <tr>\n",
       "      <th>CatBoost</th>\n",
       "      <td>1406.88</td>\n",
       "      <td>1083.76</td>\n",
       "      <td>0.187192</td>\n",
       "    </tr>\n",
       "    <tr>\n",
       "      <th>SVM</th>\n",
       "      <td>1797.91</td>\n",
       "      <td>1460.12</td>\n",
       "      <td>0.239220</td>\n",
       "    </tr>\n",
       "  </tbody>\n",
       "</table>\n",
       "</div>"
      ],
      "text/plain": [
       "                  RMSE      MAE  RMSE to mean\n",
       "METHOD                                       \n",
       "Linear         1550.78  1240.43      0.206339\n",
       "Elastic Net    1552.83  1241.51      0.206611\n",
       "Random Forest  1424.86  1085.76      0.189584\n",
       "XGBoost        1393.90  1063.41      0.185465\n",
       "LightGBM       1390.62  1067.29      0.185028\n",
       "CatBoost       1406.88  1083.76      0.187192\n",
       "SVM            1797.91  1460.12      0.239220"
      ]
     },
     "execution_count": 156,
     "metadata": {},
     "output_type": "execute_result"
    }
   ],
   "source": [
    "X_cluster_3 = cluster_3.drop(columns = ['price'], axis = 1)\n",
    "y_cluster_3 = cluster_3['price']\n",
    "\n",
    "stats_cluster_3, cluster_3_price_mean = models(X_cluster_3, y_cluster_3)\n",
    "stats_cluster_3['RMSE to mean'] = stats_cluster_3['RMSE'].apply(lambda x: x / cluster_3_price_mean)\n",
    "stats_cluster_3"
   ]
  },
  {
   "cell_type": "code",
   "execution_count": 157,
   "metadata": {},
   "outputs": [
    {
     "data": {
      "text/html": [
       "<div>\n",
       "<style scoped>\n",
       "    .dataframe tbody tr th:only-of-type {\n",
       "        vertical-align: middle;\n",
       "    }\n",
       "\n",
       "    .dataframe tbody tr th {\n",
       "        vertical-align: top;\n",
       "    }\n",
       "\n",
       "    .dataframe thead th {\n",
       "        text-align: right;\n",
       "    }\n",
       "</style>\n",
       "<table border=\"1\" class=\"dataframe\">\n",
       "  <thead>\n",
       "    <tr style=\"text-align: right;\">\n",
       "      <th></th>\n",
       "      <th>RMSE</th>\n",
       "      <th>MAE</th>\n",
       "      <th>RMSE to mean</th>\n",
       "    </tr>\n",
       "    <tr>\n",
       "      <th>METHOD</th>\n",
       "      <th></th>\n",
       "      <th></th>\n",
       "      <th></th>\n",
       "    </tr>\n",
       "  </thead>\n",
       "  <tbody>\n",
       "    <tr>\n",
       "      <th>Linear</th>\n",
       "      <td>14987.03</td>\n",
       "      <td>2092.23</td>\n",
       "      <td>0.996207</td>\n",
       "    </tr>\n",
       "    <tr>\n",
       "      <th>Elastic Net</th>\n",
       "      <td>8832.35</td>\n",
       "      <td>1799.98</td>\n",
       "      <td>0.587098</td>\n",
       "    </tr>\n",
       "    <tr>\n",
       "      <th>Random Forest</th>\n",
       "      <td>1650.16</td>\n",
       "      <td>1340.89</td>\n",
       "      <td>0.109688</td>\n",
       "    </tr>\n",
       "    <tr>\n",
       "      <th>XGBoost</th>\n",
       "      <td>1662.43</td>\n",
       "      <td>1348.80</td>\n",
       "      <td>0.110504</td>\n",
       "    </tr>\n",
       "    <tr>\n",
       "      <th>LightGBM</th>\n",
       "      <td>1650.06</td>\n",
       "      <td>1340.87</td>\n",
       "      <td>0.109682</td>\n",
       "    </tr>\n",
       "    <tr>\n",
       "      <th>CatBoost</th>\n",
       "      <td>1641.38</td>\n",
       "      <td>1347.16</td>\n",
       "      <td>0.109105</td>\n",
       "    </tr>\n",
       "    <tr>\n",
       "      <th>SVM</th>\n",
       "      <td>1926.32</td>\n",
       "      <td>1641.79</td>\n",
       "      <td>0.128045</td>\n",
       "    </tr>\n",
       "  </tbody>\n",
       "</table>\n",
       "</div>"
      ],
      "text/plain": [
       "                   RMSE      MAE  RMSE to mean\n",
       "METHOD                                        \n",
       "Linear         14987.03  2092.23      0.996207\n",
       "Elastic Net     8832.35  1799.98      0.587098\n",
       "Random Forest   1650.16  1340.89      0.109688\n",
       "XGBoost         1662.43  1348.80      0.110504\n",
       "LightGBM        1650.06  1340.87      0.109682\n",
       "CatBoost        1641.38  1347.16      0.109105\n",
       "SVM             1926.32  1641.79      0.128045"
      ]
     },
     "execution_count": 157,
     "metadata": {},
     "output_type": "execute_result"
    }
   ],
   "source": [
    "X_cluster_4 = cluster_4.drop(columns = ['price'], axis = 1)\n",
    "y_cluster_4 = cluster_4['price']\n",
    "\n",
    "stats_cluster_4, cluster_4_price_mean = models(X_cluster_4, y_cluster_4)\n",
    "stats_cluster_4['RMSE to mean'] = stats_cluster_4['RMSE'].apply(lambda x: x / cluster_4_price_mean)\n",
    "stats_cluster_4"
   ]
  },
  {
   "cell_type": "markdown",
   "metadata": {},
   "source": [
    "INSIGHT :"
   ]
  },
  {
   "cell_type": "code",
   "execution_count": 12,
   "metadata": {},
   "outputs": [],
   "source": [
    "cluster_0['cluster'] = 0\n",
    "cluster_1['cluster'] = 1\n",
    "cluster_2['cluster'] = 2\n",
    "cluster_3['cluster'] = 3\n",
    "cluster_4['cluster'] = 4"
   ]
  },
  {
   "cell_type": "code",
   "execution_count": 13,
   "metadata": {},
   "outputs": [
    {
     "data": {
      "text/html": [
       "<div>\n",
       "<style scoped>\n",
       "    .dataframe tbody tr th:only-of-type {\n",
       "        vertical-align: middle;\n",
       "    }\n",
       "\n",
       "    .dataframe tbody tr th {\n",
       "        vertical-align: top;\n",
       "    }\n",
       "\n",
       "    .dataframe thead th {\n",
       "        text-align: right;\n",
       "    }\n",
       "</style>\n",
       "<table border=\"1\" class=\"dataframe\">\n",
       "  <thead>\n",
       "    <tr style=\"text-align: right;\">\n",
       "      <th></th>\n",
       "      <th>carat</th>\n",
       "      <th>cut</th>\n",
       "      <th>color</th>\n",
       "      <th>clarity</th>\n",
       "      <th>depth</th>\n",
       "      <th>table</th>\n",
       "      <th>price</th>\n",
       "      <th>x</th>\n",
       "      <th>y</th>\n",
       "      <th>z</th>\n",
       "      <th>cluster</th>\n",
       "    </tr>\n",
       "  </thead>\n",
       "  <tbody>\n",
       "    <tr>\n",
       "      <th>30253</th>\n",
       "      <td>0.56</td>\n",
       "      <td>3</td>\n",
       "      <td>8</td>\n",
       "      <td>3</td>\n",
       "      <td>62.0</td>\n",
       "      <td>56.0</td>\n",
       "      <td>2866</td>\n",
       "      <td>5.25</td>\n",
       "      <td>5.30</td>\n",
       "      <td>3.27</td>\n",
       "      <td>2</td>\n",
       "    </tr>\n",
       "    <tr>\n",
       "      <th>14053</th>\n",
       "      <td>0.50</td>\n",
       "      <td>4</td>\n",
       "      <td>7</td>\n",
       "      <td>4</td>\n",
       "      <td>61.4</td>\n",
       "      <td>62.0</td>\n",
       "      <td>1238</td>\n",
       "      <td>5.10</td>\n",
       "      <td>5.07</td>\n",
       "      <td>3.12</td>\n",
       "      <td>1</td>\n",
       "    </tr>\n",
       "    <tr>\n",
       "      <th>40288</th>\n",
       "      <td>1.50</td>\n",
       "      <td>2</td>\n",
       "      <td>4</td>\n",
       "      <td>2</td>\n",
       "      <td>64.3</td>\n",
       "      <td>60.0</td>\n",
       "      <td>9768</td>\n",
       "      <td>7.14</td>\n",
       "      <td>7.23</td>\n",
       "      <td>4.62</td>\n",
       "      <td>3</td>\n",
       "    </tr>\n",
       "    <tr>\n",
       "      <th>31981</th>\n",
       "      <td>0.70</td>\n",
       "      <td>5</td>\n",
       "      <td>5</td>\n",
       "      <td>5</td>\n",
       "      <td>61.9</td>\n",
       "      <td>58.0</td>\n",
       "      <td>2567</td>\n",
       "      <td>5.66</td>\n",
       "      <td>5.69</td>\n",
       "      <td>3.51</td>\n",
       "      <td>2</td>\n",
       "    </tr>\n",
       "    <tr>\n",
       "      <th>32417</th>\n",
       "      <td>0.90</td>\n",
       "      <td>3</td>\n",
       "      <td>2</td>\n",
       "      <td>3</td>\n",
       "      <td>62.6</td>\n",
       "      <td>55.0</td>\n",
       "      <td>3102</td>\n",
       "      <td>6.11</td>\n",
       "      <td>6.13</td>\n",
       "      <td>3.83</td>\n",
       "      <td>2</td>\n",
       "    </tr>\n",
       "    <tr>\n",
       "      <th>17345</th>\n",
       "      <td>0.50</td>\n",
       "      <td>3</td>\n",
       "      <td>6</td>\n",
       "      <td>3</td>\n",
       "      <td>63.1</td>\n",
       "      <td>60.0</td>\n",
       "      <td>1020</td>\n",
       "      <td>5.00</td>\n",
       "      <td>5.04</td>\n",
       "      <td>3.17</td>\n",
       "      <td>1</td>\n",
       "    </tr>\n",
       "    <tr>\n",
       "      <th>18076</th>\n",
       "      <td>0.43</td>\n",
       "      <td>4</td>\n",
       "      <td>3</td>\n",
       "      <td>4</td>\n",
       "      <td>61.2</td>\n",
       "      <td>58.0</td>\n",
       "      <td>1129</td>\n",
       "      <td>4.88</td>\n",
       "      <td>4.83</td>\n",
       "      <td>2.97</td>\n",
       "      <td>1</td>\n",
       "    </tr>\n",
       "    <tr>\n",
       "      <th>34574</th>\n",
       "      <td>1.12</td>\n",
       "      <td>5</td>\n",
       "      <td>6</td>\n",
       "      <td>5</td>\n",
       "      <td>61.9</td>\n",
       "      <td>55.0</td>\n",
       "      <td>5046</td>\n",
       "      <td>6.68</td>\n",
       "      <td>6.72</td>\n",
       "      <td>4.15</td>\n",
       "      <td>3</td>\n",
       "    </tr>\n",
       "    <tr>\n",
       "      <th>9488</th>\n",
       "      <td>0.30</td>\n",
       "      <td>5</td>\n",
       "      <td>4</td>\n",
       "      <td>5</td>\n",
       "      <td>60.7</td>\n",
       "      <td>57.0</td>\n",
       "      <td>473</td>\n",
       "      <td>4.33</td>\n",
       "      <td>4.37</td>\n",
       "      <td>2.64</td>\n",
       "      <td>0</td>\n",
       "    </tr>\n",
       "    <tr>\n",
       "      <th>25782</th>\n",
       "      <td>0.95</td>\n",
       "      <td>1</td>\n",
       "      <td>5</td>\n",
       "      <td>1</td>\n",
       "      <td>66.7</td>\n",
       "      <td>56.0</td>\n",
       "      <td>2841</td>\n",
       "      <td>6.16</td>\n",
       "      <td>6.03</td>\n",
       "      <td>4.06</td>\n",
       "      <td>2</td>\n",
       "    </tr>\n",
       "  </tbody>\n",
       "</table>\n",
       "</div>"
      ],
      "text/plain": [
       "       carat  cut  color  clarity  depth  table  price     x     y     z  \\\n",
       "30253   0.56    3      8        3   62.0   56.0   2866  5.25  5.30  3.27   \n",
       "14053   0.50    4      7        4   61.4   62.0   1238  5.10  5.07  3.12   \n",
       "40288   1.50    2      4        2   64.3   60.0   9768  7.14  7.23  4.62   \n",
       "31981   0.70    5      5        5   61.9   58.0   2567  5.66  5.69  3.51   \n",
       "32417   0.90    3      2        3   62.6   55.0   3102  6.11  6.13  3.83   \n",
       "17345   0.50    3      6        3   63.1   60.0   1020  5.00  5.04  3.17   \n",
       "18076   0.43    4      3        4   61.2   58.0   1129  4.88  4.83  2.97   \n",
       "34574   1.12    5      6        5   61.9   55.0   5046  6.68  6.72  4.15   \n",
       "9488    0.30    5      4        5   60.7   57.0    473  4.33  4.37  2.64   \n",
       "25782   0.95    1      5        1   66.7   56.0   2841  6.16  6.03  4.06   \n",
       "\n",
       "       cluster  \n",
       "30253        2  \n",
       "14053        1  \n",
       "40288        3  \n",
       "31981        2  \n",
       "32417        2  \n",
       "17345        1  \n",
       "18076        1  \n",
       "34574        3  \n",
       "9488         0  \n",
       "25782        2  "
      ]
     },
     "execution_count": 13,
     "metadata": {},
     "output_type": "execute_result"
    }
   ],
   "source": [
    "df_clusters = pd.concat([cluster_0, cluster_1, cluster_2, cluster_3, cluster_4], ignore_index = True).sample(frac = 1)\n",
    "df_clusters.head(10)"
   ]
  },
  {
   "cell_type": "code",
   "execution_count": 165,
   "metadata": {},
   "outputs": [],
   "source": [
    "cluster_0.to_csv('../data/clusters/cluster_0.csv')\n",
    "cluster_1.to_csv('../data/clusters/cluster_1.csv')\n",
    "cluster_2.to_csv('../data/clusters/cluster_2.csv')\n",
    "cluster_3.to_csv('../data/clusters/cluster_3.csv')\n",
    "cluster_4.to_csv('../data/clusters/cluster_4.csv')"
   ]
  },
  {
   "cell_type": "markdown",
   "metadata": {},
   "source": [
    "# Classifying clusters"
   ]
  },
  {
   "cell_type": "code",
   "execution_count": 7,
   "metadata": {},
   "outputs": [],
   "source": [
    "from sklearn.metrics import confusion_matrix, classification_report, roc_auc_score"
   ]
  },
  {
   "cell_type": "code",
   "execution_count": 36,
   "metadata": {},
   "outputs": [],
   "source": [
    "X_clusters = df_clusters.drop(columns = ['price', 'cluster'], axis =1)\n",
    "y_clusters = df_clusters['cluster']"
   ]
  },
  {
   "cell_type": "code",
   "execution_count": 170,
   "metadata": {},
   "outputs": [],
   "source": [
    "X_clusters_train, X_clusters_test, y_clusters_train, y_clusters_test = train_test_split(X_clusters, y_clusters, test_size = 0.2, random_state = 42)"
   ]
  },
  {
   "cell_type": "code",
   "execution_count": 171,
   "metadata": {},
   "outputs": [],
   "source": [
    "scaler = StandardScaler()\n",
    "\n",
    "X_clusters_train = scaler.fit_transform(X_clusters_train)\n",
    "X_clusters_test = scaler.transform(X_clusters_test)\n",
    "\n",
    "X_clusters_train = pd.DataFrame(X_clusters_train, columns = X_clusters.columns.tolist())\n",
    "X_clusters_test = pd.DataFrame(X_clusters_test, columns = X_clusters.columns.tolist())"
   ]
  },
  {
   "cell_type": "markdown",
   "metadata": {},
   "source": [
    "Logistic Regression Classifier"
   ]
  },
  {
   "cell_type": "code",
   "execution_count": 173,
   "metadata": {},
   "outputs": [
    {
     "name": "stdout",
     "output_type": "stream",
     "text": [
      "Logistic Regression accuracy: 0.802267422474158\n"
     ]
    }
   ],
   "source": [
    "from sklearn.linear_model import LogisticRegression\n",
    "\n",
    "# Logistic Regression for multi-class classification\n",
    "clf_logreg = LogisticRegression(multi_class = 'auto', solver = 'lbfgs', max_iter = 1000)\n",
    "clf_logreg.fit(X_clusters_train, y_clusters_train)\n",
    "\n",
    "# Evaluate\n",
    "accuracy = clf_logreg.score(X_clusters_test, y_clusters_test)\n",
    "print(\"Logistic Regression accuracy:\", accuracy)\n",
    "\n",
    "# Predict buckets for new data\n",
    "clf_logreg_preds = clf_logreg.predict(X_clusters_test)\n"
   ]
  },
  {
   "cell_type": "code",
   "execution_count": 214,
   "metadata": {},
   "outputs": [
    {
     "name": "stdout",
     "output_type": "stream",
     "text": [
      "Multi-class AUC (One-vs-Rest): 0.9677094011401316\n"
     ]
    }
   ],
   "source": [
    "clf_logreg_proba = clf_logreg.predict_proba(X_clusters_test)\n",
    "auc_score = roc_auc_score(y_clusters_test, clf_logreg_proba, multi_class = 'ovr')\n",
    "print(\"Multi-class AUC (One-vs-Rest):\", auc_score)"
   ]
  },
  {
   "cell_type": "code",
   "execution_count": 182,
   "metadata": {},
   "outputs": [
    {
     "name": "stdout",
     "output_type": "stream",
     "text": [
      "Confussion Matrix:\n"
     ]
    },
    {
     "data": {
      "image/png": "[encoded data removed]",
      "text/plain": [
       "<Figure size 640x480 with 2 Axes>"
      ]
     },
     "metadata": {},
     "output_type": "display_data"
    }
   ],
   "source": [
    "print('Confussion Matrix:')\n",
    "sns.heatmap(confusion_matrix(y_clusters_test, clf_logreg_preds), annot = True, fmt = 'd', cmap = 'Blues')\n",
    "plt.xlabel('Predicted')\n",
    "plt.ylabel('Actual')\n",
    "plt.show();"
   ]
  },
  {
   "cell_type": "code",
   "execution_count": 176,
   "metadata": {},
   "outputs": [
    {
     "name": "stdout",
     "output_type": "stream",
     "text": [
      "Classification Report:\n",
      "              precision    recall  f1-score   support\n",
      "\n",
      "           0       0.89      0.91      0.90      2436\n",
      "           1       0.82      0.78      0.80      2226\n",
      "           2       0.72      0.74      0.73      1868\n",
      "           3       0.76      0.77      0.76      1898\n",
      "           4       0.81      0.75      0.78       569\n",
      "\n",
      "    accuracy                           0.80      8997\n",
      "   macro avg       0.80      0.79      0.79      8997\n",
      "weighted avg       0.80      0.80      0.80      8997\n",
      "\n"
     ]
    }
   ],
   "source": [
    "report = classification_report(y_clusters_test, clf_logreg_preds)\n",
    "print(\"Classification Report:\")\n",
    "print(report)"
   ]
  },
  {
   "cell_type": "code",
   "execution_count": 25,
   "metadata": {},
   "outputs": [
    {
     "data": {
      "text/html": [
       "<div>\n",
       "<style scoped>\n",
       "    .dataframe tbody tr th:only-of-type {\n",
       "        vertical-align: middle;\n",
       "    }\n",
       "\n",
       "    .dataframe tbody tr th {\n",
       "        vertical-align: top;\n",
       "    }\n",
       "\n",
       "    .dataframe thead th {\n",
       "        text-align: right;\n",
       "    }\n",
       "</style>\n",
       "<table border=\"1\" class=\"dataframe\">\n",
       "  <thead>\n",
       "    <tr style=\"text-align: right;\">\n",
       "      <th></th>\n",
       "      <th>carat</th>\n",
       "      <th>cut</th>\n",
       "      <th>color</th>\n",
       "      <th>clarity</th>\n",
       "      <th>depth</th>\n",
       "      <th>table</th>\n",
       "      <th>x</th>\n",
       "      <th>y</th>\n",
       "      <th>z</th>\n",
       "    </tr>\n",
       "  </thead>\n",
       "  <tbody>\n",
       "    <tr>\n",
       "      <th>30253</th>\n",
       "      <td>0.56</td>\n",
       "      <td>3</td>\n",
       "      <td>8</td>\n",
       "      <td>3</td>\n",
       "      <td>62.0</td>\n",
       "      <td>56.0</td>\n",
       "      <td>5.25</td>\n",
       "      <td>5.30</td>\n",
       "      <td>3.27</td>\n",
       "    </tr>\n",
       "    <tr>\n",
       "      <th>14053</th>\n",
       "      <td>0.50</td>\n",
       "      <td>4</td>\n",
       "      <td>7</td>\n",
       "      <td>4</td>\n",
       "      <td>61.4</td>\n",
       "      <td>62.0</td>\n",
       "      <td>5.10</td>\n",
       "      <td>5.07</td>\n",
       "      <td>3.12</td>\n",
       "    </tr>\n",
       "    <tr>\n",
       "      <th>40288</th>\n",
       "      <td>1.50</td>\n",
       "      <td>2</td>\n",
       "      <td>4</td>\n",
       "      <td>2</td>\n",
       "      <td>64.3</td>\n",
       "      <td>60.0</td>\n",
       "      <td>7.14</td>\n",
       "      <td>7.23</td>\n",
       "      <td>4.62</td>\n",
       "    </tr>\n",
       "    <tr>\n",
       "      <th>31981</th>\n",
       "      <td>0.70</td>\n",
       "      <td>5</td>\n",
       "      <td>5</td>\n",
       "      <td>5</td>\n",
       "      <td>61.9</td>\n",
       "      <td>58.0</td>\n",
       "      <td>5.66</td>\n",
       "      <td>5.69</td>\n",
       "      <td>3.51</td>\n",
       "    </tr>\n",
       "    <tr>\n",
       "      <th>32417</th>\n",
       "      <td>0.90</td>\n",
       "      <td>3</td>\n",
       "      <td>2</td>\n",
       "      <td>3</td>\n",
       "      <td>62.6</td>\n",
       "      <td>55.0</td>\n",
       "      <td>6.11</td>\n",
       "      <td>6.13</td>\n",
       "      <td>3.83</td>\n",
       "    </tr>\n",
       "  </tbody>\n",
       "</table>\n",
       "</div>"
      ],
      "text/plain": [
       "       carat  cut  color  clarity  depth  table     x     y     z\n",
       "30253   0.56    3      8        3   62.0   56.0  5.25  5.30  3.27\n",
       "14053   0.50    4      7        4   61.4   62.0  5.10  5.07  3.12\n",
       "40288   1.50    2      4        2   64.3   60.0  7.14  7.23  4.62\n",
       "31981   0.70    5      5        5   61.9   58.0  5.66  5.69  3.51\n",
       "32417   0.90    3      2        3   62.6   55.0  6.11  6.13  3.83"
      ]
     },
     "execution_count": 25,
     "metadata": {},
     "output_type": "execute_result"
    }
   ],
   "source": [
    "X = df_clusters.drop(columns = ['price', 'cluster'], axis = 1)\n",
    "X.head()"
   ]
  },
  {
   "cell_type": "code",
   "execution_count": 31,
   "metadata": {},
   "outputs": [],
   "source": [
    "from sklearn.preprocessing import PolynomialFeatures\n",
    "\n",
    "poly = PolynomialFeatures(degree = 2, interaction_only = True)  # 2nd-degree interactions\n",
    "X_poly = poly.fit_transform(X)"
   ]
  },
  {
   "cell_type": "code",
   "execution_count": 32,
   "metadata": {},
   "outputs": [
    {
     "data": {
      "text/html": [
       "<div>\n",
       "<style scoped>\n",
       "    .dataframe tbody tr th:only-of-type {\n",
       "        vertical-align: middle;\n",
       "    }\n",
       "\n",
       "    .dataframe tbody tr th {\n",
       "        vertical-align: top;\n",
       "    }\n",
       "\n",
       "    .dataframe thead th {\n",
       "        text-align: right;\n",
       "    }\n",
       "</style>\n",
       "<table border=\"1\" class=\"dataframe\">\n",
       "  <thead>\n",
       "    <tr style=\"text-align: right;\">\n",
       "      <th></th>\n",
       "      <th>0</th>\n",
       "      <th>1</th>\n",
       "      <th>2</th>\n",
       "      <th>3</th>\n",
       "      <th>4</th>\n",
       "      <th>5</th>\n",
       "      <th>6</th>\n",
       "      <th>7</th>\n",
       "      <th>8</th>\n",
       "      <th>9</th>\n",
       "      <th>...</th>\n",
       "      <th>36</th>\n",
       "      <th>37</th>\n",
       "      <th>38</th>\n",
       "      <th>39</th>\n",
       "      <th>40</th>\n",
       "      <th>41</th>\n",
       "      <th>42</th>\n",
       "      <th>43</th>\n",
       "      <th>44</th>\n",
       "      <th>45</th>\n",
       "    </tr>\n",
       "  </thead>\n",
       "  <tbody>\n",
       "    <tr>\n",
       "      <th>0</th>\n",
       "      <td>1.0</td>\n",
       "      <td>0.56</td>\n",
       "      <td>3.0</td>\n",
       "      <td>8.0</td>\n",
       "      <td>3.0</td>\n",
       "      <td>62.0</td>\n",
       "      <td>56.0</td>\n",
       "      <td>5.25</td>\n",
       "      <td>5.30</td>\n",
       "      <td>3.27</td>\n",
       "      <td>...</td>\n",
       "      <td>3472.0</td>\n",
       "      <td>325.500</td>\n",
       "      <td>328.600</td>\n",
       "      <td>202.740</td>\n",
       "      <td>294.00</td>\n",
       "      <td>296.80</td>\n",
       "      <td>183.12</td>\n",
       "      <td>27.8250</td>\n",
       "      <td>17.1675</td>\n",
       "      <td>17.3310</td>\n",
       "    </tr>\n",
       "    <tr>\n",
       "      <th>1</th>\n",
       "      <td>1.0</td>\n",
       "      <td>0.50</td>\n",
       "      <td>4.0</td>\n",
       "      <td>7.0</td>\n",
       "      <td>4.0</td>\n",
       "      <td>61.4</td>\n",
       "      <td>62.0</td>\n",
       "      <td>5.10</td>\n",
       "      <td>5.07</td>\n",
       "      <td>3.12</td>\n",
       "      <td>...</td>\n",
       "      <td>3806.8</td>\n",
       "      <td>313.140</td>\n",
       "      <td>311.298</td>\n",
       "      <td>191.568</td>\n",
       "      <td>316.20</td>\n",
       "      <td>314.34</td>\n",
       "      <td>193.44</td>\n",
       "      <td>25.8570</td>\n",
       "      <td>15.9120</td>\n",
       "      <td>15.8184</td>\n",
       "    </tr>\n",
       "    <tr>\n",
       "      <th>2</th>\n",
       "      <td>1.0</td>\n",
       "      <td>1.50</td>\n",
       "      <td>2.0</td>\n",
       "      <td>4.0</td>\n",
       "      <td>2.0</td>\n",
       "      <td>64.3</td>\n",
       "      <td>60.0</td>\n",
       "      <td>7.14</td>\n",
       "      <td>7.23</td>\n",
       "      <td>4.62</td>\n",
       "      <td>...</td>\n",
       "      <td>3858.0</td>\n",
       "      <td>459.102</td>\n",
       "      <td>464.889</td>\n",
       "      <td>297.066</td>\n",
       "      <td>428.40</td>\n",
       "      <td>433.80</td>\n",
       "      <td>277.20</td>\n",
       "      <td>51.6222</td>\n",
       "      <td>32.9868</td>\n",
       "      <td>33.4026</td>\n",
       "    </tr>\n",
       "    <tr>\n",
       "      <th>3</th>\n",
       "      <td>1.0</td>\n",
       "      <td>0.70</td>\n",
       "      <td>5.0</td>\n",
       "      <td>5.0</td>\n",
       "      <td>5.0</td>\n",
       "      <td>61.9</td>\n",
       "      <td>58.0</td>\n",
       "      <td>5.66</td>\n",
       "      <td>5.69</td>\n",
       "      <td>3.51</td>\n",
       "      <td>...</td>\n",
       "      <td>3590.2</td>\n",
       "      <td>350.354</td>\n",
       "      <td>352.211</td>\n",
       "      <td>217.269</td>\n",
       "      <td>328.28</td>\n",
       "      <td>330.02</td>\n",
       "      <td>203.58</td>\n",
       "      <td>32.2054</td>\n",
       "      <td>19.8666</td>\n",
       "      <td>19.9719</td>\n",
       "    </tr>\n",
       "    <tr>\n",
       "      <th>4</th>\n",
       "      <td>1.0</td>\n",
       "      <td>0.90</td>\n",
       "      <td>3.0</td>\n",
       "      <td>2.0</td>\n",
       "      <td>3.0</td>\n",
       "      <td>62.6</td>\n",
       "      <td>55.0</td>\n",
       "      <td>6.11</td>\n",
       "      <td>6.13</td>\n",
       "      <td>3.83</td>\n",
       "      <td>...</td>\n",
       "      <td>3443.0</td>\n",
       "      <td>382.486</td>\n",
       "      <td>383.738</td>\n",
       "      <td>239.758</td>\n",
       "      <td>336.05</td>\n",
       "      <td>337.15</td>\n",
       "      <td>210.65</td>\n",
       "      <td>37.4543</td>\n",
       "      <td>23.4013</td>\n",
       "      <td>23.4779</td>\n",
       "    </tr>\n",
       "  </tbody>\n",
       "</table>\n",
       "<p>5 rows × 46 columns</p>\n",
       "</div>"
      ],
      "text/plain": [
       "    0     1    2    3    4     5     6     7     8     9   ...      36  \\\n",
       "0  1.0  0.56  3.0  8.0  3.0  62.0  56.0  5.25  5.30  3.27  ...  3472.0   \n",
       "1  1.0  0.50  4.0  7.0  4.0  61.4  62.0  5.10  5.07  3.12  ...  3806.8   \n",
       "2  1.0  1.50  2.0  4.0  2.0  64.3  60.0  7.14  7.23  4.62  ...  3858.0   \n",
       "3  1.0  0.70  5.0  5.0  5.0  61.9  58.0  5.66  5.69  3.51  ...  3590.2   \n",
       "4  1.0  0.90  3.0  2.0  3.0  62.6  55.0  6.11  6.13  3.83  ...  3443.0   \n",
       "\n",
       "        37       38       39      40      41      42       43       44  \\\n",
       "0  325.500  328.600  202.740  294.00  296.80  183.12  27.8250  17.1675   \n",
       "1  313.140  311.298  191.568  316.20  314.34  193.44  25.8570  15.9120   \n",
       "2  459.102  464.889  297.066  428.40  433.80  277.20  51.6222  32.9868   \n",
       "3  350.354  352.211  217.269  328.28  330.02  203.58  32.2054  19.8666   \n",
       "4  382.486  383.738  239.758  336.05  337.15  210.65  37.4543  23.4013   \n",
       "\n",
       "        45  \n",
       "0  17.3310  \n",
       "1  15.8184  \n",
       "2  33.4026  \n",
       "3  19.9719  \n",
       "4  23.4779  \n",
       "\n",
       "[5 rows x 46 columns]"
      ]
     },
     "execution_count": 32,
     "metadata": {},
     "output_type": "execute_result"
    }
   ],
   "source": [
    "df_X_poly = pd.DataFrame(X_poly)\n",
    "df_X_poly.head()"
   ]
  },
  {
   "cell_type": "code",
   "execution_count": 40,
   "metadata": {},
   "outputs": [
    {
     "data": {
      "text/html": [
       "<div>\n",
       "<style scoped>\n",
       "    .dataframe tbody tr th:only-of-type {\n",
       "        vertical-align: middle;\n",
       "    }\n",
       "\n",
       "    .dataframe tbody tr th {\n",
       "        vertical-align: top;\n",
       "    }\n",
       "\n",
       "    .dataframe thead th {\n",
       "        text-align: right;\n",
       "    }\n",
       "</style>\n",
       "<table border=\"1\" class=\"dataframe\">\n",
       "  <thead>\n",
       "    <tr style=\"text-align: right;\">\n",
       "      <th></th>\n",
       "      <th>carat</th>\n",
       "      <th>cut</th>\n",
       "      <th>color</th>\n",
       "      <th>clarity</th>\n",
       "      <th>depth</th>\n",
       "      <th>table</th>\n",
       "      <th>x</th>\n",
       "      <th>y</th>\n",
       "      <th>z</th>\n",
       "      <th>0</th>\n",
       "      <th>...</th>\n",
       "      <th>36</th>\n",
       "      <th>37</th>\n",
       "      <th>38</th>\n",
       "      <th>39</th>\n",
       "      <th>40</th>\n",
       "      <th>41</th>\n",
       "      <th>42</th>\n",
       "      <th>43</th>\n",
       "      <th>44</th>\n",
       "      <th>45</th>\n",
       "    </tr>\n",
       "  </thead>\n",
       "  <tbody>\n",
       "    <tr>\n",
       "      <th>30253</th>\n",
       "      <td>0.56</td>\n",
       "      <td>3</td>\n",
       "      <td>8</td>\n",
       "      <td>3</td>\n",
       "      <td>62.0</td>\n",
       "      <td>56.0</td>\n",
       "      <td>5.25</td>\n",
       "      <td>5.30</td>\n",
       "      <td>3.27</td>\n",
       "      <td>1.0</td>\n",
       "      <td>...</td>\n",
       "      <td>3483.2</td>\n",
       "      <td>281.766</td>\n",
       "      <td>278.656</td>\n",
       "      <td>174.160</td>\n",
       "      <td>253.68</td>\n",
       "      <td>250.88</td>\n",
       "      <td>156.80</td>\n",
       "      <td>20.2944</td>\n",
       "      <td>12.6840</td>\n",
       "      <td>12.5440</td>\n",
       "    </tr>\n",
       "    <tr>\n",
       "      <th>14053</th>\n",
       "      <td>0.50</td>\n",
       "      <td>4</td>\n",
       "      <td>7</td>\n",
       "      <td>4</td>\n",
       "      <td>61.4</td>\n",
       "      <td>62.0</td>\n",
       "      <td>5.10</td>\n",
       "      <td>5.07</td>\n",
       "      <td>3.12</td>\n",
       "      <td>1.0</td>\n",
       "      <td>...</td>\n",
       "      <td>3538.0</td>\n",
       "      <td>286.700</td>\n",
       "      <td>289.750</td>\n",
       "      <td>175.680</td>\n",
       "      <td>272.60</td>\n",
       "      <td>275.50</td>\n",
       "      <td>167.04</td>\n",
       "      <td>22.3250</td>\n",
       "      <td>13.5360</td>\n",
       "      <td>13.6800</td>\n",
       "    </tr>\n",
       "    <tr>\n",
       "      <th>40288</th>\n",
       "      <td>1.50</td>\n",
       "      <td>2</td>\n",
       "      <td>4</td>\n",
       "      <td>2</td>\n",
       "      <td>64.3</td>\n",
       "      <td>60.0</td>\n",
       "      <td>7.14</td>\n",
       "      <td>7.23</td>\n",
       "      <td>4.62</td>\n",
       "      <td>1.0</td>\n",
       "      <td>...</td>\n",
       "      <td>3348.0</td>\n",
       "      <td>266.600</td>\n",
       "      <td>269.080</td>\n",
       "      <td>166.160</td>\n",
       "      <td>232.20</td>\n",
       "      <td>234.36</td>\n",
       "      <td>144.72</td>\n",
       "      <td>18.6620</td>\n",
       "      <td>11.5240</td>\n",
       "      <td>11.6312</td>\n",
       "    </tr>\n",
       "    <tr>\n",
       "      <th>31981</th>\n",
       "      <td>0.70</td>\n",
       "      <td>5</td>\n",
       "      <td>5</td>\n",
       "      <td>5</td>\n",
       "      <td>61.9</td>\n",
       "      <td>58.0</td>\n",
       "      <td>5.66</td>\n",
       "      <td>5.69</td>\n",
       "      <td>3.51</td>\n",
       "      <td>1.0</td>\n",
       "      <td>...</td>\n",
       "      <td>3485.8</td>\n",
       "      <td>393.655</td>\n",
       "      <td>391.852</td>\n",
       "      <td>236.193</td>\n",
       "      <td>379.90</td>\n",
       "      <td>378.16</td>\n",
       "      <td>227.94</td>\n",
       "      <td>42.7060</td>\n",
       "      <td>25.7415</td>\n",
       "      <td>25.6236</td>\n",
       "    </tr>\n",
       "    <tr>\n",
       "      <th>32417</th>\n",
       "      <td>0.90</td>\n",
       "      <td>3</td>\n",
       "      <td>2</td>\n",
       "      <td>3</td>\n",
       "      <td>62.6</td>\n",
       "      <td>55.0</td>\n",
       "      <td>6.11</td>\n",
       "      <td>6.13</td>\n",
       "      <td>3.83</td>\n",
       "      <td>1.0</td>\n",
       "      <td>...</td>\n",
       "      <td>3516.9</td>\n",
       "      <td>315.904</td>\n",
       "      <td>317.755</td>\n",
       "      <td>195.589</td>\n",
       "      <td>291.84</td>\n",
       "      <td>293.55</td>\n",
       "      <td>180.69</td>\n",
       "      <td>26.3680</td>\n",
       "      <td>16.2304</td>\n",
       "      <td>16.3255</td>\n",
       "    </tr>\n",
       "  </tbody>\n",
       "</table>\n",
       "<p>5 rows × 55 columns</p>\n",
       "</div>"
      ],
      "text/plain": [
       "       carat  cut  color  clarity  depth  table     x     y     z    0  ...  \\\n",
       "30253   0.56    3      8        3   62.0   56.0  5.25  5.30  3.27  1.0  ...   \n",
       "14053   0.50    4      7        4   61.4   62.0  5.10  5.07  3.12  1.0  ...   \n",
       "40288   1.50    2      4        2   64.3   60.0  7.14  7.23  4.62  1.0  ...   \n",
       "31981   0.70    5      5        5   61.9   58.0  5.66  5.69  3.51  1.0  ...   \n",
       "32417   0.90    3      2        3   62.6   55.0  6.11  6.13  3.83  1.0  ...   \n",
       "\n",
       "           36       37       38       39      40      41      42       43  \\\n",
       "30253  3483.2  281.766  278.656  174.160  253.68  250.88  156.80  20.2944   \n",
       "14053  3538.0  286.700  289.750  175.680  272.60  275.50  167.04  22.3250   \n",
       "40288  3348.0  266.600  269.080  166.160  232.20  234.36  144.72  18.6620   \n",
       "31981  3485.8  393.655  391.852  236.193  379.90  378.16  227.94  42.7060   \n",
       "32417  3516.9  315.904  317.755  195.589  291.84  293.55  180.69  26.3680   \n",
       "\n",
       "            44       45  \n",
       "30253  12.6840  12.5440  \n",
       "14053  13.5360  13.6800  \n",
       "40288  11.5240  11.6312  \n",
       "31981  25.7415  25.6236  \n",
       "32417  16.2304  16.3255  \n",
       "\n",
       "[5 rows x 55 columns]"
      ]
     },
     "execution_count": 40,
     "metadata": {},
     "output_type": "execute_result"
    }
   ],
   "source": [
    "df_X_poly.columns = df_X_poly.columns.astype(str) \n",
    "\n",
    "X_combined = pd.concat([X, df_X_poly], axis = 1)\n",
    "X_combined.head()"
   ]
  },
  {
   "cell_type": "code",
   "execution_count": 41,
   "metadata": {},
   "outputs": [],
   "source": [
    "from sklearn.model_selection import train_test_split\n",
    "X_combined_train, X_combined_test, y_clusters_train, y_clusters_test = train_test_split(X_combined, y_clusters, test_size = 0.2, random_state = 42)"
   ]
  },
  {
   "cell_type": "code",
   "execution_count": 42,
   "metadata": {},
   "outputs": [],
   "source": [
    "X_combined_train = scaler.fit_transform(X_combined_train)\n",
    "X_combined_test = scaler.transform(X_combined_test)\n",
    "\n",
    "X_combined_train = pd.DataFrame(X_combined_train, columns = X_combined.columns.tolist())\n",
    "X_combined_test = pd.DataFrame(X_combined_test, columns = X_combined.columns.tolist())"
   ]
  },
  {
   "cell_type": "code",
   "execution_count": null,
   "metadata": {},
   "outputs": [],
   "source": []
  },
  {
   "cell_type": "code",
   "execution_count": null,
   "metadata": {},
   "outputs": [],
   "source": []
  },
  {
   "cell_type": "markdown",
   "metadata": {},
   "source": [
    "Random Forest Classifier"
   ]
  },
  {
   "cell_type": "code",
   "execution_count": 185,
   "metadata": {},
   "outputs": [
    {
     "name": "stdout",
     "output_type": "stream",
     "text": [
      "Random Forest accuracy: 0.8126042014004669\n"
     ]
    }
   ],
   "source": [
    "from sklearn.ensemble import RandomForestClassifier\n",
    "\n",
    "# Using the same X_train, X_test, y_train, y_test from above\n",
    "clf_rf = RandomForestClassifier(n_estimators = 100, random_state = 42)\n",
    "clf_rf.fit(X_clusters_train, y_clusters_train)\n",
    "\n",
    "accuracy_rf = clf_rf.score(X_clusters_test, y_clusters_test)\n",
    "print(\"Random Forest accuracy:\", accuracy_rf)\n",
    "\n",
    "clf_rf_preds = clf_rf.predict(X_clusters_test)"
   ]
  },
  {
   "cell_type": "code",
   "execution_count": 215,
   "metadata": {},
   "outputs": [
    {
     "name": "stdout",
     "output_type": "stream",
     "text": [
      "Multi-class AUC (One-vs-Rest): 0.9693137068313854\n"
     ]
    }
   ],
   "source": [
    "clf_rf_proba = clf_rf.predict_proba(X_clusters_test)\n",
    "auc_score = roc_auc_score(y_clusters_test, clf_rf_proba, multi_class = 'ovr')\n",
    "print(\"Multi-class AUC (One-vs-Rest):\", auc_score)"
   ]
  },
  {
   "cell_type": "code",
   "execution_count": 186,
   "metadata": {},
   "outputs": [
    {
     "name": "stdout",
     "output_type": "stream",
     "text": [
      "Confussion Matrix:\n"
     ]
    },
    {
     "data": {
      "image/png": "[encoded data removed]",
      "text/plain": [
       "<Figure size 640x480 with 2 Axes>"
      ]
     },
     "metadata": {},
     "output_type": "display_data"
    }
   ],
   "source": [
    "print('Confussion Matrix:')\n",
    "sns.heatmap(confusion_matrix(y_clusters_test, clf_rf_preds), annot = True, fmt = 'd', cmap = 'Blues')\n",
    "plt.xlabel('Predicted')\n",
    "plt.ylabel('Actual')\n",
    "plt.show();"
   ]
  },
  {
   "cell_type": "code",
   "execution_count": 187,
   "metadata": {},
   "outputs": [
    {
     "name": "stdout",
     "output_type": "stream",
     "text": [
      "Classification Report:\n",
      "              precision    recall  f1-score   support\n",
      "\n",
      "           0       0.88      0.91      0.90      2436\n",
      "           1       0.82      0.76      0.79      2226\n",
      "           2       0.75      0.74      0.75      1868\n",
      "           3       0.78      0.82      0.80      1898\n",
      "           4       0.78      0.80      0.79       569\n",
      "\n",
      "    accuracy                           0.81      8997\n",
      "   macro avg       0.80      0.81      0.80      8997\n",
      "weighted avg       0.81      0.81      0.81      8997\n",
      "\n"
     ]
    }
   ],
   "source": [
    "report = classification_report(y_clusters_test, clf_rf_preds)\n",
    "print(\"Classification Report:\")\n",
    "print(report)"
   ]
  },
  {
   "cell_type": "markdown",
   "metadata": {},
   "source": [
    "XGBoost Classifier"
   ]
  },
  {
   "cell_type": "code",
   "execution_count": 189,
   "metadata": {},
   "outputs": [
    {
     "name": "stdout",
     "output_type": "stream",
     "text": [
      "XGBoost accuracy: 0.8172724241413805\n"
     ]
    }
   ],
   "source": [
    "from xgboost import XGBClassifier\n",
    "\n",
    "clf_xgb = XGBClassifier(n_estimators = 100, random_state = 42, use_label_encoder = False)\n",
    "clf_xgb.fit(X_clusters_train, y_clusters_train)\n",
    "\n",
    "accuracy_xgb = clf_xgb.score(X_clusters_test, y_clusters_test)\n",
    "print(\"XGBoost accuracy:\", accuracy_xgb)\n",
    "\n",
    "clf_xgb_preds = clf_xgb.predict(X_clusters_test)"
   ]
  },
  {
   "cell_type": "code",
   "execution_count": 216,
   "metadata": {},
   "outputs": [
    {
     "name": "stdout",
     "output_type": "stream",
     "text": [
      "Multi-class AUC (One-vs-Rest): 0.9677094011401316\n"
     ]
    }
   ],
   "source": [
    "clf_xgb_proba = clf_logreg.predict_proba(X_clusters_test)\n",
    "auc_score = roc_auc_score(y_clusters_test, clf_xgb_proba, multi_class = 'ovr')\n",
    "print(\"Multi-class AUC (One-vs-Rest):\", auc_score)"
   ]
  },
  {
   "cell_type": "code",
   "execution_count": 190,
   "metadata": {},
   "outputs": [
    {
     "name": "stdout",
     "output_type": "stream",
     "text": [
      "Confussion Matrix:\n"
     ]
    },
    {
     "data": {
      "image/png": "[encoded data removed]",
      "text/plain": [
       "<Figure size 640x480 with 2 Axes>"
      ]
     },
     "metadata": {},
     "output_type": "display_data"
    }
   ],
   "source": [
    "print('Confussion Matrix:')\n",
    "sns.heatmap(confusion_matrix(y_clusters_test, clf_xgb_preds), annot = True, fmt = 'd', cmap = 'Blues')\n",
    "plt.xlabel('Predicted')\n",
    "plt.ylabel('Actual')\n",
    "plt.show();"
   ]
  },
  {
   "cell_type": "code",
   "execution_count": 191,
   "metadata": {},
   "outputs": [
    {
     "name": "stdout",
     "output_type": "stream",
     "text": [
      "Classification Report:\n",
      "              precision    recall  f1-score   support\n",
      "\n",
      "           0       0.89      0.92      0.90      2436\n",
      "           1       0.84      0.78      0.81      2226\n",
      "           2       0.77      0.74      0.75      1868\n",
      "           3       0.76      0.82      0.79      1898\n",
      "           4       0.77      0.80      0.78       569\n",
      "\n",
      "    accuracy                           0.82      8997\n",
      "   macro avg       0.81      0.81      0.81      8997\n",
      "weighted avg       0.82      0.82      0.82      8997\n",
      "\n"
     ]
    }
   ],
   "source": [
    "report = classification_report(y_clusters_test, clf_xgb_preds)\n",
    "print(\"Classification Report:\")\n",
    "print(report)"
   ]
  },
  {
   "cell_type": "markdown",
   "metadata": {},
   "source": [
    "LightGBM Classifier"
   ]
  },
  {
   "cell_type": "code",
   "execution_count": 200,
   "metadata": {},
   "outputs": [
    {
     "name": "stdout",
     "output_type": "stream",
     "text": [
      "LightGBM accuracy: 0.8187173502278537\n"
     ]
    }
   ],
   "source": [
    "from lightgbm import LGBMClassifier\n",
    "\n",
    "# Create and fit LightGBM classifier\n",
    "clf_lgbm = LGBMClassifier(n_estimators = 100, random_state = 42)\n",
    "clf_lgbm.fit(X_clusters_train, y_clusters_train)\n",
    "\n",
    "# Evaluate\n",
    "accuracy_lgbm = clf_lgbm.score(X_clusters_test, y_clusters_test)\n",
    "print(\"LightGBM accuracy:\", accuracy_lgbm)\n",
    "\n",
    "clf_lgbm_preds = clf_lgbm.predict(X_clusters_test)"
   ]
  },
  {
   "cell_type": "code",
   "execution_count": 217,
   "metadata": {},
   "outputs": [
    {
     "name": "stdout",
     "output_type": "stream",
     "text": [
      "Multi-class AUC (One-vs-Rest): 0.9677094011401316\n"
     ]
    }
   ],
   "source": [
    "clf_lgbm_proba = clf_logreg.predict_proba(X_clusters_test)\n",
    "auc_score = roc_auc_score(y_clusters_test, clf_lgbm_proba, multi_class = 'ovr')\n",
    "print(\"Multi-class AUC (One-vs-Rest):\", auc_score)"
   ]
  },
  {
   "cell_type": "code",
   "execution_count": 193,
   "metadata": {},
   "outputs": [
    {
     "name": "stdout",
     "output_type": "stream",
     "text": [
      "Confussion Matrix:\n"
     ]
    },
    {
     "data": {
      "image/png": "[encoded data removed]",
      "text/plain": [
       "<Figure size 640x480 with 2 Axes>"
      ]
     },
     "metadata": {},
     "output_type": "display_data"
    }
   ],
   "source": [
    "print('Confussion Matrix:')\n",
    "sns.heatmap(confusion_matrix(y_clusters_test, clf_lgbm_preds), annot = True, fmt = 'd', cmap = 'Blues')\n",
    "plt.xlabel('Predicted')\n",
    "plt.ylabel('Actual')\n",
    "plt.show();"
   ]
  },
  {
   "cell_type": "code",
   "execution_count": 194,
   "metadata": {},
   "outputs": [
    {
     "name": "stdout",
     "output_type": "stream",
     "text": [
      "Classification Report:\n",
      "              precision    recall  f1-score   support\n",
      "\n",
      "           0       0.89      0.92      0.90      2436\n",
      "           1       0.84      0.77      0.81      2226\n",
      "           2       0.77      0.73      0.75      1868\n",
      "           3       0.77      0.82      0.80      1898\n",
      "           4       0.78      0.83      0.80       569\n",
      "\n",
      "    accuracy                           0.82      8997\n",
      "   macro avg       0.81      0.82      0.81      8997\n",
      "weighted avg       0.82      0.82      0.82      8997\n",
      "\n"
     ]
    }
   ],
   "source": [
    "report = classification_report(y_clusters_test, clf_lgbm_preds)\n",
    "print(\"Classification Report:\")\n",
    "print(report)"
   ]
  },
  {
   "cell_type": "code",
   "execution_count": 207,
   "metadata": {},
   "outputs": [],
   "source": [
    "from sklearn.ensemble import VotingClassifier\n",
    "\n",
    "voting_clf_hard = VotingClassifier(\n",
    "    estimators=[\n",
    "        ('model_1', clf_logreg),\n",
    "        ('model_2', clf_rf),\n",
    "        ('model_3', clf_xgb),\n",
    "        ('model_4', clf_lgbm),\n",
    "\n",
    "    ],\n",
    "    voting = 'hard'  # 'hard' = majority vote\n",
    ")\n",
    "\n",
    "voting_clf_hard.fit(X_clusters_train, y_clusters_train)\n",
    "final_predictions_hard = voting_clf_hard.predict(X_clusters_test)\n",
    "\n",
    "voting_clf_soft = VotingClassifier(\n",
    "    estimators=[\n",
    "        ('model_1', clf_logreg),\n",
    "        ('model_2', clf_rf),\n",
    "        ('model_3', clf_xgb),\n",
    "        ('model_4', clf_lgbm),\n",
    "    ],\n",
    "    voting = 'soft'  # 'hard' = majority vote\n",
    ")\n",
    "\n",
    "voting_clf_soft.fit(X_clusters_train, y_clusters_train)\n",
    "final_predictions_soft = voting_clf_soft.predict(X_clusters_test)\n"
   ]
  },
  {
   "cell_type": "code",
   "execution_count": 208,
   "metadata": {},
   "outputs": [
    {
     "name": "stdout",
     "output_type": "stream",
     "text": [
      "Confussion Matrix:\n"
     ]
    },
    {
     "data": {
      "image/png": "[encoded data removed]",
      "text/plain": [
       "<Figure size 640x480 with 2 Axes>"
      ]
     },
     "metadata": {},
     "output_type": "display_data"
    },
    {
     "name": "stdout",
     "output_type": "stream",
     "text": [
      "Confussion Matrix:\n"
     ]
    },
    {
     "data": {
      "image/png": "[encoded data removed]",
      "text/plain": [
       "<Figure size 640x480 with 2 Axes>"
      ]
     },
     "metadata": {},
     "output_type": "display_data"
    }
   ],
   "source": [
    "print('Confussion Matrix:')\n",
    "sns.heatmap(confusion_matrix(y_clusters_test, final_predictions_hard), annot = True, fmt = 'd', cmap = 'Blues')\n",
    "plt.xlabel('Predicted')\n",
    "plt.ylabel('Actual')\n",
    "plt.show();\n",
    "\n",
    "print('Confussion Matrix:')\n",
    "sns.heatmap(confusion_matrix(y_clusters_test, final_predictions_soft), annot = True, fmt = 'd', cmap = 'Blues')\n",
    "plt.xlabel('Predicted')\n",
    "plt.ylabel('Actual')\n",
    "plt.show();"
   ]
  },
  {
   "cell_type": "code",
   "execution_count": 210,
   "metadata": {},
   "outputs": [
    {
     "name": "stdout",
     "output_type": "stream",
     "text": [
      "Classification Report:\n",
      "              precision    recall  f1-score   support\n",
      "\n",
      "           0       0.88      0.93      0.91      2436\n",
      "           1       0.84      0.77      0.81      2226\n",
      "           2       0.77      0.74      0.75      1868\n",
      "           3       0.77      0.82      0.80      1898\n",
      "           4       0.80      0.78      0.79       569\n",
      "\n",
      "    accuracy                           0.82      8997\n",
      "   macro avg       0.81      0.81      0.81      8997\n",
      "weighted avg       0.82      0.82      0.82      8997\n",
      "\n",
      "Classification Report:\n",
      "              precision    recall  f1-score   support\n",
      "\n",
      "           0       0.89      0.92      0.90      2436\n",
      "           1       0.84      0.78      0.81      2226\n",
      "           2       0.77      0.74      0.75      1868\n",
      "           3       0.77      0.83      0.80      1898\n",
      "           4       0.80      0.82      0.81       569\n",
      "\n",
      "    accuracy                           0.82      8997\n",
      "   macro avg       0.81      0.82      0.81      8997\n",
      "weighted avg       0.82      0.82      0.82      8997\n",
      "\n"
     ]
    }
   ],
   "source": [
    "report = classification_report(y_clusters_test, final_predictions_hard)\n",
    "print(\"Classification Report:\")\n",
    "print(report)\n",
    "\n",
    "report = classification_report(y_clusters_test, final_predictions_soft)\n",
    "print(\"Classification Report:\")\n",
    "print(report)"
   ]
  },
  {
   "cell_type": "code",
   "execution_count": 211,
   "metadata": {},
   "outputs": [
    {
     "name": "stdout",
     "output_type": "stream",
     "text": [
      "Hard accuracy: 0.8206068689563187\n",
      "Soft accuracy: 0.822051795042792\n"
     ]
    }
   ],
   "source": [
    "accuracy_hard = voting_clf_hard.score(X_clusters_test, y_clusters_test)\n",
    "print(\"Hard accuracy:\", accuracy_hard)\n",
    "\n",
    "accuracy_soft = voting_clf_soft.score(X_clusters_test, y_clusters_test)\n",
    "print(\"Soft accuracy:\", accuracy_soft)"
   ]
  },
  {
   "cell_type": "code",
   "execution_count": 218,
   "metadata": {},
   "outputs": [
    {
     "name": "stdout",
     "output_type": "stream",
     "text": [
      "Multi-class AUC (One-vs-Rest): 0.9730740914780552\n"
     ]
    }
   ],
   "source": [
    "voting_soft_proba = voting_clf_soft.predict_proba(X_clusters_test)\n",
    "auc_score = roc_auc_score(y_clusters_test, voting_soft_proba, multi_class = 'ovr')\n",
    "print(\"Multi-class AUC (One-vs-Rest):\", auc_score)"
   ]
  },
  {
   "cell_type": "code",
   "execution_count": null,
   "metadata": {},
   "outputs": [],
   "source": []
  }
 ],
 "metadata": {
  "kernelspec": {
   "display_name": "base",
   "language": "python",
   "name": "python3"
  },
  "language_info": {
   "codemirror_mode": {
    "name": "ipython",
    "version": 3
   },
   "file_extension": ".py",
   "mimetype": "text/x-python",
   "name": "python",
   "nbconvert_exporter": "python",
   "pygments_lexer": "ipython3",
   "version": "3.12.4"
  }
 },
 "nbformat": 4,
 "nbformat_minor": 2
}
