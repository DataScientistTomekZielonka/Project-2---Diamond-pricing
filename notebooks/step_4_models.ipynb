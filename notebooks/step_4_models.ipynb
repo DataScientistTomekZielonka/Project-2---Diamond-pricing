{
 "cells": [
  {
   "cell_type": "code",
   "execution_count": 1,
   "metadata": {},
   "outputs": [],
   "source": [
    "import numpy as np\n",
    "import pandas as pd"
   ]
  },
  {
   "cell_type": "code",
   "execution_count": 2,
   "metadata": {},
   "outputs": [],
   "source": [
    "import matplotlib.pyplot as plt\n",
    "import seaborn as sns"
   ]
  },
  {
   "cell_type": "code",
   "execution_count": 3,
   "metadata": {},
   "outputs": [],
   "source": [
    "import warnings\n",
    "warnings.filterwarnings('ignore')"
   ]
  },
  {
   "cell_type": "code",
   "execution_count": 4,
   "metadata": {},
   "outputs": [],
   "source": [
    "import optuna\n",
    "from joblib import dump"
   ]
  },
  {
   "cell_type": "code",
   "execution_count": 5,
   "metadata": {},
   "outputs": [],
   "source": [
    "from sklearn.model_selection import train_test_split, cross_val_score\n",
    "from sklearn.metrics import root_mean_squared_error, make_scorer, recall_score, confusion_matrix, classification_report, roc_auc_score\n",
    "from sklearn.preprocessing import StandardScaler"
   ]
  },
  {
   "cell_type": "code",
   "execution_count": 17,
   "metadata": {},
   "outputs": [],
   "source": [
    "from sklearn.linear_model import LogisticRegression\n",
    "from sklearn.ensemble import RandomForestClassifier, VotingClassifier\n",
    "from xgboost import XGBClassifier\n",
    "from lightgbm import LGBMClassifier\n",
    "from sklearn.ensemble import VotingClassifier"
   ]
  },
  {
   "cell_type": "code",
   "execution_count": 7,
   "metadata": {},
   "outputs": [],
   "source": [
    "from sklearn.ensemble import RandomForestRegressor\n",
    "from xgboost import XGBRegressor\n",
    "from lightgbm import LGBMRegressor\n",
    "from catboost import CatBoostRegressor"
   ]
  },
  {
   "cell_type": "code",
   "execution_count": 8,
   "metadata": {},
   "outputs": [
    {
     "data": {
      "text/html": [
       "<div>\n",
       "<style scoped>\n",
       "    .dataframe tbody tr th:only-of-type {\n",
       "        vertical-align: middle;\n",
       "    }\n",
       "\n",
       "    .dataframe tbody tr th {\n",
       "        vertical-align: top;\n",
       "    }\n",
       "\n",
       "    .dataframe thead th {\n",
       "        text-align: right;\n",
       "    }\n",
       "</style>\n",
       "<table border=\"1\" class=\"dataframe\">\n",
       "  <thead>\n",
       "    <tr style=\"text-align: right;\">\n",
       "      <th></th>\n",
       "      <th>carat</th>\n",
       "      <th>cut</th>\n",
       "      <th>color</th>\n",
       "      <th>clarity</th>\n",
       "      <th>depth</th>\n",
       "      <th>table</th>\n",
       "      <th>price</th>\n",
       "      <th>x</th>\n",
       "      <th>y</th>\n",
       "      <th>z</th>\n",
       "      <th>cluster</th>\n",
       "    </tr>\n",
       "  </thead>\n",
       "  <tbody>\n",
       "    <tr>\n",
       "      <th>18344</th>\n",
       "      <td>0.51</td>\n",
       "      <td>3</td>\n",
       "      <td>8</td>\n",
       "      <td>3</td>\n",
       "      <td>63.2</td>\n",
       "      <td>56.0</td>\n",
       "      <td>1722</td>\n",
       "      <td>5.04</td>\n",
       "      <td>5.08</td>\n",
       "      <td>3.20</td>\n",
       "      <td>1</td>\n",
       "    </tr>\n",
       "    <tr>\n",
       "      <th>22645</th>\n",
       "      <td>0.35</td>\n",
       "      <td>5</td>\n",
       "      <td>5</td>\n",
       "      <td>5</td>\n",
       "      <td>61.8</td>\n",
       "      <td>55.0</td>\n",
       "      <td>1116</td>\n",
       "      <td>4.56</td>\n",
       "      <td>4.54</td>\n",
       "      <td>2.81</td>\n",
       "      <td>1</td>\n",
       "    </tr>\n",
       "    <tr>\n",
       "      <th>42915</th>\n",
       "      <td>2.02</td>\n",
       "      <td>3</td>\n",
       "      <td>8</td>\n",
       "      <td>3</td>\n",
       "      <td>62.3</td>\n",
       "      <td>56.0</td>\n",
       "      <td>17263</td>\n",
       "      <td>7.99</td>\n",
       "      <td>8.06</td>\n",
       "      <td>5.00</td>\n",
       "      <td>4</td>\n",
       "    </tr>\n",
       "    <tr>\n",
       "      <th>12968</th>\n",
       "      <td>0.53</td>\n",
       "      <td>5</td>\n",
       "      <td>5</td>\n",
       "      <td>5</td>\n",
       "      <td>62.1</td>\n",
       "      <td>54.0</td>\n",
       "      <td>1893</td>\n",
       "      <td>5.18</td>\n",
       "      <td>5.22</td>\n",
       "      <td>3.23</td>\n",
       "      <td>1</td>\n",
       "    </tr>\n",
       "    <tr>\n",
       "      <th>10468</th>\n",
       "      <td>0.31</td>\n",
       "      <td>4</td>\n",
       "      <td>4</td>\n",
       "      <td>4</td>\n",
       "      <td>60.5</td>\n",
       "      <td>58.0</td>\n",
       "      <td>707</td>\n",
       "      <td>4.40</td>\n",
       "      <td>4.43</td>\n",
       "      <td>2.67</td>\n",
       "      <td>0</td>\n",
       "    </tr>\n",
       "    <tr>\n",
       "      <th>29487</th>\n",
       "      <td>0.57</td>\n",
       "      <td>5</td>\n",
       "      <td>8</td>\n",
       "      <td>5</td>\n",
       "      <td>61.3</td>\n",
       "      <td>56.0</td>\n",
       "      <td>2546</td>\n",
       "      <td>5.35</td>\n",
       "      <td>5.42</td>\n",
       "      <td>3.30</td>\n",
       "      <td>2</td>\n",
       "    </tr>\n",
       "    <tr>\n",
       "      <th>35788</th>\n",
       "      <td>1.18</td>\n",
       "      <td>4</td>\n",
       "      <td>3</td>\n",
       "      <td>4</td>\n",
       "      <td>62.6</td>\n",
       "      <td>59.0</td>\n",
       "      <td>5477</td>\n",
       "      <td>6.73</td>\n",
       "      <td>6.71</td>\n",
       "      <td>4.21</td>\n",
       "      <td>3</td>\n",
       "    </tr>\n",
       "    <tr>\n",
       "      <th>16834</th>\n",
       "      <td>0.72</td>\n",
       "      <td>1</td>\n",
       "      <td>5</td>\n",
       "      <td>1</td>\n",
       "      <td>66.4</td>\n",
       "      <td>57.0</td>\n",
       "      <td>2396</td>\n",
       "      <td>5.60</td>\n",
       "      <td>5.51</td>\n",
       "      <td>3.69</td>\n",
       "      <td>1</td>\n",
       "    </tr>\n",
       "    <tr>\n",
       "      <th>22222</th>\n",
       "      <td>0.57</td>\n",
       "      <td>4</td>\n",
       "      <td>7</td>\n",
       "      <td>4</td>\n",
       "      <td>61.2</td>\n",
       "      <td>57.0</td>\n",
       "      <td>1414</td>\n",
       "      <td>5.35</td>\n",
       "      <td>5.31</td>\n",
       "      <td>3.26</td>\n",
       "      <td>1</td>\n",
       "    </tr>\n",
       "    <tr>\n",
       "      <th>40139</th>\n",
       "      <td>1.50</td>\n",
       "      <td>1</td>\n",
       "      <td>4</td>\n",
       "      <td>1</td>\n",
       "      <td>65.2</td>\n",
       "      <td>58.0</td>\n",
       "      <td>10206</td>\n",
       "      <td>7.12</td>\n",
       "      <td>7.06</td>\n",
       "      <td>4.62</td>\n",
       "      <td>3</td>\n",
       "    </tr>\n",
       "  </tbody>\n",
       "</table>\n",
       "</div>"
      ],
      "text/plain": [
       "       carat  cut  color  clarity  depth  table  price     x     y     z  \\\n",
       "18344   0.51    3      8        3   63.2   56.0   1722  5.04  5.08  3.20   \n",
       "22645   0.35    5      5        5   61.8   55.0   1116  4.56  4.54  2.81   \n",
       "42915   2.02    3      8        3   62.3   56.0  17263  7.99  8.06  5.00   \n",
       "12968   0.53    5      5        5   62.1   54.0   1893  5.18  5.22  3.23   \n",
       "10468   0.31    4      4        4   60.5   58.0    707  4.40  4.43  2.67   \n",
       "29487   0.57    5      8        5   61.3   56.0   2546  5.35  5.42  3.30   \n",
       "35788   1.18    4      3        4   62.6   59.0   5477  6.73  6.71  4.21   \n",
       "16834   0.72    1      5        1   66.4   57.0   2396  5.60  5.51  3.69   \n",
       "22222   0.57    4      7        4   61.2   57.0   1414  5.35  5.31  3.26   \n",
       "40139   1.50    1      4        1   65.2   58.0  10206  7.12  7.06  4.62   \n",
       "\n",
       "       cluster  \n",
       "18344        1  \n",
       "22645        1  \n",
       "42915        4  \n",
       "12968        1  \n",
       "10468        0  \n",
       "29487        2  \n",
       "35788        3  \n",
       "16834        1  \n",
       "22222        1  \n",
       "40139        3  "
      ]
     },
     "execution_count": 8,
     "metadata": {},
     "output_type": "execute_result"
    }
   ],
   "source": [
    "df_0 = pd.read_csv('../data/clusters/cluster_0.csv')\n",
    "df_1 = pd.read_csv('../data/clusters/cluster_1.csv')\n",
    "df_2 = pd.read_csv('../data/clusters/cluster_2.csv')\n",
    "df_3 = pd.read_csv('../data/clusters/cluster_3.csv')\n",
    "df_4 = pd.read_csv('../data/clusters/cluster_4.csv')\n",
    "\n",
    "df_all = pd.concat([df_0, df_1, df_2, df_3, df_4], ignore_index = True).sample(frac = 1)\n",
    "df_all.head(10)"
   ]
  },
  {
   "cell_type": "code",
   "execution_count": 9,
   "metadata": {},
   "outputs": [],
   "source": [
    "data = df_all.drop(columns = ['price'], axis = 1).copy()"
   ]
  },
  {
   "cell_type": "code",
   "execution_count": 10,
   "metadata": {},
   "outputs": [],
   "source": [
    "X = data.drop(columns = ['cluster'], axis = 1)\n",
    "y = data['cluster']\n",
    "\n",
    "X_train, X_test, y_train, y_test = train_test_split(X, y, test_size = 0.2, random_state = 42)"
   ]
  },
  {
   "cell_type": "code",
   "execution_count": 11,
   "metadata": {},
   "outputs": [],
   "source": [
    "clusters_scaler = StandardScaler()\n",
    "\n",
    "X_train = clusters_scaler.fit_transform(X_train)\n",
    "X_test = clusters_scaler.transform(X_test)\n",
    "\n",
    "X_train = pd.DataFrame(X_train, columns = X.columns.to_list())\n",
    "X_test = pd.DataFrame(X_test, columns = X.columns.to_list())"
   ]
  },
  {
   "cell_type": "code",
   "execution_count": 53,
   "metadata": {},
   "outputs": [
    {
     "data": {
      "text/plain": [
       "['../models/clusters/clusters_scaler.joblib']"
      ]
     },
     "execution_count": 53,
     "metadata": {},
     "output_type": "execute_result"
    }
   ],
   "source": [
    "dump(clusters_scaler, '../models/clusters/clusters_scaler.joblib')"
   ]
  },
  {
   "cell_type": "markdown",
   "metadata": {},
   "source": [
    "# Classification"
   ]
  },
  {
   "cell_type": "code",
   "execution_count": 21,
   "metadata": {},
   "outputs": [],
   "source": [
    "#Defining model hyperparameters' optimization procedure for Random Forest\n",
    "\n",
    "def forest_tuning(X, y, n_trials) :\n",
    "    \n",
    "    def objective(trial):\n",
    "    \n",
    "        #Defining the search space for hyperparameters\n",
    "        \n",
    "        n_estimators = trial.suggest_int(\"n_estimators\", 10, 200)\n",
    "        max_depth = trial.suggest_int(\"max_depth\", 2, 32)\n",
    "        min_samples_split = trial.suggest_int(\"min_samples_split\", 2, 20)\n",
    "        min_samples_leaf = trial.suggest_int(\"min_samples_leaf\", 1, 10)\n",
    "        max_features = trial.suggest_categorical(\"max_features\", [None, \"sqrt\", \"log2\"])\n",
    "        criterion = trial.suggest_categorical(\"criterion\", [\"gini\", \"entropy\"])\n",
    "\n",
    "        #Creating a Random Forest classifier with the suggested hyperparameters\n",
    "        \n",
    "        rf = RandomForestClassifier(\n",
    "             n_estimators = n_estimators,\n",
    "             max_depth = max_depth,\n",
    "             min_samples_split = min_samples_split,\n",
    "             min_samples_leaf = min_samples_leaf,\n",
    "             max_features = max_features,\n",
    "             criterion = criterion,\n",
    "             random_state = 42\n",
    "        )\n",
    "\n",
    "        #Calculating recall using cross-validation\n",
    "        \n",
    "        recalls = cross_val_score(rf, X, y, cv = 3, n_jobs = -1, scoring = make_scorer(recall_score, average = 'weighted')) # multiclass classification\n",
    "        mean_recall = recalls.mean()\n",
    "\n",
    "        return mean_recall\n",
    "    \n",
    "    #Creating an Optuna study and run the optimization process\n",
    "\n",
    "    sampler = optuna.samplers.TPESampler(seed = 42)\n",
    "    study = optuna.create_study(direction = \"maximize\", sampler = sampler)\n",
    "    optuna.logging.set_verbosity(optuna.logging.WARNING)\n",
    "    study.optimize(objective, n_trials = n_trials, n_jobs = -1, show_progress_bar = True)\n",
    "    \n",
    "    best_params = study.best_params\n",
    "    best_recall = study.best_value\n",
    "    \n",
    "    return best_params, best_recall"
   ]
  },
  {
   "cell_type": "code",
   "execution_count": 22,
   "metadata": {},
   "outputs": [
    {
     "data": {
      "application/vnd.jupyter.widget-view+json": {
       "model_id": "8249c7b5e80f464fb5a8c75b7823bd4c",
       "version_major": 2,
       "version_minor": 0
      },
      "text/plain": [
       "  0%|          | 0/100 [00:00<?, ?it/s]"
      ]
     },
     "metadata": {},
     "output_type": "display_data"
    }
   ],
   "source": [
    "best_params_rf, best_recall_rf = forest_tuning(X_train, y_train, 100)"
   ]
  },
  {
   "cell_type": "code",
   "execution_count": 29,
   "metadata": {},
   "outputs": [
    {
     "name": "stdout",
     "output_type": "stream",
     "text": [
      "Test Recall with Best Hyperparameters: 0.8258308324997221\n"
     ]
    }
   ],
   "source": [
    "#Creating a Random Forest classifier with the best hyperparameters\n",
    "\n",
    "model_rf_tuned = RandomForestClassifier(**best_params_rf, random_state = 42)\n",
    "model_rf_tuned.fit(X_train, y_train)\n",
    "\n",
    "y_pred_rf_tuned = model_rf_tuned.predict(X_test)\n",
    "\n",
    "recall_rf = recall_score(y_test, y_pred_rf_tuned, average = 'weighted') \n",
    "print(\"Test Recall with Best Hyperparameters:\", recall_rf)"
   ]
  },
  {
   "cell_type": "code",
   "execution_count": 30,
   "metadata": {},
   "outputs": [
    {
     "name": "stdout",
     "output_type": "stream",
     "text": [
      "Multi-class AUC (One-vs-Rest): 0.97309073575656\n"
     ]
    }
   ],
   "source": [
    "clf_rf_proba = model_rf_tuned.predict_proba(X_test)\n",
    "auc_score = roc_auc_score(y_test, clf_rf_proba, multi_class = 'ovr')\n",
    "print(\"Multi-class AUC (One-vs-Rest):\", auc_score)"
   ]
  },
  {
   "cell_type": "code",
   "execution_count": 31,
   "metadata": {},
   "outputs": [
    {
     "name": "stdout",
     "output_type": "stream",
     "text": [
      "Confussion Matrix:\n"
     ]
    },
    {
     "data": {
      "image/png": "[encoded data removed]",
      "text/plain": [
       "<Figure size 640x480 with 2 Axes>"
      ]
     },
     "metadata": {},
     "output_type": "display_data"
    }
   ],
   "source": [
    "print('Confussion Matrix:')\n",
    "sns.heatmap(confusion_matrix(y_test, y_pred_rf_tuned), annot = True, fmt = 'd', cmap = 'Blues')\n",
    "plt.xlabel('Predicted')\n",
    "plt.ylabel('Actual')\n",
    "plt.show()"
   ]
  },
  {
   "cell_type": "code",
   "execution_count": 32,
   "metadata": {},
   "outputs": [
    {
     "name": "stdout",
     "output_type": "stream",
     "text": [
      "Classification Report:\n",
      "              precision    recall  f1-score   support\n",
      "\n",
      "           0       0.89      0.93      0.91      2412\n",
      "           1       0.84      0.79      0.81      2136\n",
      "           2       0.78      0.75      0.77      1950\n",
      "           3       0.78      0.82      0.80      1923\n",
      "           4       0.78      0.79      0.79       576\n",
      "\n",
      "    accuracy                           0.83      8997\n",
      "   macro avg       0.82      0.82      0.82      8997\n",
      "weighted avg       0.83      0.83      0.83      8997\n",
      "\n"
     ]
    }
   ],
   "source": [
    "report = classification_report(y_test, y_pred_rf_tuned)\n",
    "print(\"Classification Report:\")\n",
    "print(report)"
   ]
  },
  {
   "cell_type": "code",
   "execution_count": 54,
   "metadata": {},
   "outputs": [
    {
     "data": {
      "text/plain": [
       "['../models/clusters/model_rf.joblib']"
      ]
     },
     "execution_count": 54,
     "metadata": {},
     "output_type": "execute_result"
    }
   ],
   "source": [
    "dump(model_rf_tuned, '../models/clusters/model_rf.joblib')"
   ]
  },
  {
   "cell_type": "code",
   "execution_count": 33,
   "metadata": {},
   "outputs": [],
   "source": [
    "def xgboost_tuning(X, y, n_trials):\n",
    "    \n",
    "    def objective(trial):\n",
    "        # Defining the search space for hyperparameters\n",
    "        params = {\n",
    "            \"n_estimators\": trial.suggest_int(\"n_estimators\", 100, 500),\n",
    "            \"max_depth\": trial.suggest_int(\"max_depth\", 3, 20),\n",
    "            \"learning_rate\": trial.suggest_loguniform(\"learning_rate\", 0.01, 0.3),\n",
    "            \"subsample\": trial.suggest_float(\"subsample\", 0.6, 1.0),\n",
    "            \"colsample_bytree\": trial.suggest_float(\"colsample_bytree\", 0.6, 1.0),\n",
    "            \"lambda\": trial.suggest_loguniform(\"lambda\", 1e-3, 10.0),\n",
    "            \"alpha\": trial.suggest_loguniform(\"alpha\", 1e-3, 10.0),\n",
    "            \"objective\": \"multi:softmax\",  # Changed for multiclass\n",
    "            \"num_class\": len(np.unique(y)),  # Added number of classes\n",
    "            \"eval_metric\": \"mlogloss\",  # Changed for multiclass\n",
    "            \"random_state\": 42,\n",
    "            \"use_label_encoder\": False,\n",
    "            # Explicitly set to use CPU\n",
    "            \"tree_method\": \"hist\",  # CPU-based method\n",
    "            \"device\": \"cpu\"\n",
    "        }\n",
    "        # Creating an XGBoost classifier with the suggested hyperparameters\n",
    "        xgb = XGBClassifier(**params)\n",
    "        \n",
    "        # Calculating recall using cross-validation with weighted average\n",
    "        recalls = cross_val_score(xgb, X, y, cv = 3, n_jobs = -1, scoring=make_scorer(recall_score, average = 'weighted'))\n",
    "        mean_recall = recalls.mean()\n",
    "        return mean_recall\n",
    "    \n",
    "    # Creating an Optuna study and run the optimization process\n",
    "    sampler = optuna.samplers.TPESampler(seed = 42)   \n",
    "    study = optuna.create_study(direction = \"maximize\", sampler=sampler)   \n",
    "    optuna.logging.set_verbosity(optuna.logging.WARNING)  \n",
    "    study.optimize(objective, n_trials = n_trials, n_jobs = -1, show_progress_bar = True)\n",
    "    \n",
    "    best_params = study.best_params\n",
    "    best_recall = study.best_value\n",
    "    \n",
    "    return best_params, best_recall"
   ]
  },
  {
   "cell_type": "code",
   "execution_count": 34,
   "metadata": {},
   "outputs": [
    {
     "data": {
      "application/vnd.jupyter.widget-view+json": {
       "model_id": "c270b80943f1431fbb1621410e9bb450",
       "version_major": 2,
       "version_minor": 0
      },
      "text/plain": [
       "  0%|          | 0/100 [00:00<?, ?it/s]"
      ]
     },
     "metadata": {},
     "output_type": "display_data"
    }
   ],
   "source": [
    "best_params_xgb, best_recall_xgb = xgboost_tuning(X_train, y_train, 100)"
   ]
  },
  {
   "cell_type": "code",
   "execution_count": 35,
   "metadata": {},
   "outputs": [
    {
     "name": "stdout",
     "output_type": "stream",
     "text": [
      "Test Recall with Best Hyperparameters: 0.8268311659442036\n"
     ]
    }
   ],
   "source": [
    "model_xgb_tuned = XGBClassifier(**best_params_xgb, random_state = 42)\n",
    "model_xgb_tuned.fit(X_train, y_train)\n",
    "\n",
    "y_pred_xgb_tuned = model_xgb_tuned.predict(X_test)\n",
    "\n",
    "recall_rf = recall_score(y_test, y_pred_xgb_tuned, average = 'weighted') \n",
    "print(\"Test Recall with Best Hyperparameters:\", recall_rf)"
   ]
  },
  {
   "cell_type": "code",
   "execution_count": 36,
   "metadata": {},
   "outputs": [
    {
     "name": "stdout",
     "output_type": "stream",
     "text": [
      "Multi-class AUC (One-vs-Rest): 0.9727117859251786\n"
     ]
    }
   ],
   "source": [
    "clf_xgb_proba = model_xgb_tuned.predict_proba(X_test)\n",
    "auc_score = roc_auc_score(y_test, clf_xgb_proba, multi_class = 'ovr')\n",
    "print(\"Multi-class AUC (One-vs-Rest):\", auc_score)"
   ]
  },
  {
   "cell_type": "code",
   "execution_count": 37,
   "metadata": {},
   "outputs": [
    {
     "name": "stdout",
     "output_type": "stream",
     "text": [
      "Confussion Matrix:\n"
     ]
    },
    {
     "data": {
      "image/png": "[encoded data removed]",
      "text/plain": [
       "<Figure size 640x480 with 2 Axes>"
      ]
     },
     "metadata": {},
     "output_type": "display_data"
    }
   ],
   "source": [
    "print('Confussion Matrix:')\n",
    "sns.heatmap(confusion_matrix(y_test, y_pred_xgb_tuned), annot = True, fmt = 'd', cmap = 'Blues')\n",
    "plt.xlabel('Predicted')\n",
    "plt.ylabel('Actual')\n",
    "plt.show()"
   ]
  },
  {
   "cell_type": "code",
   "execution_count": 38,
   "metadata": {},
   "outputs": [
    {
     "name": "stdout",
     "output_type": "stream",
     "text": [
      "Classification Report:\n",
      "              precision    recall  f1-score   support\n",
      "\n",
      "           0       0.90      0.93      0.91      2412\n",
      "           1       0.84      0.80      0.82      2136\n",
      "           2       0.79      0.74      0.76      1950\n",
      "           3       0.78      0.82      0.80      1923\n",
      "           4       0.78      0.80      0.79       576\n",
      "\n",
      "    accuracy                           0.83      8997\n",
      "   macro avg       0.82      0.82      0.82      8997\n",
      "weighted avg       0.83      0.83      0.83      8997\n",
      "\n"
     ]
    }
   ],
   "source": [
    "report = classification_report(y_test, y_pred_xgb_tuned)\n",
    "print(\"Classification Report:\")\n",
    "print(report)"
   ]
  },
  {
   "cell_type": "code",
   "execution_count": 55,
   "metadata": {},
   "outputs": [
    {
     "data": {
      "text/plain": [
       "['../models/clusters/model_xgb.joblib']"
      ]
     },
     "execution_count": 55,
     "metadata": {},
     "output_type": "execute_result"
    }
   ],
   "source": [
    "dump(model_xgb_tuned, '../models/clusters/model_xgb.joblib')"
   ]
  },
  {
   "cell_type": "code",
   "execution_count": 39,
   "metadata": {},
   "outputs": [],
   "source": [
    "def lightgbm_tuning(X, y, n_trials):\n",
    "   \n",
    "   def objective(trial):\n",
    "       params = {\n",
    "           \"n_estimators\": trial.suggest_int(\"n_estimators\", 100, 500),\n",
    "           \"max_depth\": trial.suggest_int(\"max_depth\", 3, 20),\n",
    "           \"learning_rate\": trial.suggest_loguniform(\"learning_rate\", 0.01, 0.3),\n",
    "           \"num_leaves\": trial.suggest_int(\"num_leaves\", 20, 200),\n",
    "           \"min_child_samples\": trial.suggest_int(\"min_child_samples\", 1, 50),\n",
    "           \"subsample\": trial.suggest_float(\"subsample\", 0.6, 1.0),\n",
    "           \"colsample_bytree\": trial.suggest_float(\"colsample_bytree\", 0.6, 1.0),\n",
    "           \"reg_alpha\": trial.suggest_loguniform(\"reg_alpha\", 1e-3, 10.0),\n",
    "           \"reg_lambda\": trial.suggest_loguniform(\"reg_lambda\", 1e-3, 10.0),\n",
    "           \"random_state\": 42,\n",
    "           \"objective\": \"multiclass\",\n",
    "           \"num_class\": len(np.unique(y))\n",
    "       }\n",
    "       \n",
    "       lgbm = LGBMClassifier(**params)\n",
    "       \n",
    "       recalls = cross_val_score(lgbm, X, y, cv = 3, n_jobs = -1, scoring = make_scorer(recall_score, average = 'weighted'))\n",
    "       mean_recall = recalls.mean()\n",
    "       return mean_recall\n",
    "   \n",
    "   sampler = optuna.samplers.TPESampler(seed=42)   \n",
    "   study = optuna.create_study(direction = \"maximize\", sampler=sampler)   \n",
    "   optuna.logging.set_verbosity(optuna.logging.WARNING)  \n",
    "   study.optimize(objective, n_trials = n_trials, n_jobs =- 1, show_progress_bar = True)\n",
    "   \n",
    "   best_params = study.best_params\n",
    "   best_recall = study.best_value\n",
    "   \n",
    "   return best_params, best_recall"
   ]
  },
  {
   "cell_type": "code",
   "execution_count": 40,
   "metadata": {},
   "outputs": [
    {
     "data": {
      "application/vnd.jupyter.widget-view+json": {
       "model_id": "c1e43c85ef084789b0285abf795065ad",
       "version_major": 2,
       "version_minor": 0
      },
      "text/plain": [
       "  0%|          | 0/100 [00:00<?, ?it/s]"
      ]
     },
     "metadata": {},
     "output_type": "display_data"
    }
   ],
   "source": [
    "best_params_lgbm, best_recall_lgbm = lightgbm_tuning(X_train, y_train, 100)"
   ]
  },
  {
   "cell_type": "code",
   "execution_count": 42,
   "metadata": {},
   "outputs": [
    {
     "name": "stdout",
     "output_type": "stream",
     "text": [
      "[LightGBM] [Info] Auto-choosing row-wise multi-threading, the overhead of testing was 0.000426 seconds.\n",
      "You can set `force_row_wise=true` to remove the overhead.\n",
      "And if memory is not enough, you can set `force_col_wise=true`.\n",
      "[LightGBM] [Info] Total Bins 1272\n",
      "[LightGBM] [Info] Number of data points in the train set: 35986, number of used features: 9\n",
      "[LightGBM] [Info] Start training from score -1.311932\n",
      "[LightGBM] [Info] Start training from score -1.420152\n",
      "[LightGBM] [Info] Start training from score -1.531702\n",
      "[LightGBM] [Info] Start training from score -1.569828\n",
      "[LightGBM] [Info] Start training from score -2.736833\n",
      "Test Recall with Best Hyperparameters: 0.8252750916972325\n"
     ]
    }
   ],
   "source": [
    "model_lgbm_tuned = LGBMClassifier(**best_params_lgbm, random_state = 42)\n",
    "model_lgbm_tuned.fit(X_train, y_train)\n",
    "\n",
    "y_pred_lgbm_tuned = model_lgbm_tuned.predict(X_test)\n",
    "\n",
    "recall_rf = recall_score(y_test, y_pred_lgbm_tuned, average = 'weighted') \n",
    "print(\"Test Recall with Best Hyperparameters:\", recall_rf)"
   ]
  },
  {
   "cell_type": "code",
   "execution_count": 43,
   "metadata": {},
   "outputs": [
    {
     "name": "stdout",
     "output_type": "stream",
     "text": [
      "Confussion Matrix:\n"
     ]
    },
    {
     "data": {
      "image/png": "[encoded data removed]",
      "text/plain": [
       "<Figure size 640x480 with 2 Axes>"
      ]
     },
     "metadata": {},
     "output_type": "display_data"
    }
   ],
   "source": [
    "print('Confussion Matrix:')\n",
    "sns.heatmap(confusion_matrix(y_test, y_pred_lgbm_tuned), annot = True, fmt = 'd', cmap = 'Blues')\n",
    "plt.xlabel('Predicted')\n",
    "plt.ylabel('Actual')\n",
    "plt.show()"
   ]
  },
  {
   "cell_type": "code",
   "execution_count": 44,
   "metadata": {},
   "outputs": [
    {
     "name": "stdout",
     "output_type": "stream",
     "text": [
      "Multi-class AUC (One-vs-Rest): 0.9725549215482099\n"
     ]
    }
   ],
   "source": [
    "clf_lgbm_proba = model_lgbm_tuned.predict_proba(X_test)\n",
    "auc_score = roc_auc_score(y_test, clf_lgbm_proba, multi_class = 'ovr')\n",
    "print(\"Multi-class AUC (One-vs-Rest):\", auc_score)"
   ]
  },
  {
   "cell_type": "code",
   "execution_count": 45,
   "metadata": {},
   "outputs": [
    {
     "name": "stdout",
     "output_type": "stream",
     "text": [
      "Classification Report:\n",
      "              precision    recall  f1-score   support\n",
      "\n",
      "           0       0.89      0.93      0.91      2412\n",
      "           1       0.84      0.79      0.81      2136\n",
      "           2       0.78      0.74      0.76      1950\n",
      "           3       0.78      0.82      0.80      1923\n",
      "           4       0.78      0.80      0.79       576\n",
      "\n",
      "    accuracy                           0.83      8997\n",
      "   macro avg       0.82      0.82      0.82      8997\n",
      "weighted avg       0.82      0.83      0.82      8997\n",
      "\n"
     ]
    }
   ],
   "source": [
    "report = classification_report(y_test, y_pred_lgbm_tuned)\n",
    "print(\"Classification Report:\")\n",
    "print(report)"
   ]
  },
  {
   "cell_type": "code",
   "execution_count": 56,
   "metadata": {},
   "outputs": [
    {
     "data": {
      "text/plain": [
       "['../models/clusters/model_lgbm.joblib']"
      ]
     },
     "execution_count": 56,
     "metadata": {},
     "output_type": "execute_result"
    }
   ],
   "source": [
    "dump(model_lgbm_tuned, '../models/clusters/model_lgbm.joblib')"
   ]
  },
  {
   "cell_type": "code",
   "execution_count": 46,
   "metadata": {},
   "outputs": [],
   "source": [
    "def logistic_tuning(X, y, n_trials):\n",
    "   \n",
    "   def objective(trial):\n",
    "       params = {\n",
    "           \"multi_class\": \"multinomial\",\n",
    "           \"solver\": trial.suggest_categorical(\"solver\", [\"lbfgs\", \"newton-cg\", \"sag\"]),\n",
    "           \"C\": trial.suggest_loguniform(\"C\", 1e-4, 10),\n",
    "           \"max_iter\": trial.suggest_int(\"max_iter\", 100, 1000),\n",
    "           \"class_weight\": trial.suggest_categorical(\"class_weight\", [None, \"balanced\"])\n",
    "       }\n",
    "       \n",
    "       model = LogisticRegression(**params, random_state=42)\n",
    "       \n",
    "       recalls = cross_val_score(model, X, y, cv=3, n_jobs=-1, \n",
    "                                 scoring=make_scorer(recall_score, average = 'weighted'))\n",
    "       mean_recall = recalls.mean()\n",
    "       return mean_recall\n",
    "   \n",
    "   sampler = optuna.samplers.TPESampler(seed=42)   \n",
    "   study = optuna.create_study(direction=\"maximize\", sampler = sampler)   \n",
    "   optuna.logging.set_verbosity(optuna.logging.WARNING)  \n",
    "   study.optimize(objective, n_trials = n_trials, n_jobs = -1, show_progress_bar = True)\n",
    "   \n",
    "   best_params = study.best_params\n",
    "   best_recall = study.best_value\n",
    "   \n",
    "   return best_params, best_recall"
   ]
  },
  {
   "cell_type": "code",
   "execution_count": 47,
   "metadata": {},
   "outputs": [
    {
     "data": {
      "application/vnd.jupyter.widget-view+json": {
       "model_id": "5c110e437ddc47a585e122462429acb1",
       "version_major": 2,
       "version_minor": 0
      },
      "text/plain": [
       "  0%|          | 0/100 [00:00<?, ?it/s]"
      ]
     },
     "metadata": {},
     "output_type": "display_data"
    }
   ],
   "source": [
    "best_params_logreg, best_recall_logreg = logistic_tuning(X_train, y_train, 100)"
   ]
  },
  {
   "cell_type": "code",
   "execution_count": 48,
   "metadata": {},
   "outputs": [
    {
     "name": "stdout",
     "output_type": "stream",
     "text": [
      "Test Recall with Best Hyperparameters: 0.8016005335111704\n"
     ]
    }
   ],
   "source": [
    "model_logreg_tuned = LogisticRegression(**best_params_logreg, random_state = 42)\n",
    "model_logreg_tuned.fit(X_train, y_train)\n",
    "\n",
    "y_pred_logreg_tuned = model_logreg_tuned.predict(X_test)\n",
    "\n",
    "recall_rf = recall_score(y_test, y_pred_logreg_tuned, average = 'weighted') \n",
    "print(\"Test Recall with Best Hyperparameters:\", recall_rf)"
   ]
  },
  {
   "cell_type": "code",
   "execution_count": 49,
   "metadata": {},
   "outputs": [
    {
     "name": "stdout",
     "output_type": "stream",
     "text": [
      "Multi-class AUC (One-vs-Rest): 0.9674002903737865\n"
     ]
    }
   ],
   "source": [
    "clf_logreg_proba = model_logreg_tuned.predict_proba(X_test)\n",
    "auc_score = roc_auc_score(y_test, clf_logreg_proba, multi_class = 'ovr')\n",
    "print(\"Multi-class AUC (One-vs-Rest):\", auc_score)"
   ]
  },
  {
   "cell_type": "code",
   "execution_count": 50,
   "metadata": {},
   "outputs": [
    {
     "name": "stdout",
     "output_type": "stream",
     "text": [
      "Confussion Matrix:\n"
     ]
    },
    {
     "data": {
      "image/png": "[encoded data removed]",
      "text/plain": [
       "<Figure size 640x480 with 2 Axes>"
      ]
     },
     "metadata": {},
     "output_type": "display_data"
    }
   ],
   "source": [
    "print('Confussion Matrix:')\n",
    "sns.heatmap(confusion_matrix(y_test, y_pred_logreg_tuned), annot = True, fmt = 'd', cmap = 'Blues')\n",
    "plt.xlabel('Predicted')\n",
    "plt.ylabel('Actual')\n",
    "plt.show()"
   ]
  },
  {
   "cell_type": "code",
   "execution_count": 51,
   "metadata": {},
   "outputs": [
    {
     "name": "stdout",
     "output_type": "stream",
     "text": [
      "Classification Report:\n",
      "              precision    recall  f1-score   support\n",
      "\n",
      "           0       0.90      0.92      0.91      2412\n",
      "           1       0.81      0.80      0.81      2136\n",
      "           2       0.73      0.74      0.73      1950\n",
      "           3       0.75      0.75      0.75      1923\n",
      "           4       0.77      0.72      0.74       576\n",
      "\n",
      "    accuracy                           0.80      8997\n",
      "   macro avg       0.79      0.78      0.79      8997\n",
      "weighted avg       0.80      0.80      0.80      8997\n",
      "\n"
     ]
    }
   ],
   "source": [
    "report = classification_report(y_test, y_pred_logreg_tuned)\n",
    "print(\"Classification Report:\")\n",
    "print(report)"
   ]
  },
  {
   "cell_type": "code",
   "execution_count": 57,
   "metadata": {},
   "outputs": [
    {
     "data": {
      "text/plain": [
       "['../models/clusters/model_logreg.joblib']"
      ]
     },
     "execution_count": 57,
     "metadata": {},
     "output_type": "execute_result"
    }
   ],
   "source": [
    "dump(model_logreg_tuned, '../models/clusters/model_logreg.joblib')"
   ]
  },
  {
   "cell_type": "code",
   "execution_count": 52,
   "metadata": {},
   "outputs": [
    {
     "name": "stdout",
     "output_type": "stream",
     "text": [
      "[LightGBM] [Info] Auto-choosing row-wise multi-threading, the overhead of testing was 0.000440 seconds.\n",
      "You can set `force_row_wise=true` to remove the overhead.\n",
      "And if memory is not enough, you can set `force_col_wise=true`.\n",
      "[LightGBM] [Info] Total Bins 1272\n",
      "[LightGBM] [Info] Number of data points in the train set: 35986, number of used features: 9\n",
      "[LightGBM] [Info] Start training from score -1.311932\n",
      "[LightGBM] [Info] Start training from score -1.420152\n",
      "[LightGBM] [Info] Start training from score -1.531702\n",
      "[LightGBM] [Info] Start training from score -1.569828\n",
      "[LightGBM] [Info] Start training from score -2.736833\n"
     ]
    }
   ],
   "source": [
    "voting_clf_soft = VotingClassifier(\n",
    "    estimators=[\n",
    "        ('model_1', model_rf_tuned),\n",
    "        ('model_2', model_xgb_tuned),\n",
    "        ('model_3', model_lgbm_tuned),\n",
    "        ('model_4', model_logreg_tuned),\n",
    "    ],\n",
    "    voting = 'soft'  # 'hard' = majority vote\n",
    ")\n",
    "\n",
    "voting_clf_soft.fit(X_train, y_train)\n",
    "final_predictions_soft = voting_clf_soft.predict(X_test)"
   ]
  },
  {
   "cell_type": "code",
   "execution_count": 58,
   "metadata": {},
   "outputs": [
    {
     "name": "stdout",
     "output_type": "stream",
     "text": [
      "Test Recall with Best Hyperparameters: 0.8243859064132488\n"
     ]
    }
   ],
   "source": [
    "recall_rf = recall_score(y_test, final_predictions_soft, average = 'weighted') \n",
    "print(\"Test Recall with Best Hyperparameters:\", recall_rf)"
   ]
  },
  {
   "cell_type": "code",
   "execution_count": 60,
   "metadata": {},
   "outputs": [
    {
     "name": "stdout",
     "output_type": "stream",
     "text": [
      "Soft accuracy: 0.8243859064132488\n"
     ]
    }
   ],
   "source": [
    "accuracy_soft = voting_clf_soft.score(X_test, y_test)\n",
    "print(\"Soft accuracy:\", accuracy_soft)"
   ]
  },
  {
   "cell_type": "code",
   "execution_count": 62,
   "metadata": {},
   "outputs": [
    {
     "name": "stdout",
     "output_type": "stream",
     "text": [
      "Multi-class AUC (One-vs-Rest): 0.9729488903232077\n"
     ]
    }
   ],
   "source": [
    "voting_soft_proba = voting_clf_soft.predict_proba(X_test)\n",
    "auc_score = roc_auc_score(y_test, voting_soft_proba, multi_class = 'ovr')\n",
    "print(\"Multi-class AUC (One-vs-Rest):\", auc_score)"
   ]
  },
  {
   "cell_type": "markdown",
   "metadata": {},
   "source": [
    "# Regression"
   ]
  },
  {
   "cell_type": "markdown",
   "metadata": {},
   "source": [
    "Functions"
   ]
  },
  {
   "cell_type": "code",
   "execution_count": 262,
   "metadata": {},
   "outputs": [],
   "source": [
    "# Random Forest\n",
    "\n",
    "def randomforest_regressor_tuning(X_train, y_train, n_trials):\n",
    "   \n",
    "    def objective(trial):\n",
    "        # Define the hyperparameter search space\n",
    "        n_estimators = trial.suggest_int(\"n_estimators\", 50, 300)\n",
    "        max_depth = trial.suggest_int(\"max_depth\", 5, 50)\n",
    "        min_samples_split = trial.suggest_int(\"min_samples_split\", 2, 20)\n",
    "        min_samples_leaf = trial.suggest_int(\"min_samples_leaf\", 1, 20)\n",
    "        max_features = trial.suggest_categorical(\"max_features\", [\"sqrt\", \"log2\", None])\n",
    "    \n",
    "        # Train the Random Forest Regressor\n",
    "        model = RandomForestRegressor(\n",
    "            n_estimators = n_estimators,\n",
    "            max_depth = max_depth,\n",
    "            min_samples_split = min_samples_split,\n",
    "            min_samples_leaf = min_samples_leaf,\n",
    "            max_features = max_features,\n",
    "            random_state = 42\n",
    "        )\n",
    "        # Cross-validation\n",
    "        cv_rmse = cross_val_score(model, X_train, y_train.squeeze(), scoring = \"neg_root_mean_squared_error\", cv = 5)   \n",
    "\n",
    "        # Return the mean of the RMSE across all folds\n",
    "        rmse = -np.mean(cv_rmse)\n",
    "\n",
    "        # Return RMSE for optimization\n",
    "        return rmse\n",
    "\n",
    "    # Run Optuna optimization\n",
    "    sampler = optuna.samplers.TPESampler(seed = 42) \n",
    "    study = optuna.create_study(direction = \"minimize\")\n",
    "    optuna.logging.set_verbosity(optuna.logging.WARNING)\n",
    "    study.optimize(objective, n_trials = n_trials, n_jobs = -1, show_progress_bar = True)\n",
    "\n",
    "    # Best parameters\n",
    "    rf_best_params = study.best_params\n",
    "    rf_best_rmse = study.best_value\n",
    "   \n",
    "    return rf_best_params, rf_best_rmse"
   ]
  },
  {
   "cell_type": "code",
   "execution_count": 263,
   "metadata": {},
   "outputs": [],
   "source": [
    "# XGBoost\n",
    "\n",
    "def xgboost_regressor_tuning(X_train, y_train, n_trials):\n",
    "   \n",
    "    def objective(trial):\n",
    "        # Define the hyperparameter search space\n",
    "        n_estimators = trial.suggest_int(\"n_estimators\", 50, 300)\n",
    "        max_depth = trial.suggest_int(\"max_depth\", 3, 15)\n",
    "        learning_rate = trial.suggest_float(\"learning_rate\", 0.01, 0.3)\n",
    "        subsample = trial.suggest_float(\"subsample\", 0.6, 1.0)\n",
    "        colsample_bytree = trial.suggest_float(\"colsample_bytree\", 0.6, 1.0)\n",
    "        gamma = trial.suggest_float(\"gamma\", 0, 10)\n",
    "        reg_alpha = trial.suggest_float(\"reg_alpha\", 0, 10)\n",
    "        reg_lambda = trial.suggest_float(\"reg_lambda\", 0, 10)\n",
    "        \n",
    "        # Train the XGBoost Regressor\n",
    "        model = XGBRegressor(\n",
    "            n_estimators = n_estimators,\n",
    "            max_depth = max_depth,\n",
    "            learning_rate = learning_rate,\n",
    "            subsample = subsample,\n",
    "            colsample_bytree = colsample_bytree,\n",
    "            gamma = gamma,\n",
    "            reg_alpha = reg_alpha,\n",
    "            reg_lambda = reg_lambda,\n",
    "            random_state = 42,\n",
    "            use_label_encoder = False\n",
    "        )\n",
    "        \n",
    "        # Cross-validation\n",
    "        cv_rmse = cross_val_score(model, X_train, y_train.squeeze(), scoring = \"neg_root_mean_squared_error\", cv = 5)   \n",
    "\n",
    "        # Return the mean of the RMSE across all folds\n",
    "        rmse = -np.mean(cv_rmse)\n",
    "        \n",
    "        # Return RMSE for optimization\n",
    "        return rmse\n",
    "\n",
    "    # Run Optuna optimization\n",
    "    sampler = optuna.samplers.TPESampler(seed = 42)\n",
    "    study = optuna.create_study(direction = \"minimize\")\n",
    "    optuna.logging.set_verbosity(optuna.logging.WARNING)\n",
    "    study.optimize(objective, n_trials = n_trials, n_jobs = -1, show_progress_bar = True)\n",
    "\n",
    "    # Best parameters\n",
    "    xgb_best_params = study.best_params\n",
    "    xgb_best_rmse = study.best_value\n",
    "   \n",
    "    return xgb_best_params, xgb_best_rmse"
   ]
  },
  {
   "cell_type": "code",
   "execution_count": 264,
   "metadata": {},
   "outputs": [],
   "source": [
    "# LightGBM\n",
    "\n",
    "def lightgbm_regressor_tuning(X_train, y_train, n_trials):\n",
    "   \n",
    "    def objective(trial):\n",
    "        # Define the hyperparameter search space\n",
    "        n_estimators = trial.suggest_int(\"n_estimators\", 50, 300)\n",
    "        max_depth = trial.suggest_int(\"max_depth\", 3, 15)\n",
    "        learning_rate = trial.suggest_float(\"learning_rate\", 0.01, 0.3)\n",
    "        subsample = trial.suggest_float(\"subsample\", 0.6, 1.0)\n",
    "        colsample_bytree = trial.suggest_float(\"colsample_bytree\", 0.6, 1.0)\n",
    "        num_leaves = trial.suggest_int(\"num_leaves\", 20, 150)\n",
    "        min_child_samples = trial.suggest_int(\"min_child_samples\", 10, 50)\n",
    "        reg_alpha = trial.suggest_float(\"reg_alpha\", 0, 10)\n",
    "        reg_lambda = trial.suggest_float(\"reg_lambda\", 0, 10)\n",
    "        \n",
    "        # Train the LightGBM Regressor\n",
    "        model = LGBMRegressor(\n",
    "            n_estimators = n_estimators,\n",
    "            max_depth = max_depth,\n",
    "            learning_rate = learning_rate,\n",
    "            subsample = subsample,\n",
    "            colsample_bytree = colsample_bytree,\n",
    "            num_leaves = num_leaves,\n",
    "            min_child_samples = min_child_samples,\n",
    "            reg_alpha = reg_alpha,\n",
    "            reg_lambda = reg_lambda,\n",
    "            random_state = 42\n",
    "        )\n",
    "        \n",
    "        # Cross-validation\n",
    "        cv_rmse = cross_val_score(model, X_train, y_train.squeeze(), scoring = \"neg_root_mean_squared_error\", cv = 5)   \n",
    "\n",
    "        # Return the mean of the RMSE across all folds\n",
    "        rmse = -np.mean(cv_rmse)\n",
    "        \n",
    "        # Return RMSE for optimization\n",
    "        return rmse\n",
    "\n",
    "    # Run Optuna optimization\n",
    "    sampler = optuna.samplers.TPESampler(seed = 42)\n",
    "    study = optuna.create_study(direction = \"minimize\")\n",
    "    optuna.logging.set_verbosity(optuna.logging.WARNING)\n",
    "    study.optimize(objective, n_trials = n_trials, n_jobs = -1, show_progress_bar = True)\n",
    "\n",
    "    # Best parameters\n",
    "    lgbm_best_params = study.best_params\n",
    "    lgbm_best_rmse = study.best_value\n",
    "   \n",
    "    return lgbm_best_params, lgbm_best_rmse"
   ]
  },
  {
   "cell_type": "code",
   "execution_count": 265,
   "metadata": {},
   "outputs": [],
   "source": [
    "# CatBoost\n",
    "\n",
    "def catboost_regressor_tuning(X_train, y_train, n_trials):\n",
    "   \n",
    "    def objective(trial):\n",
    "        # Define the hyperparameter search space\n",
    "        iterations = trial.suggest_int(\"iterations\", 100, 1000)\n",
    "        depth = trial.suggest_int(\"depth\", 3, 12)\n",
    "        learning_rate = trial.suggest_float(\"learning_rate\", 0.01, 0.3)\n",
    "        l2_leaf_reg = trial.suggest_float(\"l2_leaf_reg\", 1e-3, 10.0, log=True)\n",
    "        bagging_temperature = trial.suggest_float(\"bagging_temperature\", 0.0, 1.0)\n",
    "        border_count = trial.suggest_int(\"border_count\", 32, 255)\n",
    "\n",
    "        # Train the CatBoost Regressor\n",
    "        model = CatBoostRegressor(\n",
    "            iterations = iterations,\n",
    "            depth = depth,\n",
    "            learning_rate = learning_rate,\n",
    "            l2_leaf_reg = l2_leaf_reg,\n",
    "            bagging_temperature = bagging_temperature,\n",
    "            border_count = border_count,\n",
    "            random_seed = 42,\n",
    "            verbose = 0  # Suppress output\n",
    "        )\n",
    "        \n",
    "        # Cross-validation\n",
    "        cv_rmse = cross_val_score(model, X_train, y_train.squeeze(), scoring = \"neg_root_mean_squared_error\", cv = 5)   \n",
    "\n",
    "        # Return the mean of the RMSE across all folds\n",
    "        rmse = -np.mean(cv_rmse)\n",
    "\n",
    "        # Return RMSE for optimization\n",
    "        return rmse\n",
    "\n",
    "    # Run Optuna optimization\n",
    "    sampler = optuna.samplers.TPESampler(seed = 42)\n",
    "    study = optuna.create_study(direction = \"minimize\")\n",
    "    optuna.logging.set_verbosity(optuna.logging.WARNING)\n",
    "    study.optimize(objective, n_trials = 50, n_jobs = -1, show_progress_bar = True)\n",
    "\n",
    "    # Best parameters\n",
    "    cat_best_params = study.best_params\n",
    "    cat_best_rmse = study.best_value\n",
    "   \n",
    "    return cat_best_params, cat_best_rmse"
   ]
  },
  {
   "cell_type": "markdown",
   "metadata": {},
   "source": [
    "Cluster 0"
   ]
  },
  {
   "cell_type": "code",
   "execution_count": 66,
   "metadata": {},
   "outputs": [],
   "source": [
    "X_0 = df_0.drop(columns = ['cluster', 'price'], axis =1)\n",
    "y_0 = df_0['price']\n",
    "\n",
    "X_0_train, X_0_test, y_0_train, y_0_test = train_test_split(X_0, y_0, test_size = 0.2, random_state = 42)"
   ]
  },
  {
   "cell_type": "code",
   "execution_count": 408,
   "metadata": {},
   "outputs": [],
   "source": [
    "scaler_0 = StandardScaler()\n",
    "\n",
    "X_0_train = scaler_0.fit_transform(X_0_train)\n",
    "X_0_test = scaler_0.transform(X_0_test)\n",
    "\n",
    "X_0_train = pd.DataFrame(X_0_train, columns = X_0.columns.to_list())\n",
    "X_0_test = pd.DataFrame(X_0_test, columns = X_0.columns.to_list())"
   ]
  },
  {
   "cell_type": "code",
   "execution_count": 409,
   "metadata": {},
   "outputs": [
    {
     "data": {
      "text/plain": [
       "['../models/cluster 0/scaler_0.joblib']"
      ]
     },
     "execution_count": 409,
     "metadata": {},
     "output_type": "execute_result"
    }
   ],
   "source": [
    "dump(scaler_0, '../models/cluster 0/scaler_0.joblib')"
   ]
  },
  {
   "cell_type": "code",
   "execution_count": 347,
   "metadata": {},
   "outputs": [],
   "source": [
    "rmse_0 = []"
   ]
  },
  {
   "cell_type": "code",
   "execution_count": 266,
   "metadata": {},
   "outputs": [
    {
     "data": {
      "application/vnd.jupyter.widget-view+json": {
       "model_id": "980dafbbbe3442c8b64d09045588a9e0",
       "version_major": 2,
       "version_minor": 0
      },
      "text/plain": [
       "  0%|          | 0/100 [00:00<?, ?it/s]"
      ]
     },
     "metadata": {},
     "output_type": "display_data"
    }
   ],
   "source": [
    "rf_0_best_params, rf_0_best_rmse = randomforest_regressor_tuning(X_0_train, y_0_train, 100)"
   ]
  },
  {
   "cell_type": "code",
   "execution_count": 348,
   "metadata": {},
   "outputs": [
    {
     "name": "stdout",
     "output_type": "stream",
     "text": [
      "RMSE :  111.15420245798845\n",
      "RMSE to mean ratio :  0.15680799990606242\n"
     ]
    }
   ],
   "source": [
    "rf_0_best_model = RandomForestRegressor(**rf_0_best_params, random_state = 42)\n",
    "rf_0_best_model.fit(X_0_train, y_0_train.squeeze())\n",
    "rf_0_y_pred_best = rf_0_best_model.predict(X_0_test)\n",
    "\n",
    "rf_0_best_rmse = root_mean_squared_error(y_0_test, rf_0_y_pred_best)\n",
    "\n",
    "print('RMSE : ', rf_0_best_rmse)\n",
    "print('RMSE to mean ratio : ', rf_0_best_rmse / y_0_test.mean())\n",
    "\n",
    "rmse_0.append(rf_0_best_rmse)"
   ]
  },
  {
   "cell_type": "code",
   "execution_count": 268,
   "metadata": {},
   "outputs": [
    {
     "data": {
      "text/plain": [
       "['../models/cluster 0/rf_0_best_model.joblib']"
      ]
     },
     "execution_count": 268,
     "metadata": {},
     "output_type": "execute_result"
    }
   ],
   "source": [
    "dump(rf_0_best_model, '../models/cluster 0/rf_0_best_model.joblib')"
   ]
  },
  {
   "cell_type": "code",
   "execution_count": 269,
   "metadata": {},
   "outputs": [
    {
     "data": {
      "application/vnd.jupyter.widget-view+json": {
       "model_id": "b51b0ed7bd224607a616f5e02efd84e1",
       "version_major": 2,
       "version_minor": 0
      },
      "text/plain": [
       "  0%|          | 0/100 [00:00<?, ?it/s]"
      ]
     },
     "metadata": {},
     "output_type": "display_data"
    }
   ],
   "source": [
    "xgb_0_best_params, xgb_0_best_rmse = xgboost_regressor_tuning(X_0_train, y_0_train, 100)"
   ]
  },
  {
   "cell_type": "code",
   "execution_count": 349,
   "metadata": {},
   "outputs": [
    {
     "name": "stdout",
     "output_type": "stream",
     "text": [
      "RMSE :  110.06978272609258\n",
      "RMSE to mean ratio :  0.1552781820003334\n"
     ]
    }
   ],
   "source": [
    "xgb_0_best_model = XGBRegressor(**xgb_0_best_params, random_state = 42)\n",
    "xgb_0_best_model.fit(X_0_train, y_0_train.squeeze())\n",
    "xgb_0_y_pred_best = xgb_0_best_model.predict(X_0_test)\n",
    "\n",
    "xgb_0_best_rmse = root_mean_squared_error(y_0_test, xgb_0_y_pred_best)\n",
    "\n",
    "print('RMSE : ', xgb_0_best_rmse)\n",
    "print('RMSE to mean ratio : ', xgb_0_best_rmse / y_0_test.mean())\n",
    "\n",
    "rmse_0.append(xgb_0_best_rmse)"
   ]
  },
  {
   "cell_type": "code",
   "execution_count": 271,
   "metadata": {},
   "outputs": [
    {
     "data": {
      "text/plain": [
       "['../models/cluster 0/xgb_0_best_model.joblib']"
      ]
     },
     "execution_count": 271,
     "metadata": {},
     "output_type": "execute_result"
    }
   ],
   "source": [
    "dump(xgb_0_best_model, '../models/cluster 0/xgb_0_best_model.joblib')"
   ]
  },
  {
   "cell_type": "code",
   "execution_count": 272,
   "metadata": {},
   "outputs": [
    {
     "data": {
      "application/vnd.jupyter.widget-view+json": {
       "model_id": "5d3407ed5ec74fa3becb70244e73c711",
       "version_major": 2,
       "version_minor": 0
      },
      "text/plain": [
       "  0%|          | 0/100 [00:00<?, ?it/s]"
      ]
     },
     "metadata": {},
     "output_type": "display_data"
    }
   ],
   "source": [
    "lgbm_0_best_params, lgbm_0_best_rmse = lightgbm_regressor_tuning(X_0_train, y_0_train, 100)"
   ]
  },
  {
   "cell_type": "code",
   "execution_count": 350,
   "metadata": {},
   "outputs": [
    {
     "name": "stdout",
     "output_type": "stream",
     "text": [
      "RMSE :  110.24835384528858\n",
      "RMSE to mean ratio :  0.15553009672261026\n"
     ]
    }
   ],
   "source": [
    "lgbm_0_best_model = LGBMRegressor(**lgbm_0_best_params, random_state = 42, verbose = -1)\n",
    "lgbm_0_best_model.fit(X_0_train, y_0_train.squeeze())\n",
    "lgbm_0_y_pred_best = lgbm_0_best_model.predict(X_0_test)\n",
    "\n",
    "lgbm_0_best_rmse = root_mean_squared_error(y_0_test, lgbm_0_y_pred_best)\n",
    "\n",
    "print('RMSE : ', lgbm_0_best_rmse)\n",
    "print('RMSE to mean ratio : ', lgbm_0_best_rmse / y_0_test.mean())\n",
    "\n",
    "rmse_0.append(lgbm_0_best_rmse)"
   ]
  },
  {
   "cell_type": "code",
   "execution_count": 274,
   "metadata": {},
   "outputs": [
    {
     "data": {
      "text/plain": [
       "['../models/cluster 0/lgbm_0_best_model.joblib']"
      ]
     },
     "execution_count": 274,
     "metadata": {},
     "output_type": "execute_result"
    }
   ],
   "source": [
    "dump(lgbm_0_best_model, '../models/cluster 0/lgbm_0_best_model.joblib')"
   ]
  },
  {
   "cell_type": "code",
   "execution_count": 275,
   "metadata": {},
   "outputs": [
    {
     "data": {
      "application/vnd.jupyter.widget-view+json": {
       "model_id": "12943a08812b411b90c08d5ba4d87146",
       "version_major": 2,
       "version_minor": 0
      },
      "text/plain": [
       "  0%|          | 0/50 [00:00<?, ?it/s]"
      ]
     },
     "metadata": {},
     "output_type": "display_data"
    }
   ],
   "source": [
    "cat_0_best_params, cat_0_best_rmse = catboost_regressor_tuning(X_0_train, y_0_train, 100)"
   ]
  },
  {
   "cell_type": "code",
   "execution_count": 351,
   "metadata": {},
   "outputs": [
    {
     "name": "stdout",
     "output_type": "stream",
     "text": [
      "RMSE :  110.0593521450569\n",
      "RMSE to mean ratio :  0.15526346732006135\n"
     ]
    }
   ],
   "source": [
    "cat_0_best_model = CatBoostRegressor(**cat_0_best_params, random_state = 42, verbose = False)\n",
    "cat_0_best_model.fit(X_0_train, y_0_train.squeeze())\n",
    "cat_0_y_pred_best = cat_0_best_model.predict(X_0_test)\n",
    "\n",
    "cat_0_best_rmse = root_mean_squared_error(y_0_test, cat_0_y_pred_best)\n",
    "\n",
    "print('RMSE : ', cat_0_best_rmse)\n",
    "print('RMSE to mean ratio : ', cat_0_best_rmse / y_0_test.mean())\n",
    "\n",
    "rmse_0.append(cat_0_best_rmse)"
   ]
  },
  {
   "cell_type": "code",
   "execution_count": 277,
   "metadata": {},
   "outputs": [
    {
     "data": {
      "text/plain": [
       "['../models/cluster 0/cat_0_best_model.joblib']"
      ]
     },
     "execution_count": 277,
     "metadata": {},
     "output_type": "execute_result"
    }
   ],
   "source": [
    "dump(cat_0_best_model, '../models/cluster 0/cat_0_best_model.joblib')"
   ]
  },
  {
   "cell_type": "markdown",
   "metadata": {},
   "source": [
    "Cluster 1"
   ]
  },
  {
   "cell_type": "code",
   "execution_count": 278,
   "metadata": {},
   "outputs": [],
   "source": [
    "X_1 = df_1.drop(columns = ['cluster', 'price'], axis =1)\n",
    "y_1 = df_1['price']\n",
    "\n",
    "X_1_train, X_1_test, y_1_train, y_1_test = train_test_split(X_1, y_1, test_size = 0.2, random_state = 42)"
   ]
  },
  {
   "cell_type": "code",
   "execution_count": 410,
   "metadata": {},
   "outputs": [],
   "source": [
    "scaler_1 = StandardScaler()\n",
    "\n",
    "X_1_train = scaler_1.fit_transform(X_1_train)\n",
    "X_1_test = scaler_1.transform(X_1_test)\n",
    "\n",
    "X_1_train = pd.DataFrame(X_1_train, columns = X_1.columns.to_list())\n",
    "X_1_test = pd.DataFrame(X_1_test, columns = X_1.columns.to_list())"
   ]
  },
  {
   "cell_type": "code",
   "execution_count": 411,
   "metadata": {},
   "outputs": [
    {
     "data": {
      "text/plain": [
       "['../models/cluster 1/scaler_1.joblib']"
      ]
     },
     "execution_count": 411,
     "metadata": {},
     "output_type": "execute_result"
    }
   ],
   "source": [
    "dump(scaler_1, '../models/cluster 1/scaler_1.joblib')"
   ]
  },
  {
   "cell_type": "code",
   "execution_count": 354,
   "metadata": {},
   "outputs": [],
   "source": [
    "rmse_1 = []"
   ]
  },
  {
   "cell_type": "code",
   "execution_count": 282,
   "metadata": {},
   "outputs": [
    {
     "data": {
      "application/vnd.jupyter.widget-view+json": {
       "model_id": "5c163652885b4e9b84553b3639bfed31",
       "version_major": 2,
       "version_minor": 0
      },
      "text/plain": [
       "  0%|          | 0/100 [00:00<?, ?it/s]"
      ]
     },
     "metadata": {},
     "output_type": "display_data"
    }
   ],
   "source": [
    "rf_1_best_params, rf_1_best_rmse = randomforest_regressor_tuning(X_1_train, y_1_train, 100)"
   ]
  },
  {
   "cell_type": "code",
   "execution_count": 355,
   "metadata": {},
   "outputs": [
    {
     "name": "stdout",
     "output_type": "stream",
     "text": [
      "RMSE :  241.3033497154207\n",
      "RMSE to mean ratio :  0.14569663778577413\n"
     ]
    }
   ],
   "source": [
    "rf_1_best_model = RandomForestRegressor(**rf_1_best_params, random_state = 42)\n",
    "rf_1_best_model.fit(X_1_train, y_1_train.squeeze())\n",
    "rf_1_y_pred_best = rf_1_best_model.predict(X_1_test)\n",
    "\n",
    "rf_1_best_rmse = root_mean_squared_error(y_1_test, rf_1_y_pred_best)\n",
    "\n",
    "print('RMSE : ', rf_1_best_rmse)\n",
    "print('RMSE to mean ratio : ', rf_1_best_rmse / y_1_test.mean())\n",
    "\n",
    "rmse_1.append(rf_1_best_rmse)"
   ]
  },
  {
   "cell_type": "code",
   "execution_count": 284,
   "metadata": {},
   "outputs": [
    {
     "data": {
      "text/plain": [
       "['../models/cluster 1/rf_1_best_model.joblib']"
      ]
     },
     "execution_count": 284,
     "metadata": {},
     "output_type": "execute_result"
    }
   ],
   "source": [
    "dump(rf_1_best_model, '../models/cluster 1/rf_1_best_model.joblib')"
   ]
  },
  {
   "cell_type": "code",
   "execution_count": 285,
   "metadata": {},
   "outputs": [
    {
     "data": {
      "application/vnd.jupyter.widget-view+json": {
       "model_id": "3b73eb9c93cd4074ad15d40d2f8e74a6",
       "version_major": 2,
       "version_minor": 0
      },
      "text/plain": [
       "  0%|          | 0/100 [00:00<?, ?it/s]"
      ]
     },
     "metadata": {},
     "output_type": "display_data"
    }
   ],
   "source": [
    "xgb_1_best_params, xgb_1_best_rmse = xgboost_regressor_tuning(X_1_train, y_1_train, 100)"
   ]
  },
  {
   "cell_type": "code",
   "execution_count": 356,
   "metadata": {},
   "outputs": [
    {
     "name": "stdout",
     "output_type": "stream",
     "text": [
      "RMSE :  240.49068843343528\n",
      "RMSE to mean ratio :  0.14520596073307848\n"
     ]
    }
   ],
   "source": [
    "xgb_1_best_model = XGBRegressor(**xgb_1_best_params, random_state = 42)\n",
    "xgb_1_best_model.fit(X_1_train, y_1_train.squeeze())\n",
    "xgb_1_y_pred_best = xgb_1_best_model.predict(X_1_test)\n",
    "\n",
    "xgb_1_best_rmse = root_mean_squared_error(y_1_test, xgb_1_y_pred_best)\n",
    "\n",
    "print('RMSE : ', xgb_1_best_rmse)\n",
    "print('RMSE to mean ratio : ', xgb_1_best_rmse / y_1_test.mean())\n",
    "\n",
    "rmse_1.append(xgb_1_best_rmse)"
   ]
  },
  {
   "cell_type": "code",
   "execution_count": 287,
   "metadata": {},
   "outputs": [
    {
     "data": {
      "text/plain": [
       "['../models/cluster 1/xgb_1_best_model.joblib']"
      ]
     },
     "execution_count": 287,
     "metadata": {},
     "output_type": "execute_result"
    }
   ],
   "source": [
    "dump(xgb_1_best_model, '../models/cluster 1/xgb_1_best_model.joblib')"
   ]
  },
  {
   "cell_type": "code",
   "execution_count": 288,
   "metadata": {},
   "outputs": [
    {
     "data": {
      "application/vnd.jupyter.widget-view+json": {
       "model_id": "748474a15a7c4d50a622410eb63ba122",
       "version_major": 2,
       "version_minor": 0
      },
      "text/plain": [
       "  0%|          | 0/100 [00:00<?, ?it/s]"
      ]
     },
     "metadata": {},
     "output_type": "display_data"
    }
   ],
   "source": [
    "lgbm_1_best_params, lgbm_1_best_rmse = lightgbm_regressor_tuning(X_1_train, y_1_train, 100)"
   ]
  },
  {
   "cell_type": "code",
   "execution_count": 357,
   "metadata": {},
   "outputs": [
    {
     "name": "stdout",
     "output_type": "stream",
     "text": [
      "RMSE :  240.79741331136466\n",
      "RMSE to mean ratio :  0.14539115825931367\n"
     ]
    }
   ],
   "source": [
    "lgbm_1_best_model = LGBMRegressor(**lgbm_1_best_params, random_state = 42, verbose = -1)\n",
    "lgbm_1_best_model.fit(X_1_train, y_1_train.squeeze())\n",
    "lgbm_1_y_pred_best = lgbm_1_best_model.predict(X_1_test)\n",
    "\n",
    "lgbm_1_best_rmse = root_mean_squared_error(y_1_test, lgbm_1_y_pred_best)\n",
    "\n",
    "print('RMSE : ', lgbm_1_best_rmse)\n",
    "print('RMSE to mean ratio : ', lgbm_1_best_rmse / y_1_test.mean())\n",
    "\n",
    "rmse_1.append(lgbm_1_best_rmse)"
   ]
  },
  {
   "cell_type": "code",
   "execution_count": 290,
   "metadata": {},
   "outputs": [
    {
     "data": {
      "text/plain": [
       "['../models/cluster 1/lgbm_1_best_model.joblib']"
      ]
     },
     "execution_count": 290,
     "metadata": {},
     "output_type": "execute_result"
    }
   ],
   "source": [
    "dump(lgbm_1_best_model, '../models/cluster 1/lgbm_1_best_model.joblib')"
   ]
  },
  {
   "cell_type": "code",
   "execution_count": 291,
   "metadata": {},
   "outputs": [
    {
     "data": {
      "application/vnd.jupyter.widget-view+json": {
       "model_id": "5642b18d68e744aaa77d255e54918514",
       "version_major": 2,
       "version_minor": 0
      },
      "text/plain": [
       "  0%|          | 0/50 [00:00<?, ?it/s]"
      ]
     },
     "metadata": {},
     "output_type": "display_data"
    }
   ],
   "source": [
    "cat_1_best_params, cat_1_best_rmse = catboost_regressor_tuning(X_1_train, y_1_train, 100)"
   ]
  },
  {
   "cell_type": "code",
   "execution_count": 358,
   "metadata": {},
   "outputs": [
    {
     "name": "stdout",
     "output_type": "stream",
     "text": [
      "RMSE :  241.3167081252452\n",
      "RMSE to mean ratio :  0.14570470346492817\n"
     ]
    }
   ],
   "source": [
    "cat_1_best_model = CatBoostRegressor(**cat_1_best_params, random_state = 42, verbose = False)\n",
    "cat_1_best_model.fit(X_1_train, y_1_train.squeeze())\n",
    "cat_1_y_pred_best = cat_1_best_model.predict(X_1_test)\n",
    "\n",
    "cat_1_best_rmse = root_mean_squared_error(y_1_test, cat_1_y_pred_best)\n",
    "\n",
    "print('RMSE : ', cat_1_best_rmse)\n",
    "print('RMSE to mean ratio : ', cat_1_best_rmse / y_1_test.mean())\n",
    "\n",
    "rmse_1.append(cat_1_best_rmse)"
   ]
  },
  {
   "cell_type": "code",
   "execution_count": 293,
   "metadata": {},
   "outputs": [
    {
     "data": {
      "text/plain": [
       "['../models/cluster 1/cat_1_best_model.joblib']"
      ]
     },
     "execution_count": 293,
     "metadata": {},
     "output_type": "execute_result"
    }
   ],
   "source": [
    "dump(cat_1_best_model, '../models/cluster 1/cat_1_best_model.joblib')"
   ]
  },
  {
   "cell_type": "markdown",
   "metadata": {},
   "source": [
    "Cluster 2"
   ]
  },
  {
   "cell_type": "code",
   "execution_count": 294,
   "metadata": {},
   "outputs": [],
   "source": [
    "X_2 = df_2.drop(columns = ['cluster', 'price'], axis =1)\n",
    "y_2 = df_2['price']\n",
    "\n",
    "X_2_train, X_2_test, y_2_train, y_2_test = train_test_split(X_2, y_2, test_size = 0.2, random_state = 42)"
   ]
  },
  {
   "cell_type": "code",
   "execution_count": 295,
   "metadata": {},
   "outputs": [],
   "source": [
    "scaler_2 = StandardScaler()\n",
    "\n",
    "X_2_train = scaler_2.fit_transform(X_2_train)\n",
    "X_2_test = scaler_2.transform(X_2_test)\n",
    "\n",
    "X_2_train = pd.DataFrame(X_2_train, columns = X_2.columns.to_list())\n",
    "X_2_test = pd.DataFrame(X_2_test, columns = X_2.columns.to_list())"
   ]
  },
  {
   "cell_type": "code",
   "execution_count": 401,
   "metadata": {},
   "outputs": [
    {
     "data": {
      "text/plain": [
       "['../models/cluster 2/scaler_2.joblib']"
      ]
     },
     "execution_count": 401,
     "metadata": {},
     "output_type": "execute_result"
    }
   ],
   "source": [
    "dump(scaler_2, '../models/cluster 2/scaler_2.joblib') "
   ]
  },
  {
   "cell_type": "code",
   "execution_count": 360,
   "metadata": {},
   "outputs": [],
   "source": [
    "rmse_2 = []"
   ]
  },
  {
   "cell_type": "code",
   "execution_count": 298,
   "metadata": {},
   "outputs": [
    {
     "data": {
      "application/vnd.jupyter.widget-view+json": {
       "model_id": "6492a99178dc44938ee5acb2390e571d",
       "version_major": 2,
       "version_minor": 0
      },
      "text/plain": [
       "  0%|          | 0/100 [00:00<?, ?it/s]"
      ]
     },
     "metadata": {},
     "output_type": "display_data"
    }
   ],
   "source": [
    "rf_2_best_params, rf_2_best_rmse = randomforest_regressor_tuning(X_2_train, y_2_train, 100)"
   ]
  },
  {
   "cell_type": "code",
   "execution_count": 361,
   "metadata": {},
   "outputs": [
    {
     "name": "stdout",
     "output_type": "stream",
     "text": [
      "RMSE :  447.1744183799205\n",
      "RMSE to mean ratio :  0.12057805014266836\n"
     ]
    }
   ],
   "source": [
    "rf_2_best_model = RandomForestRegressor(**rf_2_best_params, random_state = 42)\n",
    "rf_2_best_model.fit(X_2_train, y_2_train.squeeze())\n",
    "rf_2_y_pred_best = rf_2_best_model.predict(X_2_test)\n",
    "\n",
    "rf_2_best_rmse = root_mean_squared_error(y_2_test, rf_2_y_pred_best)\n",
    "\n",
    "print('RMSE : ', rf_2_best_rmse)\n",
    "print('RMSE to mean ratio : ', rf_2_best_rmse / y_2_test.mean())\n",
    "\n",
    "rmse_2.append(rf_2_best_rmse)"
   ]
  },
  {
   "cell_type": "code",
   "execution_count": 300,
   "metadata": {},
   "outputs": [
    {
     "data": {
      "text/plain": [
       "['../models/cluster 2/rf_2_best_model.joblib']"
      ]
     },
     "execution_count": 300,
     "metadata": {},
     "output_type": "execute_result"
    }
   ],
   "source": [
    "dump(rf_2_best_model, '../models/cluster 2/rf_2_best_model.joblib')"
   ]
  },
  {
   "cell_type": "code",
   "execution_count": 301,
   "metadata": {},
   "outputs": [
    {
     "data": {
      "application/vnd.jupyter.widget-view+json": {
       "model_id": "d5394de1073a40aea95896bd27bca042",
       "version_major": 2,
       "version_minor": 0
      },
      "text/plain": [
       "  0%|          | 0/100 [00:00<?, ?it/s]"
      ]
     },
     "metadata": {},
     "output_type": "display_data"
    }
   ],
   "source": [
    "xgb_2_best_params, xgb_2_best_rmse = xgboost_regressor_tuning(X_2_train, y_2_train, 100)"
   ]
  },
  {
   "cell_type": "code",
   "execution_count": 362,
   "metadata": {},
   "outputs": [
    {
     "name": "stdout",
     "output_type": "stream",
     "text": [
      "RMSE :  442.8042624728309\n",
      "RMSE to mean ratio :  0.11939966234489269\n"
     ]
    }
   ],
   "source": [
    "xgb_2_best_model = XGBRegressor(**xgb_2_best_params, random_state = 42)\n",
    "xgb_2_best_model.fit(X_2_train, y_2_train.squeeze())\n",
    "xgb_2_y_pred_best = xgb_2_best_model.predict(X_2_test)\n",
    "\n",
    "xgb_2_best_rmse = root_mean_squared_error(y_2_test, xgb_2_y_pred_best)\n",
    "\n",
    "print('RMSE : ', xgb_2_best_rmse)\n",
    "print('RMSE to mean ratio : ', xgb_2_best_rmse / y_2_test.mean())\n",
    "\n",
    "rmse_2.append(xgb_2_best_rmse)"
   ]
  },
  {
   "cell_type": "code",
   "execution_count": 303,
   "metadata": {},
   "outputs": [
    {
     "data": {
      "text/plain": [
       "['../models/cluster 2/xgb_2_best_model.joblib']"
      ]
     },
     "execution_count": 303,
     "metadata": {},
     "output_type": "execute_result"
    }
   ],
   "source": [
    "dump(xgb_2_best_model, '../models/cluster 2/xgb_2_best_model.joblib')"
   ]
  },
  {
   "cell_type": "code",
   "execution_count": 304,
   "metadata": {},
   "outputs": [
    {
     "data": {
      "application/vnd.jupyter.widget-view+json": {
       "model_id": "8e2e60ab30c940a5ba323f47206d4547",
       "version_major": 2,
       "version_minor": 0
      },
      "text/plain": [
       "  0%|          | 0/100 [00:00<?, ?it/s]"
      ]
     },
     "metadata": {},
     "output_type": "display_data"
    }
   ],
   "source": [
    "lgbm_2_best_params, lgbm_2_best_rmse = lightgbm_regressor_tuning(X_2_train, y_2_train, 100)"
   ]
  },
  {
   "cell_type": "code",
   "execution_count": 363,
   "metadata": {},
   "outputs": [
    {
     "name": "stdout",
     "output_type": "stream",
     "text": [
      "RMSE :  443.3813952054676\n",
      "RMSE to mean ratio :  0.11955528291868794\n"
     ]
    }
   ],
   "source": [
    "lgbm_2_best_model = LGBMRegressor(**lgbm_2_best_params, random_state = 42, verbose = -1)\n",
    "lgbm_2_best_model.fit(X_2_train, y_2_train.squeeze())\n",
    "lgbm_2_y_pred_best = lgbm_2_best_model.predict(X_2_test)\n",
    "\n",
    "lgbm_2_best_rmse = root_mean_squared_error(y_2_test, lgbm_2_y_pred_best)\n",
    "\n",
    "print('RMSE : ', lgbm_2_best_rmse)\n",
    "print('RMSE to mean ratio : ', lgbm_2_best_rmse / y_2_test.mean())\n",
    "\n",
    "rmse_2.append(lgbm_2_best_rmse)"
   ]
  },
  {
   "cell_type": "code",
   "execution_count": 306,
   "metadata": {},
   "outputs": [
    {
     "data": {
      "text/plain": [
       "['../models/cluster 2/lgbm_2_best_model.joblib']"
      ]
     },
     "execution_count": 306,
     "metadata": {},
     "output_type": "execute_result"
    }
   ],
   "source": [
    "dump(lgbm_2_best_model, '../models/cluster 2/lgbm_2_best_model.joblib')"
   ]
  },
  {
   "cell_type": "code",
   "execution_count": 307,
   "metadata": {},
   "outputs": [
    {
     "data": {
      "application/vnd.jupyter.widget-view+json": {
       "model_id": "6f032e3fec5d4b1aa911fd85fce073dd",
       "version_major": 2,
       "version_minor": 0
      },
      "text/plain": [
       "  0%|          | 0/50 [00:00<?, ?it/s]"
      ]
     },
     "metadata": {},
     "output_type": "display_data"
    }
   ],
   "source": [
    "cat_2_best_params, cat_2_best_rmse = catboost_regressor_tuning(X_2_train, y_2_train, 100)"
   ]
  },
  {
   "cell_type": "code",
   "execution_count": 364,
   "metadata": {},
   "outputs": [
    {
     "name": "stdout",
     "output_type": "stream",
     "text": [
      "RMSE :  440.6628489589969\n",
      "RMSE to mean ratio :  0.11882224231495733\n"
     ]
    }
   ],
   "source": [
    "cat_2_best_model = CatBoostRegressor(**cat_2_best_params, random_state = 42, verbose = False)\n",
    "cat_2_best_model.fit(X_2_train, y_2_train.squeeze())\n",
    "cat_2_y_pred_best = cat_2_best_model.predict(X_2_test)\n",
    "\n",
    "cat_2_best_rmse = root_mean_squared_error(y_2_test, cat_2_y_pred_best)\n",
    "\n",
    "print('RMSE : ', cat_2_best_rmse)\n",
    "print('RMSE to mean ratio : ', cat_2_best_rmse / y_2_test.mean())\n",
    "\n",
    "rmse_2.append(cat_2_best_rmse)"
   ]
  },
  {
   "cell_type": "code",
   "execution_count": 309,
   "metadata": {},
   "outputs": [
    {
     "data": {
      "text/plain": [
       "['../models/cluster 2/cat_2_best_model.joblib']"
      ]
     },
     "execution_count": 309,
     "metadata": {},
     "output_type": "execute_result"
    }
   ],
   "source": [
    "dump(cat_2_best_model, '../models/cluster 2/cat_2_best_model.joblib')"
   ]
  },
  {
   "cell_type": "markdown",
   "metadata": {},
   "source": [
    "Cluster 3"
   ]
  },
  {
   "cell_type": "code",
   "execution_count": 310,
   "metadata": {},
   "outputs": [],
   "source": [
    "X_3 = df_3.drop(columns = ['cluster', 'price'], axis =1)\n",
    "y_3 = df_3['price']\n",
    "\n",
    "X_3_train, X_3_test, y_3_train, y_3_test = train_test_split(X_3, y_3, test_size = 0.2, random_state = 42)"
   ]
  },
  {
   "cell_type": "code",
   "execution_count": 311,
   "metadata": {},
   "outputs": [],
   "source": [
    "scaler_3 = StandardScaler()\n",
    "\n",
    "X_3_train = scaler_3.fit_transform(X_3_train)\n",
    "X_3_test = scaler_3.transform(X_3_test)\n",
    "\n",
    "X_3_train = pd.DataFrame(X_3_train, columns = X_3.columns.to_list())\n",
    "X_3_test = pd.DataFrame(X_3_test, columns = X_3.columns.to_list())"
   ]
  },
  {
   "cell_type": "code",
   "execution_count": 402,
   "metadata": {},
   "outputs": [
    {
     "data": {
      "text/plain": [
       "['../models/cluster 3/scaler_3.joblib']"
      ]
     },
     "execution_count": 402,
     "metadata": {},
     "output_type": "execute_result"
    }
   ],
   "source": [
    "dump(scaler_3, '../models/cluster 3/scaler_3.joblib')"
   ]
  },
  {
   "cell_type": "code",
   "execution_count": 366,
   "metadata": {},
   "outputs": [],
   "source": [
    "rmse_3 = []"
   ]
  },
  {
   "cell_type": "code",
   "execution_count": 314,
   "metadata": {},
   "outputs": [
    {
     "data": {
      "application/vnd.jupyter.widget-view+json": {
       "model_id": "e64faf8a060b4f3989b1dca385fd83a4",
       "version_major": 2,
       "version_minor": 0
      },
      "text/plain": [
       "  0%|          | 0/100 [00:00<?, ?it/s]"
      ]
     },
     "metadata": {},
     "output_type": "display_data"
    }
   ],
   "source": [
    "rf_3_best_params, rf_3_best_rmse = randomforest_regressor_tuning(X_3_train, y_3_train, 100)"
   ]
  },
  {
   "cell_type": "code",
   "execution_count": 367,
   "metadata": {},
   "outputs": [
    {
     "name": "stdout",
     "output_type": "stream",
     "text": [
      "RMSE :  1394.5753550859115\n",
      "RMSE to mean ratio :  0.18555477006143842\n"
     ]
    }
   ],
   "source": [
    "rf_3_best_model = RandomForestRegressor(**rf_3_best_params, random_state = 42)\n",
    "rf_3_best_model.fit(X_3_train, y_3_train.squeeze())\n",
    "rf_3_y_pred_best = rf_3_best_model.predict(X_3_test)\n",
    "\n",
    "rf_3_best_rmse = root_mean_squared_error(y_3_test, rf_3_y_pred_best)\n",
    "\n",
    "print('RMSE : ', rf_3_best_rmse)\n",
    "print('RMSE to mean ratio : ', rf_3_best_rmse / y_3_test.mean())\n",
    "\n",
    "rmse_3.append(rf_3_best_rmse)"
   ]
  },
  {
   "cell_type": "code",
   "execution_count": 316,
   "metadata": {},
   "outputs": [
    {
     "data": {
      "text/plain": [
       "['../models/cluster 3/rf_3_best_model.joblib']"
      ]
     },
     "execution_count": 316,
     "metadata": {},
     "output_type": "execute_result"
    }
   ],
   "source": [
    "dump(rf_3_best_model, '../models/cluster 3/rf_3_best_model.joblib')"
   ]
  },
  {
   "cell_type": "code",
   "execution_count": 317,
   "metadata": {},
   "outputs": [
    {
     "data": {
      "application/vnd.jupyter.widget-view+json": {
       "model_id": "9969c0e7f423468bad1cdd70b4bf6bca",
       "version_major": 2,
       "version_minor": 0
      },
      "text/plain": [
       "  0%|          | 0/100 [00:00<?, ?it/s]"
      ]
     },
     "metadata": {},
     "output_type": "display_data"
    }
   ],
   "source": [
    "xgb_3_best_params, xgb_3_best_rmse = xgboost_regressor_tuning(X_3_train, y_3_train, 100)"
   ]
  },
  {
   "cell_type": "code",
   "execution_count": 368,
   "metadata": {},
   "outputs": [
    {
     "name": "stdout",
     "output_type": "stream",
     "text": [
      "RMSE :  1389.2893220277363\n",
      "RMSE to mean ratio :  0.18485143865301376\n"
     ]
    }
   ],
   "source": [
    "xgb_3_best_model = XGBRegressor(**xgb_3_best_params, random_state = 42)\n",
    "xgb_3_best_model.fit(X_3_train, y_3_train.squeeze())\n",
    "xgb_3_y_pred_best = xgb_3_best_model.predict(X_3_test)\n",
    "\n",
    "xgb_3_best_rmse = root_mean_squared_error(y_3_test, xgb_3_y_pred_best)\n",
    "\n",
    "print('RMSE : ', xgb_3_best_rmse)\n",
    "print('RMSE to mean ratio : ', xgb_3_best_rmse / y_3_test.mean())\n",
    "\n",
    "rmse_3.append(xgb_3_best_rmse)"
   ]
  },
  {
   "cell_type": "code",
   "execution_count": 319,
   "metadata": {},
   "outputs": [
    {
     "data": {
      "text/plain": [
       "['../models/cluster 3/xgb_3_best_model.joblib']"
      ]
     },
     "execution_count": 319,
     "metadata": {},
     "output_type": "execute_result"
    }
   ],
   "source": [
    "dump(xgb_3_best_model, '../models/cluster 3/xgb_3_best_model.joblib')"
   ]
  },
  {
   "cell_type": "code",
   "execution_count": 320,
   "metadata": {},
   "outputs": [
    {
     "data": {
      "application/vnd.jupyter.widget-view+json": {
       "model_id": "7bb9e3d8f2a849a5b6d191148657167e",
       "version_major": 2,
       "version_minor": 0
      },
      "text/plain": [
       "  0%|          | 0/100 [00:00<?, ?it/s]"
      ]
     },
     "metadata": {},
     "output_type": "display_data"
    }
   ],
   "source": [
    "lgbm_3_best_params, lgbm_3_best_rmse = lightgbm_regressor_tuning(X_3_train, y_3_train, 100)"
   ]
  },
  {
   "cell_type": "code",
   "execution_count": 369,
   "metadata": {},
   "outputs": [
    {
     "name": "stdout",
     "output_type": "stream",
     "text": [
      "RMSE :  1388.9792731144912\n",
      "RMSE to mean ratio :  0.18481018519575515\n"
     ]
    }
   ],
   "source": [
    "lgbm_3_best_model = LGBMRegressor(**lgbm_3_best_params, random_state = 42, verbose = -1)\n",
    "lgbm_3_best_model.fit(X_3_train, y_3_train.squeeze())\n",
    "lgbm_3_y_pred_best = lgbm_3_best_model.predict(X_3_test)\n",
    "\n",
    "lgbm_3_best_rmse = root_mean_squared_error(y_3_test, lgbm_3_y_pred_best)\n",
    "\n",
    "print('RMSE : ', lgbm_3_best_rmse)\n",
    "print('RMSE to mean ratio : ', lgbm_3_best_rmse / y_3_test.mean())\n",
    "\n",
    "rmse_3.append(lgbm_3_best_rmse)"
   ]
  },
  {
   "cell_type": "code",
   "execution_count": 322,
   "metadata": {},
   "outputs": [
    {
     "data": {
      "text/plain": [
       "['../models/cluster 3/lgbm_3_best_model.joblib']"
      ]
     },
     "execution_count": 322,
     "metadata": {},
     "output_type": "execute_result"
    }
   ],
   "source": [
    "dump(lgbm_3_best_model, '../models/cluster 3/lgbm_3_best_model.joblib')"
   ]
  },
  {
   "cell_type": "code",
   "execution_count": 323,
   "metadata": {},
   "outputs": [
    {
     "data": {
      "application/vnd.jupyter.widget-view+json": {
       "model_id": "9c36db79376d460c948fc08cbd60a3eb",
       "version_major": 2,
       "version_minor": 0
      },
      "text/plain": [
       "  0%|          | 0/50 [00:00<?, ?it/s]"
      ]
     },
     "metadata": {},
     "output_type": "display_data"
    }
   ],
   "source": [
    "cat_3_best_params, cat_3_best_rmse = catboost_regressor_tuning(X_3_train, y_3_train, 100)"
   ]
  },
  {
   "cell_type": "code",
   "execution_count": 370,
   "metadata": {},
   "outputs": [
    {
     "name": "stdout",
     "output_type": "stream",
     "text": [
      "RMSE :  1403.5973068728294\n",
      "RMSE to mean ratio :  0.18675518292060858\n"
     ]
    }
   ],
   "source": [
    "cat_3_best_model = CatBoostRegressor(**cat_3_best_params, random_state = 42, verbose = False)\n",
    "cat_3_best_model.fit(X_3_train, y_3_train.squeeze())\n",
    "cat_3_y_pred_best = cat_3_best_model.predict(X_3_test)\n",
    "\n",
    "cat_3_best_rmse = root_mean_squared_error(y_3_test, cat_3_y_pred_best)\n",
    "\n",
    "print('RMSE : ', cat_3_best_rmse)\n",
    "print('RMSE to mean ratio : ', cat_3_best_rmse / y_3_test.mean())\n",
    "\n",
    "rmse_3.append(cat_3_best_rmse)"
   ]
  },
  {
   "cell_type": "code",
   "execution_count": 325,
   "metadata": {},
   "outputs": [
    {
     "data": {
      "text/plain": [
       "['../models/cluster 3/cat_3_best_model.joblib']"
      ]
     },
     "execution_count": 325,
     "metadata": {},
     "output_type": "execute_result"
    }
   ],
   "source": [
    "dump(cat_3_best_model, '../models/cluster 3/cat_3_best_model.joblib')"
   ]
  },
  {
   "cell_type": "markdown",
   "metadata": {},
   "source": [
    "Cluster 4"
   ]
  },
  {
   "cell_type": "code",
   "execution_count": 326,
   "metadata": {},
   "outputs": [],
   "source": [
    "X_4 = df_4.drop(columns = ['cluster', 'price'], axis =1)\n",
    "y_4 = df_4['price']\n",
    "\n",
    "X_4_train, X_4_test, y_4_train, y_4_test = train_test_split(X_4, y_4, test_size = 0.2, random_state = 42)"
   ]
  },
  {
   "cell_type": "code",
   "execution_count": 327,
   "metadata": {},
   "outputs": [],
   "source": [
    "scaler_4 = StandardScaler()\n",
    "\n",
    "X_4_train = scaler_4.fit_transform(X_4_train)\n",
    "X_4_test = scaler_4.transform(X_4_test)\n",
    "\n",
    "X_4_train = pd.DataFrame(X_4_train, columns = X_4.columns.to_list())\n",
    "X_4_test = pd.DataFrame(X_4_test, columns = X_4.columns.to_list())"
   ]
  },
  {
   "cell_type": "code",
   "execution_count": 405,
   "metadata": {},
   "outputs": [
    {
     "data": {
      "text/plain": [
       "['../models/cluster 4/scaler_4.joblib']"
      ]
     },
     "execution_count": 405,
     "metadata": {},
     "output_type": "execute_result"
    }
   ],
   "source": [
    "dump(scaler_4, '../models/cluster 4/scaler_4.joblib')"
   ]
  },
  {
   "cell_type": "code",
   "execution_count": 372,
   "metadata": {},
   "outputs": [],
   "source": [
    "rmse_4 = []"
   ]
  },
  {
   "cell_type": "code",
   "execution_count": 330,
   "metadata": {},
   "outputs": [
    {
     "data": {
      "application/vnd.jupyter.widget-view+json": {
       "model_id": "5b2ad42c95344bb493d61fb0e1e08bc7",
       "version_major": 2,
       "version_minor": 0
      },
      "text/plain": [
       "  0%|          | 0/100 [00:00<?, ?it/s]"
      ]
     },
     "metadata": {},
     "output_type": "display_data"
    }
   ],
   "source": [
    "rf_4_best_params, rf_4_best_rmse = randomforest_regressor_tuning(X_4_train, y_4_train, 100)"
   ]
  },
  {
   "cell_type": "code",
   "execution_count": 373,
   "metadata": {},
   "outputs": [
    {
     "name": "stdout",
     "output_type": "stream",
     "text": [
      "RMSE :  1631.606575281004\n",
      "RMSE to mean ratio :  0.10845496626223629\n"
     ]
    }
   ],
   "source": [
    "rf_4_best_model = RandomForestRegressor(**rf_4_best_params, random_state = 42)\n",
    "rf_4_best_model.fit(X_4_train, y_4_train.squeeze())\n",
    "rf_4_y_pred_best = rf_4_best_model.predict(X_4_test)\n",
    "\n",
    "rf_4_best_rmse = root_mean_squared_error(y_4_test, rf_4_y_pred_best)\n",
    "\n",
    "print('RMSE : ', rf_4_best_rmse)\n",
    "print('RMSE to mean ratio : ', rf_4_best_rmse / y_4_test.mean())\n",
    "\n",
    "rmse_4.append(rf_4_best_rmse)"
   ]
  },
  {
   "cell_type": "code",
   "execution_count": 332,
   "metadata": {},
   "outputs": [
    {
     "data": {
      "text/plain": [
       "['../models/cluster 4/rf_4_best_model.joblib']"
      ]
     },
     "execution_count": 332,
     "metadata": {},
     "output_type": "execute_result"
    }
   ],
   "source": [
    "dump(rf_4_best_model, '../models/cluster 4/rf_4_best_model.joblib')"
   ]
  },
  {
   "cell_type": "code",
   "execution_count": 333,
   "metadata": {},
   "outputs": [
    {
     "data": {
      "application/vnd.jupyter.widget-view+json": {
       "model_id": "fe1de000bc0e422c95d865eb4ad9526d",
       "version_major": 2,
       "version_minor": 0
      },
      "text/plain": [
       "  0%|          | 0/100 [00:00<?, ?it/s]"
      ]
     },
     "metadata": {},
     "output_type": "display_data"
    }
   ],
   "source": [
    "xgb_4_best_params, xgb_4_best_rmse = xgboost_regressor_tuning(X_4_train, y_4_train, 100)"
   ]
  },
  {
   "cell_type": "code",
   "execution_count": 374,
   "metadata": {},
   "outputs": [
    {
     "name": "stdout",
     "output_type": "stream",
     "text": [
      "RMSE :  1620.5797702081431\n",
      "RMSE to mean ratio :  0.10772200049078405\n"
     ]
    }
   ],
   "source": [
    "xgb_4_best_model = XGBRegressor(**xgb_4_best_params, random_state = 42)\n",
    "xgb_4_best_model.fit(X_4_train, y_4_train.squeeze())\n",
    "xgb_4_y_pred_best = xgb_4_best_model.predict(X_4_test)\n",
    "\n",
    "xgb_4_best_rmse = root_mean_squared_error(y_4_test, xgb_4_y_pred_best)\n",
    "\n",
    "print('RMSE : ', xgb_4_best_rmse)\n",
    "print('RMSE to mean ratio : ', xgb_4_best_rmse / y_4_test.mean())\n",
    "\n",
    "rmse_4.append(xgb_4_best_rmse)"
   ]
  },
  {
   "cell_type": "code",
   "execution_count": 335,
   "metadata": {},
   "outputs": [
    {
     "data": {
      "text/plain": [
       "['../models/cluster 4/xgb_4_best_model.joblib']"
      ]
     },
     "execution_count": 335,
     "metadata": {},
     "output_type": "execute_result"
    }
   ],
   "source": [
    "dump(xgb_4_best_model, '../models/cluster 4/xgb_4_best_model.joblib')"
   ]
  },
  {
   "cell_type": "code",
   "execution_count": 336,
   "metadata": {},
   "outputs": [
    {
     "data": {
      "application/vnd.jupyter.widget-view+json": {
       "model_id": "b0fee7ce2522457cbd285ee66b514a20",
       "version_major": 2,
       "version_minor": 0
      },
      "text/plain": [
       "  0%|          | 0/100 [00:00<?, ?it/s]"
      ]
     },
     "metadata": {},
     "output_type": "display_data"
    }
   ],
   "source": [
    "lgbm_4_best_params, lgbm_4_best_rmse = lightgbm_regressor_tuning(X_4_train, y_4_train, 100)"
   ]
  },
  {
   "cell_type": "code",
   "execution_count": 375,
   "metadata": {},
   "outputs": [
    {
     "name": "stdout",
     "output_type": "stream",
     "text": [
      "RMSE :  1634.20067510732\n",
      "RMSE to mean ratio :  0.10862739938024792\n"
     ]
    }
   ],
   "source": [
    "lgbm_4_best_model = LGBMRegressor(**lgbm_4_best_params, random_state = 42, verbose = -1)\n",
    "lgbm_4_best_model.fit(X_4_train, y_4_train.squeeze())\n",
    "lgbm_4_y_pred_best = lgbm_4_best_model.predict(X_4_test)\n",
    "\n",
    "lgbm_4_best_rmse = root_mean_squared_error(y_4_test, lgbm_4_y_pred_best)\n",
    "\n",
    "print('RMSE : ', lgbm_4_best_rmse)\n",
    "print('RMSE to mean ratio : ', lgbm_4_best_rmse / y_4_test.mean())\n",
    "\n",
    "rmse_4.append(lgbm_4_best_rmse)"
   ]
  },
  {
   "cell_type": "code",
   "execution_count": 338,
   "metadata": {},
   "outputs": [
    {
     "data": {
      "text/plain": [
       "['../models/cluster 4/lgbm_4_best_model.joblib']"
      ]
     },
     "execution_count": 338,
     "metadata": {},
     "output_type": "execute_result"
    }
   ],
   "source": [
    "dump(lgbm_4_best_model, '../models/cluster 4/lgbm_4_best_model.joblib')"
   ]
  },
  {
   "cell_type": "code",
   "execution_count": 339,
   "metadata": {},
   "outputs": [
    {
     "data": {
      "application/vnd.jupyter.widget-view+json": {
       "model_id": "79c3b34dcc5543bf99c8c845a113bce9",
       "version_major": 2,
       "version_minor": 0
      },
      "text/plain": [
       "  0%|          | 0/50 [00:00<?, ?it/s]"
      ]
     },
     "metadata": {},
     "output_type": "display_data"
    }
   ],
   "source": [
    "cat_4_best_params, cat_4_best_rmse = catboost_regressor_tuning(X_4_train, y_4_train, 100)"
   ]
  },
  {
   "cell_type": "code",
   "execution_count": 376,
   "metadata": {},
   "outputs": [
    {
     "name": "stdout",
     "output_type": "stream",
     "text": [
      "RMSE :  1640.8362819936817\n",
      "RMSE to mean ratio :  0.10906847661779574\n"
     ]
    }
   ],
   "source": [
    "cat_4_best_model = CatBoostRegressor(**cat_4_best_params, random_state = 42, verbose = False)\n",
    "cat_4_best_model.fit(X_4_train, y_4_train.squeeze())\n",
    "cat_4_y_pred_best = cat_4_best_model.predict(X_4_test)\n",
    "\n",
    "cat_4_best_rmse = root_mean_squared_error(y_4_test, cat_4_y_pred_best)\n",
    "\n",
    "print('RMSE : ', cat_4_best_rmse)\n",
    "print('RMSE to mean ratio : ', cat_4_best_rmse / y_4_test.mean())\n",
    "\n",
    "rmse_4.append(cat_4_best_rmse)"
   ]
  },
  {
   "cell_type": "code",
   "execution_count": 341,
   "metadata": {},
   "outputs": [
    {
     "data": {
      "text/plain": [
       "['../models/cluster 4/cat_4_best_model.joblib']"
      ]
     },
     "execution_count": 341,
     "metadata": {},
     "output_type": "execute_result"
    }
   ],
   "source": [
    "dump(cat_4_best_model, '../models/cluster 4/cat_4_best_model.joblib')"
   ]
  },
  {
   "cell_type": "code",
   "execution_count": 381,
   "metadata": {},
   "outputs": [],
   "source": [
    "columns = ['Random Forest', 'XGBoost', 'LightGBM', 'CatBoost']\n",
    "index = ['Cluster_0', 'Cluster_1', 'Cluster_2', 'Cluster_3', 'Cluster_4']\n",
    "\n",
    "#DataFrames\n",
    "# >> RMSE_to_mean\n",
    "# >> preds + avg preds // check avg preds according to RMSE"
   ]
  },
  {
   "cell_type": "code",
   "execution_count": 382,
   "metadata": {},
   "outputs": [
    {
     "data": {
      "text/html": [
       "<div>\n",
       "<style scoped>\n",
       "    .dataframe tbody tr th:only-of-type {\n",
       "        vertical-align: middle;\n",
       "    }\n",
       "\n",
       "    .dataframe tbody tr th {\n",
       "        vertical-align: top;\n",
       "    }\n",
       "\n",
       "    .dataframe thead th {\n",
       "        text-align: right;\n",
       "    }\n",
       "</style>\n",
       "<table border=\"1\" class=\"dataframe\">\n",
       "  <thead>\n",
       "    <tr style=\"text-align: right;\">\n",
       "      <th></th>\n",
       "      <th>Random Forest</th>\n",
       "      <th>XGBoost</th>\n",
       "      <th>LightGBM</th>\n",
       "      <th>CatBoost</th>\n",
       "    </tr>\n",
       "  </thead>\n",
       "  <tbody>\n",
       "    <tr>\n",
       "      <th>Cluster_0</th>\n",
       "      <td>111.154202</td>\n",
       "      <td>110.069783</td>\n",
       "      <td>110.248354</td>\n",
       "      <td>110.059352</td>\n",
       "    </tr>\n",
       "    <tr>\n",
       "      <th>Cluster_1</th>\n",
       "      <td>241.303350</td>\n",
       "      <td>240.490688</td>\n",
       "      <td>240.797413</td>\n",
       "      <td>241.316708</td>\n",
       "    </tr>\n",
       "    <tr>\n",
       "      <th>Cluster_2</th>\n",
       "      <td>447.174418</td>\n",
       "      <td>442.804262</td>\n",
       "      <td>443.381395</td>\n",
       "      <td>440.662849</td>\n",
       "    </tr>\n",
       "    <tr>\n",
       "      <th>Cluster_3</th>\n",
       "      <td>1394.575355</td>\n",
       "      <td>1389.289322</td>\n",
       "      <td>1388.979273</td>\n",
       "      <td>1403.597307</td>\n",
       "    </tr>\n",
       "    <tr>\n",
       "      <th>Cluster_4</th>\n",
       "      <td>1631.606575</td>\n",
       "      <td>1620.579770</td>\n",
       "      <td>1634.200675</td>\n",
       "      <td>1640.836282</td>\n",
       "    </tr>\n",
       "  </tbody>\n",
       "</table>\n",
       "</div>"
      ],
      "text/plain": [
       "           Random Forest      XGBoost     LightGBM     CatBoost\n",
       "Cluster_0     111.154202   110.069783   110.248354   110.059352\n",
       "Cluster_1     241.303350   240.490688   240.797413   241.316708\n",
       "Cluster_2     447.174418   442.804262   443.381395   440.662849\n",
       "Cluster_3    1394.575355  1389.289322  1388.979273  1403.597307\n",
       "Cluster_4    1631.606575  1620.579770  1634.200675  1640.836282"
      ]
     },
     "execution_count": 382,
     "metadata": {},
     "output_type": "execute_result"
    }
   ],
   "source": [
    "df_rmse = pd.DataFrame(data = [rmse_0, rmse_1, rmse_2, rmse_3, rmse_4], index = index, columns = columns)\n",
    "df_rmse"
   ]
  },
  {
   "cell_type": "code",
   "execution_count": 383,
   "metadata": {},
   "outputs": [
    {
     "data": {
      "text/html": [
       "<div>\n",
       "<style scoped>\n",
       "    .dataframe tbody tr th:only-of-type {\n",
       "        vertical-align: middle;\n",
       "    }\n",
       "\n",
       "    .dataframe tbody tr th {\n",
       "        vertical-align: top;\n",
       "    }\n",
       "\n",
       "    .dataframe thead th {\n",
       "        text-align: right;\n",
       "    }\n",
       "</style>\n",
       "<table border=\"1\" class=\"dataframe\">\n",
       "  <thead>\n",
       "    <tr style=\"text-align: right;\">\n",
       "      <th></th>\n",
       "      <th>Random Forest</th>\n",
       "      <th>XGBoost</th>\n",
       "      <th>LightGBM</th>\n",
       "      <th>CatBoost</th>\n",
       "      <th>avg RMSE</th>\n",
       "    </tr>\n",
       "  </thead>\n",
       "  <tbody>\n",
       "    <tr>\n",
       "      <th>Cluster_0</th>\n",
       "      <td>111.154202</td>\n",
       "      <td>110.069783</td>\n",
       "      <td>110.248354</td>\n",
       "      <td>110.059352</td>\n",
       "      <td>110.382923</td>\n",
       "    </tr>\n",
       "    <tr>\n",
       "      <th>Cluster_1</th>\n",
       "      <td>241.303350</td>\n",
       "      <td>240.490688</td>\n",
       "      <td>240.797413</td>\n",
       "      <td>241.316708</td>\n",
       "      <td>240.977040</td>\n",
       "    </tr>\n",
       "    <tr>\n",
       "      <th>Cluster_2</th>\n",
       "      <td>447.174418</td>\n",
       "      <td>442.804262</td>\n",
       "      <td>443.381395</td>\n",
       "      <td>440.662849</td>\n",
       "      <td>443.505731</td>\n",
       "    </tr>\n",
       "    <tr>\n",
       "      <th>Cluster_3</th>\n",
       "      <td>1394.575355</td>\n",
       "      <td>1389.289322</td>\n",
       "      <td>1388.979273</td>\n",
       "      <td>1403.597307</td>\n",
       "      <td>1394.110314</td>\n",
       "    </tr>\n",
       "    <tr>\n",
       "      <th>Cluster_4</th>\n",
       "      <td>1631.606575</td>\n",
       "      <td>1620.579770</td>\n",
       "      <td>1634.200675</td>\n",
       "      <td>1640.836282</td>\n",
       "      <td>1631.805826</td>\n",
       "    </tr>\n",
       "  </tbody>\n",
       "</table>\n",
       "</div>"
      ],
      "text/plain": [
       "           Random Forest      XGBoost     LightGBM     CatBoost     avg RMSE\n",
       "Cluster_0     111.154202   110.069783   110.248354   110.059352   110.382923\n",
       "Cluster_1     241.303350   240.490688   240.797413   241.316708   240.977040\n",
       "Cluster_2     447.174418   442.804262   443.381395   440.662849   443.505731\n",
       "Cluster_3    1394.575355  1389.289322  1388.979273  1403.597307  1394.110314\n",
       "Cluster_4    1631.606575  1620.579770  1634.200675  1640.836282  1631.805826"
      ]
     },
     "execution_count": 383,
     "metadata": {},
     "output_type": "execute_result"
    }
   ],
   "source": [
    "df_rmse['avg RMSE'] = df_rmse.iloc[:, :4].mean(axis = 1)\n",
    "df_rmse"
   ]
  },
  {
   "cell_type": "code",
   "execution_count": 388,
   "metadata": {},
   "outputs": [
    {
     "data": {
      "text/html": [
       "<div>\n",
       "<style scoped>\n",
       "    .dataframe tbody tr th:only-of-type {\n",
       "        vertical-align: middle;\n",
       "    }\n",
       "\n",
       "    .dataframe tbody tr th {\n",
       "        vertical-align: top;\n",
       "    }\n",
       "\n",
       "    .dataframe thead th {\n",
       "        text-align: right;\n",
       "    }\n",
       "</style>\n",
       "<table border=\"1\" class=\"dataframe\">\n",
       "  <thead>\n",
       "    <tr style=\"text-align: right;\">\n",
       "      <th></th>\n",
       "      <th>rf</th>\n",
       "      <th>xgb</th>\n",
       "      <th>lgbm</th>\n",
       "      <th>cat</th>\n",
       "      <th>avg preds</th>\n",
       "    </tr>\n",
       "  </thead>\n",
       "  <tbody>\n",
       "    <tr>\n",
       "      <th>0</th>\n",
       "      <td>708.504641</td>\n",
       "      <td>706.009949</td>\n",
       "      <td>720.178402</td>\n",
       "      <td>719.367145</td>\n",
       "      <td>713.515034</td>\n",
       "    </tr>\n",
       "    <tr>\n",
       "      <th>1</th>\n",
       "      <td>462.054590</td>\n",
       "      <td>443.875122</td>\n",
       "      <td>426.445853</td>\n",
       "      <td>452.687415</td>\n",
       "      <td>446.265745</td>\n",
       "    </tr>\n",
       "    <tr>\n",
       "      <th>2</th>\n",
       "      <td>665.109008</td>\n",
       "      <td>669.510620</td>\n",
       "      <td>704.825713</td>\n",
       "      <td>698.798747</td>\n",
       "      <td>684.561022</td>\n",
       "    </tr>\n",
       "    <tr>\n",
       "      <th>3</th>\n",
       "      <td>771.595524</td>\n",
       "      <td>799.357971</td>\n",
       "      <td>775.380322</td>\n",
       "      <td>797.099018</td>\n",
       "      <td>785.858209</td>\n",
       "    </tr>\n",
       "    <tr>\n",
       "      <th>4</th>\n",
       "      <td>775.086197</td>\n",
       "      <td>777.752991</td>\n",
       "      <td>764.592162</td>\n",
       "      <td>770.891431</td>\n",
       "      <td>772.080695</td>\n",
       "    </tr>\n",
       "  </tbody>\n",
       "</table>\n",
       "</div>"
      ],
      "text/plain": [
       "           rf         xgb        lgbm         cat   avg preds\n",
       "0  708.504641  706.009949  720.178402  719.367145  713.515034\n",
       "1  462.054590  443.875122  426.445853  452.687415  446.265745\n",
       "2  665.109008  669.510620  704.825713  698.798747  684.561022\n",
       "3  771.595524  799.357971  775.380322  797.099018  785.858209\n",
       "4  775.086197  777.752991  764.592162  770.891431  772.080695"
      ]
     },
     "execution_count": 388,
     "metadata": {},
     "output_type": "execute_result"
    }
   ],
   "source": [
    "preds_0 = pd.DataFrame({\n",
    "    'rf': rf_0_y_pred_best,\n",
    "    'xgb': xgb_0_y_pred_best,\n",
    "    'lgbm': lgbm_0_y_pred_best,\n",
    "    'cat': cat_0_y_pred_best\n",
    "})\n",
    "\n",
    "preds_0['avg preds'] = preds_0.iloc[:, :4].mean(axis = 1)\n",
    "preds_0.head()"
   ]
  },
  {
   "cell_type": "code",
   "execution_count": 390,
   "metadata": {},
   "outputs": [
    {
     "data": {
      "text/html": [
       "<div>\n",
       "<style scoped>\n",
       "    .dataframe tbody tr th:only-of-type {\n",
       "        vertical-align: middle;\n",
       "    }\n",
       "\n",
       "    .dataframe tbody tr th {\n",
       "        vertical-align: top;\n",
       "    }\n",
       "\n",
       "    .dataframe thead th {\n",
       "        text-align: right;\n",
       "    }\n",
       "</style>\n",
       "<table border=\"1\" class=\"dataframe\">\n",
       "  <thead>\n",
       "    <tr style=\"text-align: right;\">\n",
       "      <th></th>\n",
       "      <th>rf</th>\n",
       "      <th>xgb</th>\n",
       "      <th>lgbm</th>\n",
       "      <th>cat</th>\n",
       "      <th>avg preds</th>\n",
       "    </tr>\n",
       "  </thead>\n",
       "  <tbody>\n",
       "    <tr>\n",
       "      <th>0</th>\n",
       "      <td>1240.786950</td>\n",
       "      <td>1214.955566</td>\n",
       "      <td>1214.127087</td>\n",
       "      <td>1286.496069</td>\n",
       "      <td>1239.091418</td>\n",
       "    </tr>\n",
       "    <tr>\n",
       "      <th>1</th>\n",
       "      <td>2290.826105</td>\n",
       "      <td>2288.966064</td>\n",
       "      <td>2270.250776</td>\n",
       "      <td>2291.785969</td>\n",
       "      <td>2285.457229</td>\n",
       "    </tr>\n",
       "    <tr>\n",
       "      <th>2</th>\n",
       "      <td>1531.482981</td>\n",
       "      <td>1598.270996</td>\n",
       "      <td>1593.542332</td>\n",
       "      <td>1492.968029</td>\n",
       "      <td>1554.066085</td>\n",
       "    </tr>\n",
       "    <tr>\n",
       "      <th>3</th>\n",
       "      <td>1679.875534</td>\n",
       "      <td>1650.330444</td>\n",
       "      <td>1661.602655</td>\n",
       "      <td>1649.346849</td>\n",
       "      <td>1660.288871</td>\n",
       "    </tr>\n",
       "    <tr>\n",
       "      <th>4</th>\n",
       "      <td>1703.689705</td>\n",
       "      <td>1726.141602</td>\n",
       "      <td>1706.917241</td>\n",
       "      <td>1697.760453</td>\n",
       "      <td>1708.627250</td>\n",
       "    </tr>\n",
       "  </tbody>\n",
       "</table>\n",
       "</div>"
      ],
      "text/plain": [
       "            rf          xgb         lgbm          cat    avg preds\n",
       "0  1240.786950  1214.955566  1214.127087  1286.496069  1239.091418\n",
       "1  2290.826105  2288.966064  2270.250776  2291.785969  2285.457229\n",
       "2  1531.482981  1598.270996  1593.542332  1492.968029  1554.066085\n",
       "3  1679.875534  1650.330444  1661.602655  1649.346849  1660.288871\n",
       "4  1703.689705  1726.141602  1706.917241  1697.760453  1708.627250"
      ]
     },
     "execution_count": 390,
     "metadata": {},
     "output_type": "execute_result"
    }
   ],
   "source": [
    "preds_1 = pd.DataFrame({\n",
    "    'rf': rf_1_y_pred_best,\n",
    "    'xgb': xgb_1_y_pred_best,\n",
    "    'lgbm': lgbm_1_y_pred_best,\n",
    "    'cat': cat_1_y_pred_best\n",
    "})\n",
    "\n",
    "preds_1['avg preds'] = preds_1.iloc[:, :4].mean(axis = 1)\n",
    "preds_1.head()"
   ]
  },
  {
   "cell_type": "code",
   "execution_count": 391,
   "metadata": {},
   "outputs": [
    {
     "data": {
      "text/html": [
       "<div>\n",
       "<style scoped>\n",
       "    .dataframe tbody tr th:only-of-type {\n",
       "        vertical-align: middle;\n",
       "    }\n",
       "\n",
       "    .dataframe tbody tr th {\n",
       "        vertical-align: top;\n",
       "    }\n",
       "\n",
       "    .dataframe thead th {\n",
       "        text-align: right;\n",
       "    }\n",
       "</style>\n",
       "<table border=\"1\" class=\"dataframe\">\n",
       "  <thead>\n",
       "    <tr style=\"text-align: right;\">\n",
       "      <th></th>\n",
       "      <th>rf</th>\n",
       "      <th>xgb</th>\n",
       "      <th>lgbm</th>\n",
       "      <th>cat</th>\n",
       "      <th>avg preds</th>\n",
       "    </tr>\n",
       "  </thead>\n",
       "  <tbody>\n",
       "    <tr>\n",
       "      <th>0</th>\n",
       "      <td>3356.251355</td>\n",
       "      <td>3299.271973</td>\n",
       "      <td>3301.519990</td>\n",
       "      <td>3288.764132</td>\n",
       "      <td>3311.451862</td>\n",
       "    </tr>\n",
       "    <tr>\n",
       "      <th>1</th>\n",
       "      <td>2848.287042</td>\n",
       "      <td>2948.492188</td>\n",
       "      <td>2941.074871</td>\n",
       "      <td>2928.285441</td>\n",
       "      <td>2916.534885</td>\n",
       "    </tr>\n",
       "    <tr>\n",
       "      <th>2</th>\n",
       "      <td>3433.415675</td>\n",
       "      <td>3268.322266</td>\n",
       "      <td>3191.391037</td>\n",
       "      <td>3347.843464</td>\n",
       "      <td>3310.243110</td>\n",
       "    </tr>\n",
       "    <tr>\n",
       "      <th>3</th>\n",
       "      <td>4299.777719</td>\n",
       "      <td>4300.865723</td>\n",
       "      <td>4272.855760</td>\n",
       "      <td>4259.730174</td>\n",
       "      <td>4283.307344</td>\n",
       "    </tr>\n",
       "    <tr>\n",
       "      <th>4</th>\n",
       "      <td>4551.042441</td>\n",
       "      <td>4549.269531</td>\n",
       "      <td>4569.006742</td>\n",
       "      <td>4503.645266</td>\n",
       "      <td>4543.240995</td>\n",
       "    </tr>\n",
       "  </tbody>\n",
       "</table>\n",
       "</div>"
      ],
      "text/plain": [
       "            rf          xgb         lgbm          cat    avg preds\n",
       "0  3356.251355  3299.271973  3301.519990  3288.764132  3311.451862\n",
       "1  2848.287042  2948.492188  2941.074871  2928.285441  2916.534885\n",
       "2  3433.415675  3268.322266  3191.391037  3347.843464  3310.243110\n",
       "3  4299.777719  4300.865723  4272.855760  4259.730174  4283.307344\n",
       "4  4551.042441  4549.269531  4569.006742  4503.645266  4543.240995"
      ]
     },
     "execution_count": 391,
     "metadata": {},
     "output_type": "execute_result"
    }
   ],
   "source": [
    "preds_2 = pd.DataFrame({\n",
    "    'rf': rf_2_y_pred_best,\n",
    "    'xgb': xgb_2_y_pred_best,\n",
    "    'lgbm': lgbm_2_y_pred_best,\n",
    "    'cat': cat_2_y_pred_best\n",
    "})\n",
    "\n",
    "preds_2['avg preds'] = preds_2.iloc[:, :4].mean(axis = 1)\n",
    "preds_2.head()"
   ]
  },
  {
   "cell_type": "code",
   "execution_count": 392,
   "metadata": {},
   "outputs": [
    {
     "data": {
      "text/html": [
       "<div>\n",
       "<style scoped>\n",
       "    .dataframe tbody tr th:only-of-type {\n",
       "        vertical-align: middle;\n",
       "    }\n",
       "\n",
       "    .dataframe tbody tr th {\n",
       "        vertical-align: top;\n",
       "    }\n",
       "\n",
       "    .dataframe thead th {\n",
       "        text-align: right;\n",
       "    }\n",
       "</style>\n",
       "<table border=\"1\" class=\"dataframe\">\n",
       "  <thead>\n",
       "    <tr style=\"text-align: right;\">\n",
       "      <th></th>\n",
       "      <th>rf</th>\n",
       "      <th>xgb</th>\n",
       "      <th>lgbm</th>\n",
       "      <th>cat</th>\n",
       "      <th>avg preds</th>\n",
       "    </tr>\n",
       "  </thead>\n",
       "  <tbody>\n",
       "    <tr>\n",
       "      <th>0</th>\n",
       "      <td>6263.233976</td>\n",
       "      <td>6068.968750</td>\n",
       "      <td>6171.871050</td>\n",
       "      <td>6220.351241</td>\n",
       "      <td>6181.106254</td>\n",
       "    </tr>\n",
       "    <tr>\n",
       "      <th>1</th>\n",
       "      <td>6077.849148</td>\n",
       "      <td>6008.001465</td>\n",
       "      <td>5861.877947</td>\n",
       "      <td>5937.333704</td>\n",
       "      <td>5971.265566</td>\n",
       "    </tr>\n",
       "    <tr>\n",
       "      <th>2</th>\n",
       "      <td>6744.385132</td>\n",
       "      <td>6688.370605</td>\n",
       "      <td>6684.827147</td>\n",
       "      <td>6690.018443</td>\n",
       "      <td>6701.900332</td>\n",
       "    </tr>\n",
       "    <tr>\n",
       "      <th>3</th>\n",
       "      <td>8742.594102</td>\n",
       "      <td>9343.289062</td>\n",
       "      <td>9135.705160</td>\n",
       "      <td>9175.787516</td>\n",
       "      <td>9099.343960</td>\n",
       "    </tr>\n",
       "    <tr>\n",
       "      <th>4</th>\n",
       "      <td>7285.551146</td>\n",
       "      <td>7305.009277</td>\n",
       "      <td>7375.424275</td>\n",
       "      <td>7474.654935</td>\n",
       "      <td>7360.159908</td>\n",
       "    </tr>\n",
       "  </tbody>\n",
       "</table>\n",
       "</div>"
      ],
      "text/plain": [
       "            rf          xgb         lgbm          cat    avg preds\n",
       "0  6263.233976  6068.968750  6171.871050  6220.351241  6181.106254\n",
       "1  6077.849148  6008.001465  5861.877947  5937.333704  5971.265566\n",
       "2  6744.385132  6688.370605  6684.827147  6690.018443  6701.900332\n",
       "3  8742.594102  9343.289062  9135.705160  9175.787516  9099.343960\n",
       "4  7285.551146  7305.009277  7375.424275  7474.654935  7360.159908"
      ]
     },
     "execution_count": 392,
     "metadata": {},
     "output_type": "execute_result"
    }
   ],
   "source": [
    "preds_3 = pd.DataFrame({\n",
    "    'rf': rf_3_y_pred_best,\n",
    "    'xgb': xgb_3_y_pred_best,\n",
    "    'lgbm': lgbm_3_y_pred_best,\n",
    "    'cat': cat_3_y_pred_best\n",
    "})\n",
    "\n",
    "preds_3['avg preds'] = preds_3.iloc[:, :4].mean(axis = 1)\n",
    "preds_3.head()"
   ]
  },
  {
   "cell_type": "code",
   "execution_count": 393,
   "metadata": {},
   "outputs": [
    {
     "data": {
      "text/html": [
       "<div>\n",
       "<style scoped>\n",
       "    .dataframe tbody tr th:only-of-type {\n",
       "        vertical-align: middle;\n",
       "    }\n",
       "\n",
       "    .dataframe tbody tr th {\n",
       "        vertical-align: top;\n",
       "    }\n",
       "\n",
       "    .dataframe thead th {\n",
       "        text-align: right;\n",
       "    }\n",
       "</style>\n",
       "<table border=\"1\" class=\"dataframe\">\n",
       "  <thead>\n",
       "    <tr style=\"text-align: right;\">\n",
       "      <th></th>\n",
       "      <th>rf</th>\n",
       "      <th>xgb</th>\n",
       "      <th>lgbm</th>\n",
       "      <th>cat</th>\n",
       "      <th>avg preds</th>\n",
       "    </tr>\n",
       "  </thead>\n",
       "  <tbody>\n",
       "    <tr>\n",
       "      <th>0</th>\n",
       "      <td>13962.325379</td>\n",
       "      <td>13945.574219</td>\n",
       "      <td>13975.310893</td>\n",
       "      <td>13727.282921</td>\n",
       "      <td>13902.623353</td>\n",
       "    </tr>\n",
       "    <tr>\n",
       "      <th>1</th>\n",
       "      <td>16617.647011</td>\n",
       "      <td>16406.792969</td>\n",
       "      <td>16322.368293</td>\n",
       "      <td>15906.254183</td>\n",
       "      <td>16313.265614</td>\n",
       "    </tr>\n",
       "    <tr>\n",
       "      <th>2</th>\n",
       "      <td>16325.094016</td>\n",
       "      <td>16256.679688</td>\n",
       "      <td>16352.857252</td>\n",
       "      <td>16168.792012</td>\n",
       "      <td>16275.855742</td>\n",
       "    </tr>\n",
       "    <tr>\n",
       "      <th>3</th>\n",
       "      <td>13269.497434</td>\n",
       "      <td>13287.967773</td>\n",
       "      <td>13449.725990</td>\n",
       "      <td>13476.247671</td>\n",
       "      <td>13370.859717</td>\n",
       "    </tr>\n",
       "    <tr>\n",
       "      <th>4</th>\n",
       "      <td>15354.055846</td>\n",
       "      <td>14762.943359</td>\n",
       "      <td>15380.608797</td>\n",
       "      <td>15186.458448</td>\n",
       "      <td>15171.016613</td>\n",
       "    </tr>\n",
       "  </tbody>\n",
       "</table>\n",
       "</div>"
      ],
      "text/plain": [
       "             rf           xgb          lgbm           cat     avg preds\n",
       "0  13962.325379  13945.574219  13975.310893  13727.282921  13902.623353\n",
       "1  16617.647011  16406.792969  16322.368293  15906.254183  16313.265614\n",
       "2  16325.094016  16256.679688  16352.857252  16168.792012  16275.855742\n",
       "3  13269.497434  13287.967773  13449.725990  13476.247671  13370.859717\n",
       "4  15354.055846  14762.943359  15380.608797  15186.458448  15171.016613"
      ]
     },
     "execution_count": 393,
     "metadata": {},
     "output_type": "execute_result"
    }
   ],
   "source": [
    "preds_4 = pd.DataFrame({\n",
    "    'rf': rf_4_y_pred_best,\n",
    "    'xgb': xgb_4_y_pred_best,\n",
    "    'lgbm': lgbm_4_y_pred_best,\n",
    "    'cat': cat_4_y_pred_best\n",
    "})\n",
    "\n",
    "preds_4['avg preds'] = preds_4.iloc[:, :4].mean(axis = 1)\n",
    "preds_4.head()"
   ]
  },
  {
   "cell_type": "code",
   "execution_count": 397,
   "metadata": {},
   "outputs": [
    {
     "name": "stdout",
     "output_type": "stream",
     "text": [
      "[109.67556415670202, 240.1704998219031, 441.36530372952865, 1389.5295875270863, 1621.4073663415245]\n"
     ]
    }
   ],
   "source": [
    "rmse_list = [\n",
    "    root_mean_squared_error(y_0_test, preds_0['avg preds']),\n",
    "    root_mean_squared_error(y_1_test, preds_1['avg preds']),\n",
    "    root_mean_squared_error(y_2_test, preds_2['avg preds']),\n",
    "    root_mean_squared_error(y_3_test, preds_3['avg preds']),\n",
    "    root_mean_squared_error(y_4_test, preds_4['avg preds'])\n",
    "]\n",
    "\n",
    "print(rmse_list)"
   ]
  },
  {
   "cell_type": "code",
   "execution_count": 398,
   "metadata": {},
   "outputs": [
    {
     "data": {
      "text/html": [
       "<div>\n",
       "<style scoped>\n",
       "    .dataframe tbody tr th:only-of-type {\n",
       "        vertical-align: middle;\n",
       "    }\n",
       "\n",
       "    .dataframe tbody tr th {\n",
       "        vertical-align: top;\n",
       "    }\n",
       "\n",
       "    .dataframe thead th {\n",
       "        text-align: right;\n",
       "    }\n",
       "</style>\n",
       "<table border=\"1\" class=\"dataframe\">\n",
       "  <thead>\n",
       "    <tr style=\"text-align: right;\">\n",
       "      <th></th>\n",
       "      <th>Random Forest</th>\n",
       "      <th>XGBoost</th>\n",
       "      <th>LightGBM</th>\n",
       "      <th>CatBoost</th>\n",
       "      <th>avg RMSE</th>\n",
       "      <th>RMSE_from_avg_preds</th>\n",
       "    </tr>\n",
       "  </thead>\n",
       "  <tbody>\n",
       "    <tr>\n",
       "      <th>Cluster_0</th>\n",
       "      <td>111.154202</td>\n",
       "      <td>110.069783</td>\n",
       "      <td>110.248354</td>\n",
       "      <td>110.059352</td>\n",
       "      <td>110.382923</td>\n",
       "      <td>109.675564</td>\n",
       "    </tr>\n",
       "    <tr>\n",
       "      <th>Cluster_1</th>\n",
       "      <td>241.303350</td>\n",
       "      <td>240.490688</td>\n",
       "      <td>240.797413</td>\n",
       "      <td>241.316708</td>\n",
       "      <td>240.977040</td>\n",
       "      <td>240.170500</td>\n",
       "    </tr>\n",
       "    <tr>\n",
       "      <th>Cluster_2</th>\n",
       "      <td>447.174418</td>\n",
       "      <td>442.804262</td>\n",
       "      <td>443.381395</td>\n",
       "      <td>440.662849</td>\n",
       "      <td>443.505731</td>\n",
       "      <td>441.365304</td>\n",
       "    </tr>\n",
       "    <tr>\n",
       "      <th>Cluster_3</th>\n",
       "      <td>1394.575355</td>\n",
       "      <td>1389.289322</td>\n",
       "      <td>1388.979273</td>\n",
       "      <td>1403.597307</td>\n",
       "      <td>1394.110314</td>\n",
       "      <td>1389.529588</td>\n",
       "    </tr>\n",
       "    <tr>\n",
       "      <th>Cluster_4</th>\n",
       "      <td>1631.606575</td>\n",
       "      <td>1620.579770</td>\n",
       "      <td>1634.200675</td>\n",
       "      <td>1640.836282</td>\n",
       "      <td>1631.805826</td>\n",
       "      <td>1621.407366</td>\n",
       "    </tr>\n",
       "  </tbody>\n",
       "</table>\n",
       "</div>"
      ],
      "text/plain": [
       "           Random Forest      XGBoost     LightGBM     CatBoost     avg RMSE  \\\n",
       "Cluster_0     111.154202   110.069783   110.248354   110.059352   110.382923   \n",
       "Cluster_1     241.303350   240.490688   240.797413   241.316708   240.977040   \n",
       "Cluster_2     447.174418   442.804262   443.381395   440.662849   443.505731   \n",
       "Cluster_3    1394.575355  1389.289322  1388.979273  1403.597307  1394.110314   \n",
       "Cluster_4    1631.606575  1620.579770  1634.200675  1640.836282  1631.805826   \n",
       "\n",
       "           RMSE_from_avg_preds  \n",
       "Cluster_0           109.675564  \n",
       "Cluster_1           240.170500  \n",
       "Cluster_2           441.365304  \n",
       "Cluster_3          1389.529588  \n",
       "Cluster_4          1621.407366  "
      ]
     },
     "execution_count": 398,
     "metadata": {},
     "output_type": "execute_result"
    }
   ],
   "source": [
    "df_rmse['RMSE_from_avg_preds'] = rmse_list\n",
    "df_rmse"
   ]
  },
  {
   "cell_type": "code",
   "execution_count": null,
   "metadata": {},
   "outputs": [],
   "source": []
  }
 ],
 "metadata": {
  "kernelspec": {
   "display_name": "base",
   "language": "python",
   "name": "python3"
  },
  "language_info": {
   "codemirror_mode": {
    "name": "ipython",
    "version": 3
   },
   "file_extension": ".py",
   "mimetype": "text/x-python",
   "name": "python",
   "nbconvert_exporter": "python",
   "pygments_lexer": "ipython3",
   "version": "3.12.4"
  }
 },
 "nbformat": 4,
 "nbformat_minor": 2
}
