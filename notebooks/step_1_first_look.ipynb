{
 "cells": [
  {
   "cell_type": "code",
   "execution_count": 1,
   "metadata": {},
   "outputs": [],
   "source": [
    "import pandas as pd\n",
    "import numpy as np"
   ]
  },
  {
   "cell_type": "code",
   "execution_count": 2,
   "metadata": {},
   "outputs": [
    {
     "data": {
      "text/html": [
       "<div>\n",
       "<style scoped>\n",
       "    .dataframe tbody tr th:only-of-type {\n",
       "        vertical-align: middle;\n",
       "    }\n",
       "\n",
       "    .dataframe tbody tr th {\n",
       "        vertical-align: top;\n",
       "    }\n",
       "\n",
       "    .dataframe thead th {\n",
       "        text-align: right;\n",
       "    }\n",
       "</style>\n",
       "<table border=\"1\" class=\"dataframe\">\n",
       "  <thead>\n",
       "    <tr style=\"text-align: right;\">\n",
       "      <th></th>\n",
       "      <th>carat</th>\n",
       "      <th>cut</th>\n",
       "      <th>color</th>\n",
       "      <th>clarity</th>\n",
       "      <th>depth</th>\n",
       "      <th>table</th>\n",
       "      <th>price</th>\n",
       "      <th>x</th>\n",
       "      <th>y</th>\n",
       "      <th>z</th>\n",
       "    </tr>\n",
       "  </thead>\n",
       "  <tbody>\n",
       "    <tr>\n",
       "      <th>0</th>\n",
       "      <td>0.23</td>\n",
       "      <td>Ideal</td>\n",
       "      <td>E</td>\n",
       "      <td>SI2</td>\n",
       "      <td>61.5</td>\n",
       "      <td>55.0</td>\n",
       "      <td>326</td>\n",
       "      <td>3.95</td>\n",
       "      <td>3.98</td>\n",
       "      <td>2.43</td>\n",
       "    </tr>\n",
       "    <tr>\n",
       "      <th>1</th>\n",
       "      <td>0.21</td>\n",
       "      <td>Premium</td>\n",
       "      <td>E</td>\n",
       "      <td>SI1</td>\n",
       "      <td>59.8</td>\n",
       "      <td>61.0</td>\n",
       "      <td>326</td>\n",
       "      <td>3.89</td>\n",
       "      <td>3.84</td>\n",
       "      <td>2.31</td>\n",
       "    </tr>\n",
       "    <tr>\n",
       "      <th>2</th>\n",
       "      <td>0.23</td>\n",
       "      <td>Good</td>\n",
       "      <td>E</td>\n",
       "      <td>VS1</td>\n",
       "      <td>56.9</td>\n",
       "      <td>65.0</td>\n",
       "      <td>327</td>\n",
       "      <td>4.05</td>\n",
       "      <td>4.07</td>\n",
       "      <td>2.31</td>\n",
       "    </tr>\n",
       "    <tr>\n",
       "      <th>3</th>\n",
       "      <td>0.29</td>\n",
       "      <td>Premium</td>\n",
       "      <td>I</td>\n",
       "      <td>VS2</td>\n",
       "      <td>62.4</td>\n",
       "      <td>58.0</td>\n",
       "      <td>334</td>\n",
       "      <td>4.20</td>\n",
       "      <td>4.23</td>\n",
       "      <td>2.63</td>\n",
       "    </tr>\n",
       "    <tr>\n",
       "      <th>4</th>\n",
       "      <td>0.31</td>\n",
       "      <td>Good</td>\n",
       "      <td>J</td>\n",
       "      <td>SI2</td>\n",
       "      <td>63.3</td>\n",
       "      <td>58.0</td>\n",
       "      <td>335</td>\n",
       "      <td>4.34</td>\n",
       "      <td>4.35</td>\n",
       "      <td>2.75</td>\n",
       "    </tr>\n",
       "  </tbody>\n",
       "</table>\n",
       "</div>"
      ],
      "text/plain": [
       "   carat      cut color clarity  depth  table  price     x     y     z\n",
       "0   0.23    Ideal     E     SI2   61.5   55.0    326  3.95  3.98  2.43\n",
       "1   0.21  Premium     E     SI1   59.8   61.0    326  3.89  3.84  2.31\n",
       "2   0.23     Good     E     VS1   56.9   65.0    327  4.05  4.07  2.31\n",
       "3   0.29  Premium     I     VS2   62.4   58.0    334  4.20  4.23  2.63\n",
       "4   0.31     Good     J     SI2   63.3   58.0    335  4.34  4.35  2.75"
      ]
     },
     "execution_count": 2,
     "metadata": {},
     "output_type": "execute_result"
    }
   ],
   "source": [
    "df = pd.read_csv('../data/diamonds_raw.csv')\n",
    "df.head()"
   ]
  },
  {
   "cell_type": "code",
   "execution_count": 3,
   "metadata": {},
   "outputs": [
    {
     "data": {
      "text/plain": [
       "(50000, 10)"
      ]
     },
     "execution_count": 3,
     "metadata": {},
     "output_type": "execute_result"
    }
   ],
   "source": [
    "df.shape"
   ]
  },
  {
   "cell_type": "code",
   "execution_count": 4,
   "metadata": {},
   "outputs": [
    {
     "name": "stdout",
     "output_type": "stream",
     "text": [
      "<class 'pandas.core.frame.DataFrame'>\n",
      "RangeIndex: 50000 entries, 0 to 49999\n",
      "Data columns (total 10 columns):\n",
      " #   Column   Non-Null Count  Dtype  \n",
      "---  ------   --------------  -----  \n",
      " 0   carat    50000 non-null  float64\n",
      " 1   cut      50000 non-null  object \n",
      " 2   color    50000 non-null  object \n",
      " 3   clarity  50000 non-null  object \n",
      " 4   depth    50000 non-null  float64\n",
      " 5   table    50000 non-null  float64\n",
      " 6   price    50000 non-null  int64  \n",
      " 7   x        50000 non-null  float64\n",
      " 8   y        50000 non-null  float64\n",
      " 9   z        50000 non-null  float64\n",
      "dtypes: float64(6), int64(1), object(3)\n",
      "memory usage: 3.8+ MB\n"
     ]
    }
   ],
   "source": [
    "df.info()"
   ]
  },
  {
   "cell_type": "code",
   "execution_count": 5,
   "metadata": {},
   "outputs": [
    {
     "data": {
      "text/plain": [
       "['cut', 'color', 'clarity']"
      ]
     },
     "execution_count": 5,
     "metadata": {},
     "output_type": "execute_result"
    }
   ],
   "source": [
    "categoricals = ['cut', 'color', 'clarity']\n",
    "categoricals"
   ]
  },
  {
   "cell_type": "code",
   "execution_count": 6,
   "metadata": {},
   "outputs": [
    {
     "name": "stdout",
     "output_type": "stream",
     "text": [
      "cut\n",
      "Ideal        19938\n",
      "Premium      12806\n",
      "Very Good    11204\n",
      "Good          4557\n",
      "Fair          1495\n",
      "Name: count, dtype: int64 \n",
      "\n",
      "color\n",
      "G    10452\n",
      "E     9085\n",
      "F     8864\n",
      "H     7711\n",
      "D     6224\n",
      "I     5058\n",
      "J     2606\n",
      "Name: count, dtype: int64 \n",
      "\n",
      "clarity\n",
      "SI1     12115\n",
      "VS2     11404\n",
      "SI2      8519\n",
      "VS1      7579\n",
      "VVS2     4694\n",
      "VVS1     3369\n",
      "IF       1632\n",
      "I1        688\n",
      "Name: count, dtype: int64 \n",
      "\n"
     ]
    }
   ],
   "source": [
    "for category in categoricals :\n",
    "\n",
    "    print(df[category].value_counts(), '\\n')"
   ]
  },
  {
   "cell_type": "code",
   "execution_count": 7,
   "metadata": {},
   "outputs": [
    {
     "data": {
      "text/plain": [
       "['carat', 'depth', 'table', 'price', 'x', 'y', 'z']"
      ]
     },
     "execution_count": 7,
     "metadata": {},
     "output_type": "execute_result"
    }
   ],
   "source": [
    "numericals = df.drop(columns = categoricals).columns.tolist()\n",
    "numericals"
   ]
  },
  {
   "cell_type": "code",
   "execution_count": 8,
   "metadata": {},
   "outputs": [
    {
     "data": {
      "text/html": [
       "<div>\n",
       "<style scoped>\n",
       "    .dataframe tbody tr th:only-of-type {\n",
       "        vertical-align: middle;\n",
       "    }\n",
       "\n",
       "    .dataframe tbody tr th {\n",
       "        vertical-align: top;\n",
       "    }\n",
       "\n",
       "    .dataframe thead th {\n",
       "        text-align: right;\n",
       "    }\n",
       "</style>\n",
       "<table border=\"1\" class=\"dataframe\">\n",
       "  <thead>\n",
       "    <tr style=\"text-align: right;\">\n",
       "      <th></th>\n",
       "      <th>count</th>\n",
       "      <th>mean</th>\n",
       "      <th>std</th>\n",
       "      <th>min</th>\n",
       "      <th>25%</th>\n",
       "      <th>50%</th>\n",
       "      <th>75%</th>\n",
       "      <th>max</th>\n",
       "    </tr>\n",
       "  </thead>\n",
       "  <tbody>\n",
       "    <tr>\n",
       "      <th>carat</th>\n",
       "      <td>50000.0</td>\n",
       "      <td>0.799444</td>\n",
       "      <td>0.475173</td>\n",
       "      <td>0.2</td>\n",
       "      <td>0.40</td>\n",
       "      <td>0.70</td>\n",
       "      <td>1.04</td>\n",
       "      <td>5.01</td>\n",
       "    </tr>\n",
       "    <tr>\n",
       "      <th>depth</th>\n",
       "      <td>50000.0</td>\n",
       "      <td>61.753006</td>\n",
       "      <td>1.431088</td>\n",
       "      <td>43.0</td>\n",
       "      <td>61.00</td>\n",
       "      <td>61.80</td>\n",
       "      <td>62.50</td>\n",
       "      <td>79.00</td>\n",
       "    </tr>\n",
       "    <tr>\n",
       "      <th>table</th>\n",
       "      <td>50000.0</td>\n",
       "      <td>57.457830</td>\n",
       "      <td>2.232092</td>\n",
       "      <td>43.0</td>\n",
       "      <td>56.00</td>\n",
       "      <td>57.00</td>\n",
       "      <td>59.00</td>\n",
       "      <td>95.00</td>\n",
       "    </tr>\n",
       "    <tr>\n",
       "      <th>price</th>\n",
       "      <td>50000.0</td>\n",
       "      <td>3944.805440</td>\n",
       "      <td>3997.938105</td>\n",
       "      <td>326.0</td>\n",
       "      <td>951.00</td>\n",
       "      <td>2410.00</td>\n",
       "      <td>5351.00</td>\n",
       "      <td>18823.00</td>\n",
       "    </tr>\n",
       "    <tr>\n",
       "      <th>x</th>\n",
       "      <td>50000.0</td>\n",
       "      <td>5.734403</td>\n",
       "      <td>1.123077</td>\n",
       "      <td>0.0</td>\n",
       "      <td>4.71</td>\n",
       "      <td>5.70</td>\n",
       "      <td>6.54</td>\n",
       "      <td>10.74</td>\n",
       "    </tr>\n",
       "    <tr>\n",
       "      <th>y</th>\n",
       "      <td>50000.0</td>\n",
       "      <td>5.737956</td>\n",
       "      <td>1.145579</td>\n",
       "      <td>0.0</td>\n",
       "      <td>4.72</td>\n",
       "      <td>5.71</td>\n",
       "      <td>6.54</td>\n",
       "      <td>58.90</td>\n",
       "    </tr>\n",
       "    <tr>\n",
       "      <th>z</th>\n",
       "      <td>50000.0</td>\n",
       "      <td>3.541056</td>\n",
       "      <td>0.707065</td>\n",
       "      <td>0.0</td>\n",
       "      <td>2.91</td>\n",
       "      <td>3.53</td>\n",
       "      <td>4.04</td>\n",
       "      <td>31.80</td>\n",
       "    </tr>\n",
       "  </tbody>\n",
       "</table>\n",
       "</div>"
      ],
      "text/plain": [
       "         count         mean          std    min     25%      50%      75%  \\\n",
       "carat  50000.0     0.799444     0.475173    0.2    0.40     0.70     1.04   \n",
       "depth  50000.0    61.753006     1.431088   43.0   61.00    61.80    62.50   \n",
       "table  50000.0    57.457830     2.232092   43.0   56.00    57.00    59.00   \n",
       "price  50000.0  3944.805440  3997.938105  326.0  951.00  2410.00  5351.00   \n",
       "x      50000.0     5.734403     1.123077    0.0    4.71     5.70     6.54   \n",
       "y      50000.0     5.737956     1.145579    0.0    4.72     5.71     6.54   \n",
       "z      50000.0     3.541056     0.707065    0.0    2.91     3.53     4.04   \n",
       "\n",
       "            max  \n",
       "carat      5.01  \n",
       "depth     79.00  \n",
       "table     95.00  \n",
       "price  18823.00  \n",
       "x         10.74  \n",
       "y         58.90  \n",
       "z         31.80  "
      ]
     },
     "execution_count": 8,
     "metadata": {},
     "output_type": "execute_result"
    }
   ],
   "source": [
    "pd.DataFrame(data = df, columns = numericals).describe().transpose()"
   ]
  },
  {
   "cell_type": "code",
   "execution_count": 9,
   "metadata": {},
   "outputs": [
    {
     "name": "stdout",
     "output_type": "stream",
     "text": [
      "Variables' description: \n",
      "\n",
      "{\n",
      "    \"metadata\": {\n",
      "        \"carat\": \"diamond weight in carat\",\n",
      "        \"cut\": \"diamond cutting qualityuring\",\n",
      "        \"color\": \"diamond color from J (worst) to D (best)\",\n",
      "        \"clarity\": \"measure of diamond clarity (from left to right is worst to best: I1, SI2, SI1, VS2, VS1, VVS2, VVS1, IF)\",\n",
      "        \"depth\": \"percentage depth that is equal to z / mean(x,y)\",\n",
      "        \"table\": \"width of the widest point at the top of the diamond\",\n",
      "        \"price\": \"diamond price\",\n",
      "        \"x\": \"diamond length in mm\",\n",
      "        \"y\": \"diamond width in mm\",\n",
      "        \"z\": \"diamond depth in mm\"\n",
      "    }\n",
      "}\n"
     ]
    }
   ],
   "source": [
    "import json\n",
    "\n",
    "with open('../data/metadata.json', 'r') as file:\n",
    "    metadata = json.load(file)\n",
    "\n",
    "print(\"Variables' description: \\n\")\n",
    "print(json.dumps(metadata, indent = 4))"
   ]
  },
  {
   "cell_type": "markdown",
   "metadata": {},
   "source": [
    "Categorical features (cut, color, clarity) are ordinal, so can be mapped with numerical features instead converting into dummy variables."
   ]
  },
  {
   "cell_type": "code",
   "execution_count": 10,
   "metadata": {},
   "outputs": [],
   "source": [
    "#Mapping cut classes with numerics\n",
    "\n",
    "cut_class = ['Fair', 'Good', 'Very Good', 'Premium', 'Ideal' ]\n",
    "cut_numeric = list(range(1, 6))\n",
    "\n",
    "color_class = ['D', 'E', 'F', 'G', 'H', 'I', 'J']\n",
    "color_numeric = list(range(8, 1, -1))\n",
    "\n",
    "clarity_class = ['I1', 'SI2', 'SI1', 'VS2', 'VS1', 'VVS2', 'VVS1', 'IF']\n",
    "clarity_numeric = list(range(1, 9))"
   ]
  },
  {
   "cell_type": "code",
   "execution_count": 11,
   "metadata": {},
   "outputs": [
    {
     "name": "stdout",
     "output_type": "stream",
     "text": [
      "cut_map: {'Fair': 1, 'Good': 2, 'Very Good': 3, 'Premium': 4, 'Ideal': 5}\n",
      "color_map: {'D': 8, 'E': 7, 'F': 6, 'G': 5, 'H': 4, 'I': 3, 'J': 2}\n",
      "clarity_map: {'I1': 1, 'SI2': 2, 'SI1': 3, 'VS2': 4, 'VS1': 5, 'VVS2': 6, 'VVS1': 7, 'IF': 8}\n"
     ]
    }
   ],
   "source": [
    "maps = ['cut_map', 'color_map', 'clarity_map']\n",
    "classes = [cut_class, color_class, clarity_class]\n",
    "numerics = [cut_numeric, color_numeric, clarity_numeric]\n",
    "\n",
    "for map_name, clas, numeric in zip(maps, classes, numerics):\n",
    "    globals()[map_name] = dict(zip(clas, numeric))\n",
    "\n",
    "print(\"cut_map:\", cut_map)\n",
    "print(\"color_map:\", color_map)\n",
    "print(\"clarity_map:\", clarity_map)"
   ]
  },
  {
   "cell_type": "code",
   "execution_count": 12,
   "metadata": {},
   "outputs": [],
   "source": [
    "mappings = {\n",
    "    'cut_map': {'Fair': 1, 'Good': 2, 'Very Good': 3, 'Premium': 4, 'Ideal': 5},\n",
    "    'color_map': {'D': 7, 'E': 6, 'F': 5, 'G': 4, 'H': 3, 'I': 2, 'J': 1},\n",
    "    'clarity_map': {'I1': 1, 'SI2': 2, 'SI1': 3, 'VS2': 4, 'VS1': 5, 'VVS2': 6, 'VVS1': 7, 'IF': 8}\n",
    "}\n",
    "\n",
    "with open('../data/mappings.json', 'w') as f:\n",
    "    json.dump(mappings, f, indent = 4)"
   ]
  },
  {
   "cell_type": "code",
   "execution_count": 13,
   "metadata": {},
   "outputs": [
    {
     "data": {
      "text/html": [
       "<div>\n",
       "<style scoped>\n",
       "    .dataframe tbody tr th:only-of-type {\n",
       "        vertical-align: middle;\n",
       "    }\n",
       "\n",
       "    .dataframe tbody tr th {\n",
       "        vertical-align: top;\n",
       "    }\n",
       "\n",
       "    .dataframe thead th {\n",
       "        text-align: right;\n",
       "    }\n",
       "</style>\n",
       "<table border=\"1\" class=\"dataframe\">\n",
       "  <thead>\n",
       "    <tr style=\"text-align: right;\">\n",
       "      <th></th>\n",
       "      <th>carat</th>\n",
       "      <th>cut</th>\n",
       "      <th>color</th>\n",
       "      <th>clarity</th>\n",
       "      <th>depth</th>\n",
       "      <th>table</th>\n",
       "      <th>price</th>\n",
       "      <th>x</th>\n",
       "      <th>y</th>\n",
       "      <th>z</th>\n",
       "    </tr>\n",
       "  </thead>\n",
       "  <tbody>\n",
       "    <tr>\n",
       "      <th>0</th>\n",
       "      <td>0.23</td>\n",
       "      <td>5</td>\n",
       "      <td>7</td>\n",
       "      <td>5</td>\n",
       "      <td>61.5</td>\n",
       "      <td>55.0</td>\n",
       "      <td>326</td>\n",
       "      <td>3.95</td>\n",
       "      <td>3.98</td>\n",
       "      <td>2.43</td>\n",
       "    </tr>\n",
       "    <tr>\n",
       "      <th>1</th>\n",
       "      <td>0.21</td>\n",
       "      <td>4</td>\n",
       "      <td>7</td>\n",
       "      <td>4</td>\n",
       "      <td>59.8</td>\n",
       "      <td>61.0</td>\n",
       "      <td>326</td>\n",
       "      <td>3.89</td>\n",
       "      <td>3.84</td>\n",
       "      <td>2.31</td>\n",
       "    </tr>\n",
       "    <tr>\n",
       "      <th>2</th>\n",
       "      <td>0.23</td>\n",
       "      <td>2</td>\n",
       "      <td>7</td>\n",
       "      <td>2</td>\n",
       "      <td>56.9</td>\n",
       "      <td>65.0</td>\n",
       "      <td>327</td>\n",
       "      <td>4.05</td>\n",
       "      <td>4.07</td>\n",
       "      <td>2.31</td>\n",
       "    </tr>\n",
       "    <tr>\n",
       "      <th>3</th>\n",
       "      <td>0.29</td>\n",
       "      <td>4</td>\n",
       "      <td>3</td>\n",
       "      <td>4</td>\n",
       "      <td>62.4</td>\n",
       "      <td>58.0</td>\n",
       "      <td>334</td>\n",
       "      <td>4.20</td>\n",
       "      <td>4.23</td>\n",
       "      <td>2.63</td>\n",
       "    </tr>\n",
       "    <tr>\n",
       "      <th>4</th>\n",
       "      <td>0.31</td>\n",
       "      <td>2</td>\n",
       "      <td>2</td>\n",
       "      <td>2</td>\n",
       "      <td>63.3</td>\n",
       "      <td>58.0</td>\n",
       "      <td>335</td>\n",
       "      <td>4.34</td>\n",
       "      <td>4.35</td>\n",
       "      <td>2.75</td>\n",
       "    </tr>\n",
       "  </tbody>\n",
       "</table>\n",
       "</div>"
      ],
      "text/plain": [
       "   carat  cut  color  clarity  depth  table  price     x     y     z\n",
       "0   0.23    5      7        5   61.5   55.0    326  3.95  3.98  2.43\n",
       "1   0.21    4      7        4   59.8   61.0    326  3.89  3.84  2.31\n",
       "2   0.23    2      7        2   56.9   65.0    327  4.05  4.07  2.31\n",
       "3   0.29    4      3        4   62.4   58.0    334  4.20  4.23  2.63\n",
       "4   0.31    2      2        2   63.3   58.0    335  4.34  4.35  2.75"
      ]
     },
     "execution_count": 13,
     "metadata": {},
     "output_type": "execute_result"
    }
   ],
   "source": [
    "new_df = df.copy()\n",
    "\n",
    "new_df['cut'] = new_df['cut'].map(cut_map)\n",
    "new_df['color'] = new_df['color'].map(color_map)\n",
    "new_df['clarity'] = new_df['cut'].replace(clarity_map) #why .map() is generating NaN here??\n",
    "\n",
    "new_df.head()"
   ]
  },
  {
   "cell_type": "code",
   "execution_count": 14,
   "metadata": {},
   "outputs": [
    {
     "data": {
      "text/html": [
       "<div>\n",
       "<style scoped>\n",
       "    .dataframe tbody tr th:only-of-type {\n",
       "        vertical-align: middle;\n",
       "    }\n",
       "\n",
       "    .dataframe tbody tr th {\n",
       "        vertical-align: top;\n",
       "    }\n",
       "\n",
       "    .dataframe thead th {\n",
       "        text-align: right;\n",
       "    }\n",
       "</style>\n",
       "<table border=\"1\" class=\"dataframe\">\n",
       "  <thead>\n",
       "    <tr style=\"text-align: right;\">\n",
       "      <th></th>\n",
       "      <th>carat</th>\n",
       "      <th>cut</th>\n",
       "      <th>color</th>\n",
       "      <th>clarity</th>\n",
       "      <th>depth</th>\n",
       "      <th>table</th>\n",
       "      <th>price</th>\n",
       "      <th>x</th>\n",
       "      <th>y</th>\n",
       "      <th>z</th>\n",
       "    </tr>\n",
       "  </thead>\n",
       "  <tbody>\n",
       "    <tr>\n",
       "      <th>carat</th>\n",
       "      <td>1.000000</td>\n",
       "      <td>-0.135135</td>\n",
       "      <td>-0.291530</td>\n",
       "      <td>-0.135135</td>\n",
       "      <td>0.027734</td>\n",
       "      <td>0.183639</td>\n",
       "      <td>0.921804</td>\n",
       "      <td>0.975037</td>\n",
       "      <td>0.950035</td>\n",
       "      <td>0.952700</td>\n",
       "    </tr>\n",
       "    <tr>\n",
       "      <th>cut</th>\n",
       "      <td>-0.135135</td>\n",
       "      <td>1.000000</td>\n",
       "      <td>0.019548</td>\n",
       "      <td>1.000000</td>\n",
       "      <td>-0.223898</td>\n",
       "      <td>-0.432154</td>\n",
       "      <td>-0.053537</td>\n",
       "      <td>-0.125738</td>\n",
       "      <td>-0.121335</td>\n",
       "      <td>-0.149830</td>\n",
       "    </tr>\n",
       "    <tr>\n",
       "      <th>color</th>\n",
       "      <td>-0.291530</td>\n",
       "      <td>0.019548</td>\n",
       "      <td>1.000000</td>\n",
       "      <td>0.019548</td>\n",
       "      <td>-0.047426</td>\n",
       "      <td>-0.027513</td>\n",
       "      <td>-0.172629</td>\n",
       "      <td>-0.270529</td>\n",
       "      <td>-0.263395</td>\n",
       "      <td>-0.268388</td>\n",
       "    </tr>\n",
       "    <tr>\n",
       "      <th>clarity</th>\n",
       "      <td>-0.135135</td>\n",
       "      <td>1.000000</td>\n",
       "      <td>0.019548</td>\n",
       "      <td>1.000000</td>\n",
       "      <td>-0.223898</td>\n",
       "      <td>-0.432154</td>\n",
       "      <td>-0.053537</td>\n",
       "      <td>-0.125738</td>\n",
       "      <td>-0.121335</td>\n",
       "      <td>-0.149830</td>\n",
       "    </tr>\n",
       "    <tr>\n",
       "      <th>depth</th>\n",
       "      <td>0.027734</td>\n",
       "      <td>-0.223898</td>\n",
       "      <td>-0.047426</td>\n",
       "      <td>-0.223898</td>\n",
       "      <td>1.000000</td>\n",
       "      <td>-0.293012</td>\n",
       "      <td>-0.012731</td>\n",
       "      <td>-0.025563</td>\n",
       "      <td>-0.029809</td>\n",
       "      <td>0.094337</td>\n",
       "    </tr>\n",
       "    <tr>\n",
       "      <th>table</th>\n",
       "      <td>0.183639</td>\n",
       "      <td>-0.432154</td>\n",
       "      <td>-0.027513</td>\n",
       "      <td>-0.432154</td>\n",
       "      <td>-0.293012</td>\n",
       "      <td>1.000000</td>\n",
       "      <td>0.129848</td>\n",
       "      <td>0.197198</td>\n",
       "      <td>0.185248</td>\n",
       "      <td>0.153161</td>\n",
       "    </tr>\n",
       "    <tr>\n",
       "      <th>price</th>\n",
       "      <td>0.921804</td>\n",
       "      <td>-0.053537</td>\n",
       "      <td>-0.172629</td>\n",
       "      <td>-0.053537</td>\n",
       "      <td>-0.012731</td>\n",
       "      <td>0.129848</td>\n",
       "      <td>1.000000</td>\n",
       "      <td>0.884919</td>\n",
       "      <td>0.864393</td>\n",
       "      <td>0.860963</td>\n",
       "    </tr>\n",
       "    <tr>\n",
       "      <th>x</th>\n",
       "      <td>0.975037</td>\n",
       "      <td>-0.125738</td>\n",
       "      <td>-0.270529</td>\n",
       "      <td>-0.125738</td>\n",
       "      <td>-0.025563</td>\n",
       "      <td>0.197198</td>\n",
       "      <td>0.884919</td>\n",
       "      <td>1.000000</td>\n",
       "      <td>0.972977</td>\n",
       "      <td>0.970122</td>\n",
       "    </tr>\n",
       "    <tr>\n",
       "      <th>y</th>\n",
       "      <td>0.950035</td>\n",
       "      <td>-0.121335</td>\n",
       "      <td>-0.263395</td>\n",
       "      <td>-0.121335</td>\n",
       "      <td>-0.029809</td>\n",
       "      <td>0.185248</td>\n",
       "      <td>0.864393</td>\n",
       "      <td>0.972977</td>\n",
       "      <td>1.000000</td>\n",
       "      <td>0.950030</td>\n",
       "    </tr>\n",
       "    <tr>\n",
       "      <th>z</th>\n",
       "      <td>0.952700</td>\n",
       "      <td>-0.149830</td>\n",
       "      <td>-0.268388</td>\n",
       "      <td>-0.149830</td>\n",
       "      <td>0.094337</td>\n",
       "      <td>0.153161</td>\n",
       "      <td>0.860963</td>\n",
       "      <td>0.970122</td>\n",
       "      <td>0.950030</td>\n",
       "      <td>1.000000</td>\n",
       "    </tr>\n",
       "  </tbody>\n",
       "</table>\n",
       "</div>"
      ],
      "text/plain": [
       "            carat       cut     color   clarity     depth     table     price  \\\n",
       "carat    1.000000 -0.135135 -0.291530 -0.135135  0.027734  0.183639  0.921804   \n",
       "cut     -0.135135  1.000000  0.019548  1.000000 -0.223898 -0.432154 -0.053537   \n",
       "color   -0.291530  0.019548  1.000000  0.019548 -0.047426 -0.027513 -0.172629   \n",
       "clarity -0.135135  1.000000  0.019548  1.000000 -0.223898 -0.432154 -0.053537   \n",
       "depth    0.027734 -0.223898 -0.047426 -0.223898  1.000000 -0.293012 -0.012731   \n",
       "table    0.183639 -0.432154 -0.027513 -0.432154 -0.293012  1.000000  0.129848   \n",
       "price    0.921804 -0.053537 -0.172629 -0.053537 -0.012731  0.129848  1.000000   \n",
       "x        0.975037 -0.125738 -0.270529 -0.125738 -0.025563  0.197198  0.884919   \n",
       "y        0.950035 -0.121335 -0.263395 -0.121335 -0.029809  0.185248  0.864393   \n",
       "z        0.952700 -0.149830 -0.268388 -0.149830  0.094337  0.153161  0.860963   \n",
       "\n",
       "                x         y         z  \n",
       "carat    0.975037  0.950035  0.952700  \n",
       "cut     -0.125738 -0.121335 -0.149830  \n",
       "color   -0.270529 -0.263395 -0.268388  \n",
       "clarity -0.125738 -0.121335 -0.149830  \n",
       "depth   -0.025563 -0.029809  0.094337  \n",
       "table    0.197198  0.185248  0.153161  \n",
       "price    0.884919  0.864393  0.860963  \n",
       "x        1.000000  0.972977  0.970122  \n",
       "y        0.972977  1.000000  0.950030  \n",
       "z        0.970122  0.950030  1.000000  "
      ]
     },
     "execution_count": 14,
     "metadata": {},
     "output_type": "execute_result"
    }
   ],
   "source": [
    "new_df.corr()"
   ]
  },
  {
   "cell_type": "code",
   "execution_count": 16,
   "metadata": {},
   "outputs": [],
   "source": [
    "#new_df.to_csv('../data/diamonds_preprocessed.csv', index = False)"
   ]
  },
  {
   "cell_type": "code",
   "execution_count": 15,
   "metadata": {},
   "outputs": [
    {
     "data": {
      "text/html": [
       "<div>\n",
       "<style scoped>\n",
       "    .dataframe tbody tr th:only-of-type {\n",
       "        vertical-align: middle;\n",
       "    }\n",
       "\n",
       "    .dataframe tbody tr th {\n",
       "        vertical-align: top;\n",
       "    }\n",
       "\n",
       "    .dataframe thead th {\n",
       "        text-align: right;\n",
       "    }\n",
       "</style>\n",
       "<table border=\"1\" class=\"dataframe\">\n",
       "  <thead>\n",
       "    <tr style=\"text-align: right;\">\n",
       "      <th></th>\n",
       "      <th>carat</th>\n",
       "      <th>cut</th>\n",
       "      <th>color</th>\n",
       "      <th>clarity</th>\n",
       "      <th>depth</th>\n",
       "      <th>table</th>\n",
       "      <th>price</th>\n",
       "      <th>x</th>\n",
       "      <th>y</th>\n",
       "      <th>z</th>\n",
       "    </tr>\n",
       "  </thead>\n",
       "  <tbody>\n",
       "    <tr>\n",
       "      <th>28377</th>\n",
       "      <td>0.31</td>\n",
       "      <td>5</td>\n",
       "      <td>8</td>\n",
       "      <td>5</td>\n",
       "      <td>62.0</td>\n",
       "      <td>55.0</td>\n",
       "      <td>734</td>\n",
       "      <td>4.36</td>\n",
       "      <td>4.38</td>\n",
       "      <td>2.71</td>\n",
       "    </tr>\n",
       "    <tr>\n",
       "      <th>36301</th>\n",
       "      <td>0.35</td>\n",
       "      <td>5</td>\n",
       "      <td>7</td>\n",
       "      <td>5</td>\n",
       "      <td>61.2</td>\n",
       "      <td>56.0</td>\n",
       "      <td>1063</td>\n",
       "      <td>4.55</td>\n",
       "      <td>4.53</td>\n",
       "      <td>2.78</td>\n",
       "    </tr>\n",
       "    <tr>\n",
       "      <th>4604</th>\n",
       "      <td>1.06</td>\n",
       "      <td>4</td>\n",
       "      <td>2</td>\n",
       "      <td>4</td>\n",
       "      <td>61.3</td>\n",
       "      <td>60.0</td>\n",
       "      <td>3740</td>\n",
       "      <td>6.59</td>\n",
       "      <td>6.52</td>\n",
       "      <td>4.02</td>\n",
       "    </tr>\n",
       "    <tr>\n",
       "      <th>3753</th>\n",
       "      <td>0.31</td>\n",
       "      <td>2</td>\n",
       "      <td>8</td>\n",
       "      <td>2</td>\n",
       "      <td>63.4</td>\n",
       "      <td>58.0</td>\n",
       "      <td>571</td>\n",
       "      <td>4.32</td>\n",
       "      <td>4.35</td>\n",
       "      <td>2.75</td>\n",
       "    </tr>\n",
       "    <tr>\n",
       "      <th>6515</th>\n",
       "      <td>0.85</td>\n",
       "      <td>5</td>\n",
       "      <td>5</td>\n",
       "      <td>5</td>\n",
       "      <td>61.6</td>\n",
       "      <td>54.0</td>\n",
       "      <td>4164</td>\n",
       "      <td>6.08</td>\n",
       "      <td>6.12</td>\n",
       "      <td>3.76</td>\n",
       "    </tr>\n",
       "  </tbody>\n",
       "</table>\n",
       "</div>"
      ],
      "text/plain": [
       "       carat  cut  color  clarity  depth  table  price     x     y     z\n",
       "28377   0.31    5      8        5   62.0   55.0    734  4.36  4.38  2.71\n",
       "36301   0.35    5      7        5   61.2   56.0   1063  4.55  4.53  2.78\n",
       "4604    1.06    4      2        4   61.3   60.0   3740  6.59  6.52  4.02\n",
       "3753    0.31    2      8        2   63.4   58.0    571  4.32  4.35  2.75\n",
       "6515    0.85    5      5        5   61.6   54.0   4164  6.08  6.12  3.76"
      ]
     },
     "execution_count": 15,
     "metadata": {},
     "output_type": "execute_result"
    }
   ],
   "source": [
    "df = new_df.sample(frac = 1)\n",
    "df.head()"
   ]
  },
  {
   "cell_type": "code",
   "execution_count": 16,
   "metadata": {},
   "outputs": [],
   "source": [
    "y = df['price']\n",
    "X = df.drop(columns = ['price'], axis = 1)"
   ]
  },
  {
   "cell_type": "code",
   "execution_count": 17,
   "metadata": {},
   "outputs": [],
   "source": [
    "from sklearn.model_selection import train_test_split\n",
    "\n",
    "X_train, X_test, y_train, y_test = train_test_split(X, y, test_size = 0.2, random_state = 42)"
   ]
  },
  {
   "cell_type": "code",
   "execution_count": 18,
   "metadata": {},
   "outputs": [],
   "source": [
    "from sklearn.preprocessing import StandardScaler\n",
    "\n",
    "scaler = StandardScaler()\n",
    "X_train = scaler.fit_transform(X_train)\n",
    "X_test = scaler.transform(X_test)"
   ]
  },
  {
   "cell_type": "code",
   "execution_count": 33,
   "metadata": {},
   "outputs": [],
   "source": [
    "from sklearn.metrics import root_mean_squared_error, mean_absolute_error\n",
    "\n",
    "index = [\n",
    "    'Linear',\n",
    "    'Elastic Net',\n",
    "    'Random Forest',\n",
    "    'XGBoost',\n",
    "    'LightGBM',\n",
    "    'CatBoost',\n",
    "    'SVM'\n",
    "]\n",
    "\n",
    "rmse = []\n",
    "mae = []"
   ]
  },
  {
   "cell_type": "code",
   "execution_count": 34,
   "metadata": {},
   "outputs": [
    {
     "name": "stdout",
     "output_type": "stream",
     "text": [
      "Linear Regression RMSE: 1416.278595163559\n",
      "Linear Regression MAE: 876.2264104228138\n"
     ]
    }
   ],
   "source": [
    "from sklearn.linear_model import LinearRegression\n",
    "\n",
    "lr = LinearRegression()\n",
    "lr.fit(X_train, y_train)\n",
    "\n",
    "lr_y_pred = lr.predict(X_test)\n",
    "\n",
    "lr_rmse = root_mean_squared_error(y_test, lr_y_pred)\n",
    "lr_mae = mean_absolute_error(y_test, lr_y_pred)\n",
    "\n",
    "rmse.append(lr_rmse)\n",
    "mae.append(lr_mae)\n",
    "\n",
    "print(\"Linear Regression RMSE:\", lr_rmse)\n",
    "print(\"Linear Regression MAE:\", lr_mae)"
   ]
  },
  {
   "cell_type": "code",
   "execution_count": 35,
   "metadata": {},
   "outputs": [
    {
     "name": "stdout",
     "output_type": "stream",
     "text": [
      "ElasticNet Regression RMSE: 1414.893764360218\n",
      "ElasticNet Regression MAE: 890.2595264478367\n"
     ]
    }
   ],
   "source": [
    "from sklearn.linear_model import ElasticNet\n",
    "\n",
    "en = ElasticNet(alpha = 0.05, l1_ratio = 0.95, random_state = 42)  # Adjust alpha and l1_ratio as needed\n",
    "en.fit(X_train, y_train)\n",
    "\n",
    "en_y_pred = en.predict(X_test)\n",
    "\n",
    "en_rmse = root_mean_squared_error(y_test, en_y_pred)\n",
    "en_mae = mean_absolute_error(y_test, en_y_pred)\n",
    "\n",
    "rmse.append(en_rmse)\n",
    "mae.append(en_mae)\n",
    "\n",
    "print(\"ElasticNet Regression RMSE:\", en_rmse)\n",
    "print(\"ElasticNet Regression MAE:\", en_mae)"
   ]
  },
  {
   "cell_type": "code",
   "execution_count": 36,
   "metadata": {},
   "outputs": [
    {
     "name": "stdout",
     "output_type": "stream",
     "text": [
      "Random Forest Regressor RMSE: 1176.5525703974206\n",
      "Random Forest Regressor MAE: 640.900701468254\n"
     ]
    }
   ],
   "source": [
    "from sklearn.ensemble import RandomForestRegressor\n",
    "\n",
    "rf = RandomForestRegressor(n_estimators = 100, random_state = 42)\n",
    "rf.fit(X_train, y_train)\n",
    "\n",
    "rf_y_pred = rf.predict(X_test)\n",
    "\n",
    "rf_rmse = root_mean_squared_error(y_test, rf_y_pred)\n",
    "rf_mae = mean_absolute_error(y_test, rf_y_pred)\n",
    "\n",
    "rmse.append(rf_rmse)\n",
    "mae.append(rf_mae)\n",
    "\n",
    "print(\"Random Forest Regressor RMSE:\", rf_rmse)\n",
    "print(\"Random Forest Regressor MAE:\", rf_mae)"
   ]
  },
  {
   "cell_type": "code",
   "execution_count": 37,
   "metadata": {},
   "outputs": [
    {
     "name": "stdout",
     "output_type": "stream",
     "text": [
      "XGB Regressor RMSE: 1156.8857044649399\n",
      "XGB Regressor MAE: 634.9913528564454\n"
     ]
    }
   ],
   "source": [
    "from xgboost import XGBRegressor\n",
    "\n",
    "xgb = XGBRegressor(n_estimators = 100, learning_rate = 0.1, random_state = 42)\n",
    "xgb.fit(X_train, y_train)\n",
    "\n",
    "xgb_y_pred = xgb.predict(X_test)\n",
    "\n",
    "xgb_rmse = root_mean_squared_error(y_test, xgb_y_pred)\n",
    "xgb_mae = mean_absolute_error(y_test, xgb_y_pred)\n",
    "\n",
    "rmse.append(xgb_rmse)\n",
    "mae.append(xgb_mae)\n",
    "\n",
    "print(\"XGB Regressor RMSE:\", xgb_rmse)\n",
    "print(\"XGB Regressor MAE:\", xgb_mae)"
   ]
  },
  {
   "cell_type": "code",
   "execution_count": 38,
   "metadata": {},
   "outputs": [
    {
     "name": "stdout",
     "output_type": "stream",
     "text": [
      "LGBM Regressor RMSE: 1160.9280039188463\n",
      "LGBM Regressor MAE: 637.7579081363968\n"
     ]
    }
   ],
   "source": [
    "from lightgbm import LGBMRegressor\n",
    "\n",
    "lgbm = LGBMRegressor(n_estimators = 100, learning_rate = 0.1, random_state = 42, verbose = -1)\n",
    "lgbm.fit(X_train, y_train)\n",
    "\n",
    "lgbm_y_pred = lgbm.predict(X_test)\n",
    "\n",
    "lgbm_rmse = root_mean_squared_error(y_test, lgbm_y_pred)\n",
    "lgbm_mae = mean_absolute_error(y_test, lgbm_y_pred)\n",
    "\n",
    "rmse.append(lgbm_rmse)\n",
    "mae.append(lgbm_mae)\n",
    "\n",
    "print(\"LGBM Regressor RMSE:\", lgbm_rmse)\n",
    "print(\"LGBM Regressor MAE:\", lgbm_mae)"
   ]
  },
  {
   "cell_type": "code",
   "execution_count": 39,
   "metadata": {},
   "outputs": [
    {
     "name": "stdout",
     "output_type": "stream",
     "text": [
      "Catboost Regressor RMSE: 1173.1500958464221\n",
      "Catboost Regressor MAE: 650.0360734607181\n"
     ]
    }
   ],
   "source": [
    "from catboost import CatBoostRegressor\n",
    "\n",
    "catboost = CatBoostRegressor(n_estimators = 100, learning_rate = 0.1, random_state = 42, verbose = 0, allow_writing_files = False)\n",
    "catboost.fit(X_train, y_train)\n",
    "\n",
    "cat_y_pred = catboost.predict(X_test)\n",
    "\n",
    "cat_rmse = root_mean_squared_error(y_test, cat_y_pred)\n",
    "cat_mae = mean_absolute_error(y_test, cat_y_pred)\n",
    "\n",
    "rmse.append(cat_rmse)\n",
    "mae.append(cat_mae)\n",
    "\n",
    "print(\"Catboost Regressor RMSE:\", cat_rmse)\n",
    "print(\"Catboost Regressor MAE:\", cat_mae)"
   ]
  },
  {
   "cell_type": "code",
   "execution_count": 40,
   "metadata": {},
   "outputs": [
    {
     "name": "stdout",
     "output_type": "stream",
     "text": [
      "SVM Regressor RMSE: 2832.140879482138\n",
      "SVM Regressor MAE: 1401.9094673034397\n"
     ]
    }
   ],
   "source": [
    "from sklearn.svm import SVR\n",
    "\n",
    "svr = SVR(kernel = 'rbf', C = 1.0, epsilon = 0.1)  # Adjust C and epsilon as needed\n",
    "svr.fit(X_train, y_train)\n",
    "\n",
    "svm_y_pred = svr.predict(X_test)\n",
    "\n",
    "svm_rmse = root_mean_squared_error(y_test, svm_y_pred)\n",
    "svm_mae = mean_absolute_error(y_test, svm_y_pred)\n",
    "\n",
    "rmse.append(svm_rmse)\n",
    "mae.append(svm_mae)\n",
    "\n",
    "print(\"SVM Regressor RMSE:\", svm_rmse)\n",
    "print(\"SVM Regressor MAE:\", svm_mae)"
   ]
  },
  {
   "cell_type": "code",
   "execution_count": 41,
   "metadata": {},
   "outputs": [
    {
     "data": {
      "text/html": [
       "<div>\n",
       "<style scoped>\n",
       "    .dataframe tbody tr th:only-of-type {\n",
       "        vertical-align: middle;\n",
       "    }\n",
       "\n",
       "    .dataframe tbody tr th {\n",
       "        vertical-align: top;\n",
       "    }\n",
       "\n",
       "    .dataframe thead th {\n",
       "        text-align: right;\n",
       "    }\n",
       "</style>\n",
       "<table border=\"1\" class=\"dataframe\">\n",
       "  <thead>\n",
       "    <tr style=\"text-align: right;\">\n",
       "      <th></th>\n",
       "      <th>RMSE</th>\n",
       "      <th>MAE</th>\n",
       "      <th>RMSA to mean</th>\n",
       "    </tr>\n",
       "    <tr>\n",
       "      <th>METHOD</th>\n",
       "      <th></th>\n",
       "      <th></th>\n",
       "      <th></th>\n",
       "    </tr>\n",
       "  </thead>\n",
       "  <tbody>\n",
       "    <tr>\n",
       "      <th>Linear</th>\n",
       "      <td>1416.28</td>\n",
       "      <td>876.23</td>\n",
       "      <td>0.358125</td>\n",
       "    </tr>\n",
       "    <tr>\n",
       "      <th>Elastic Net</th>\n",
       "      <td>1414.89</td>\n",
       "      <td>890.26</td>\n",
       "      <td>0.357774</td>\n",
       "    </tr>\n",
       "    <tr>\n",
       "      <th>Random Forest</th>\n",
       "      <td>1176.55</td>\n",
       "      <td>640.90</td>\n",
       "      <td>0.297506</td>\n",
       "    </tr>\n",
       "    <tr>\n",
       "      <th>XGBoost</th>\n",
       "      <td>1156.89</td>\n",
       "      <td>634.99</td>\n",
       "      <td>0.292535</td>\n",
       "    </tr>\n",
       "    <tr>\n",
       "      <th>LightGBM</th>\n",
       "      <td>1160.93</td>\n",
       "      <td>637.76</td>\n",
       "      <td>0.293557</td>\n",
       "    </tr>\n",
       "    <tr>\n",
       "      <th>CatBoost</th>\n",
       "      <td>1173.15</td>\n",
       "      <td>650.04</td>\n",
       "      <td>0.296647</td>\n",
       "    </tr>\n",
       "    <tr>\n",
       "      <th>SVM</th>\n",
       "      <td>2832.14</td>\n",
       "      <td>1401.91</td>\n",
       "      <td>0.716144</td>\n",
       "    </tr>\n",
       "  </tbody>\n",
       "</table>\n",
       "</div>"
      ],
      "text/plain": [
       "                  RMSE      MAE  RMSA to mean\n",
       "METHOD                                       \n",
       "Linear         1416.28   876.23      0.358125\n",
       "Elastic Net    1414.89   890.26      0.357774\n",
       "Random Forest  1176.55   640.90      0.297506\n",
       "XGBoost        1156.89   634.99      0.292535\n",
       "LightGBM       1160.93   637.76      0.293557\n",
       "CatBoost       1173.15   650.04      0.296647\n",
       "SVM            2832.14  1401.91      0.716144"
      ]
     },
     "execution_count": 41,
     "metadata": {},
     "output_type": "execute_result"
    }
   ],
   "source": [
    "metrics = pd.DataFrame({\n",
    "    'METHOD': index,\n",
    "    'RMSE': np.round(rmse, 2),\n",
    "    'MAE': np.round(mae, 2)\n",
    "})\n",
    "\n",
    "metrics.set_index('METHOD', inplace = True)\n",
    "metrics['RMSA to mean'] = metrics['RMSE'] / y_test.mean()\n",
    "\n",
    "metrics"
   ]
  },
  {
   "cell_type": "code",
   "execution_count": 42,
   "metadata": {},
   "outputs": [
    {
     "data": {
      "text/plain": [
       "3944.80544"
      ]
     },
     "execution_count": 42,
     "metadata": {},
     "output_type": "execute_result"
    }
   ],
   "source": [
    "df['price'].mean()"
   ]
  },
  {
   "cell_type": "markdown",
   "metadata": {},
   "source": [
    "INSIGHTS :\n",
    "- significant difference between RMSE and MAE (implies some higher residuals)\n",
    "- RMSE to mean ratio suggest models' performance far from optimal\n",
    "- it is worth to try clustering the data first and next develop models dedicated to particular cluster"
   ]
  },
  {
   "cell_type": "code",
   "execution_count": null,
   "metadata": {},
   "outputs": [],
   "source": []
  }
 ],
 "metadata": {
  "kernelspec": {
   "display_name": "base",
   "language": "python",
   "name": "python3"
  },
  "language_info": {
   "codemirror_mode": {
    "name": "ipython",
    "version": 3
   },
   "file_extension": ".py",
   "mimetype": "text/x-python",
   "name": "python",
   "nbconvert_exporter": "python",
   "pygments_lexer": "ipython3",
   "version": "3.12.4"
  }
 },
 "nbformat": 4,
 "nbformat_minor": 2
}
