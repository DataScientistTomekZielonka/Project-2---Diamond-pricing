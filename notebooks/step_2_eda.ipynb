{
 "cells": [
  {
   "cell_type": "code",
   "execution_count": 1,
   "metadata": {},
   "outputs": [],
   "source": [
    "import numpy as np\n",
    "import pandas as pd"
   ]
  },
  {
   "cell_type": "code",
   "execution_count": 2,
   "metadata": {},
   "outputs": [
    {
     "data": {
      "text/html": [
       "<div>\n",
       "<style scoped>\n",
       "    .dataframe tbody tr th:only-of-type {\n",
       "        vertical-align: middle;\n",
       "    }\n",
       "\n",
       "    .dataframe tbody tr th {\n",
       "        vertical-align: top;\n",
       "    }\n",
       "\n",
       "    .dataframe thead th {\n",
       "        text-align: right;\n",
       "    }\n",
       "</style>\n",
       "<table border=\"1\" class=\"dataframe\">\n",
       "  <thead>\n",
       "    <tr style=\"text-align: right;\">\n",
       "      <th></th>\n",
       "      <th>carat</th>\n",
       "      <th>cut</th>\n",
       "      <th>color</th>\n",
       "      <th>clarity</th>\n",
       "      <th>depth</th>\n",
       "      <th>table</th>\n",
       "      <th>price</th>\n",
       "      <th>x</th>\n",
       "      <th>y</th>\n",
       "      <th>z</th>\n",
       "    </tr>\n",
       "  </thead>\n",
       "  <tbody>\n",
       "    <tr>\n",
       "      <th>0</th>\n",
       "      <td>0.23</td>\n",
       "      <td>Ideal</td>\n",
       "      <td>E</td>\n",
       "      <td>SI2</td>\n",
       "      <td>61.5</td>\n",
       "      <td>55.0</td>\n",
       "      <td>326</td>\n",
       "      <td>3.95</td>\n",
       "      <td>3.98</td>\n",
       "      <td>2.43</td>\n",
       "    </tr>\n",
       "    <tr>\n",
       "      <th>1</th>\n",
       "      <td>0.21</td>\n",
       "      <td>Premium</td>\n",
       "      <td>E</td>\n",
       "      <td>SI1</td>\n",
       "      <td>59.8</td>\n",
       "      <td>61.0</td>\n",
       "      <td>326</td>\n",
       "      <td>3.89</td>\n",
       "      <td>3.84</td>\n",
       "      <td>2.31</td>\n",
       "    </tr>\n",
       "    <tr>\n",
       "      <th>2</th>\n",
       "      <td>0.23</td>\n",
       "      <td>Good</td>\n",
       "      <td>E</td>\n",
       "      <td>VS1</td>\n",
       "      <td>56.9</td>\n",
       "      <td>65.0</td>\n",
       "      <td>327</td>\n",
       "      <td>4.05</td>\n",
       "      <td>4.07</td>\n",
       "      <td>2.31</td>\n",
       "    </tr>\n",
       "    <tr>\n",
       "      <th>3</th>\n",
       "      <td>0.29</td>\n",
       "      <td>Premium</td>\n",
       "      <td>I</td>\n",
       "      <td>VS2</td>\n",
       "      <td>62.4</td>\n",
       "      <td>58.0</td>\n",
       "      <td>334</td>\n",
       "      <td>4.20</td>\n",
       "      <td>4.23</td>\n",
       "      <td>2.63</td>\n",
       "    </tr>\n",
       "    <tr>\n",
       "      <th>4</th>\n",
       "      <td>0.31</td>\n",
       "      <td>Good</td>\n",
       "      <td>J</td>\n",
       "      <td>SI2</td>\n",
       "      <td>63.3</td>\n",
       "      <td>58.0</td>\n",
       "      <td>335</td>\n",
       "      <td>4.34</td>\n",
       "      <td>4.35</td>\n",
       "      <td>2.75</td>\n",
       "    </tr>\n",
       "  </tbody>\n",
       "</table>\n",
       "</div>"
      ],
      "text/plain": [
       "   carat      cut color clarity  depth  table  price     x     y     z\n",
       "0   0.23    Ideal     E     SI2   61.5   55.0    326  3.95  3.98  2.43\n",
       "1   0.21  Premium     E     SI1   59.8   61.0    326  3.89  3.84  2.31\n",
       "2   0.23     Good     E     VS1   56.9   65.0    327  4.05  4.07  2.31\n",
       "3   0.29  Premium     I     VS2   62.4   58.0    334  4.20  4.23  2.63\n",
       "4   0.31     Good     J     SI2   63.3   58.0    335  4.34  4.35  2.75"
      ]
     },
     "execution_count": 2,
     "metadata": {},
     "output_type": "execute_result"
    }
   ],
   "source": [
    "df = pd.read_csv('../data/diamonds_raw.csv')\n",
    "df.head()"
   ]
  },
  {
   "cell_type": "code",
   "execution_count": 3,
   "metadata": {},
   "outputs": [
    {
     "data": {
      "text/plain": [
       "(50000, 10)"
      ]
     },
     "execution_count": 3,
     "metadata": {},
     "output_type": "execute_result"
    }
   ],
   "source": [
    "df.shape"
   ]
  },
  {
   "cell_type": "code",
   "execution_count": 4,
   "metadata": {},
   "outputs": [
    {
     "name": "stdout",
     "output_type": "stream",
     "text": [
      "<class 'pandas.core.frame.DataFrame'>\n",
      "RangeIndex: 50000 entries, 0 to 49999\n",
      "Data columns (total 10 columns):\n",
      " #   Column   Non-Null Count  Dtype  \n",
      "---  ------   --------------  -----  \n",
      " 0   carat    50000 non-null  float64\n",
      " 1   cut      50000 non-null  object \n",
      " 2   color    50000 non-null  object \n",
      " 3   clarity  50000 non-null  object \n",
      " 4   depth    50000 non-null  float64\n",
      " 5   table    50000 non-null  float64\n",
      " 6   price    50000 non-null  int64  \n",
      " 7   x        50000 non-null  float64\n",
      " 8   y        50000 non-null  float64\n",
      " 9   z        50000 non-null  float64\n",
      "dtypes: float64(6), int64(1), object(3)\n",
      "memory usage: 3.8+ MB\n"
     ]
    }
   ],
   "source": [
    "df.info()"
   ]
  },
  {
   "cell_type": "code",
   "execution_count": 5,
   "metadata": {},
   "outputs": [
    {
     "data": {
      "text/plain": [
       "['cut', 'color', 'clarity']"
      ]
     },
     "execution_count": 5,
     "metadata": {},
     "output_type": "execute_result"
    }
   ],
   "source": [
    "categoricals = ['cut', 'color', 'clarity']\n",
    "categoricals"
   ]
  },
  {
   "cell_type": "code",
   "execution_count": 6,
   "metadata": {},
   "outputs": [
    {
     "name": "stdout",
     "output_type": "stream",
     "text": [
      "cut\n",
      "Ideal        19938\n",
      "Premium      12806\n",
      "Very Good    11204\n",
      "Good          4557\n",
      "Fair          1495\n",
      "Name: count, dtype: int64 \n",
      "\n",
      "color\n",
      "G    10452\n",
      "E     9085\n",
      "F     8864\n",
      "H     7711\n",
      "D     6224\n",
      "I     5058\n",
      "J     2606\n",
      "Name: count, dtype: int64 \n",
      "\n",
      "clarity\n",
      "SI1     12115\n",
      "VS2     11404\n",
      "SI2      8519\n",
      "VS1      7579\n",
      "VVS2     4694\n",
      "VVS1     3369\n",
      "IF       1632\n",
      "I1        688\n",
      "Name: count, dtype: int64 \n",
      "\n"
     ]
    }
   ],
   "source": [
    "for category in categoricals :\n",
    "\n",
    "    print(df[category].value_counts(), '\\n')"
   ]
  },
  {
   "cell_type": "code",
   "execution_count": 7,
   "metadata": {},
   "outputs": [
    {
     "data": {
      "text/plain": [
       "['carat', 'depth', 'table', 'price', 'x', 'y', 'z']"
      ]
     },
     "execution_count": 7,
     "metadata": {},
     "output_type": "execute_result"
    }
   ],
   "source": [
    "numericals = df.drop(columns = categoricals).columns.tolist()\n",
    "numericals"
   ]
  },
  {
   "cell_type": "code",
   "execution_count": 8,
   "metadata": {},
   "outputs": [
    {
     "data": {
      "text/html": [
       "<div>\n",
       "<style scoped>\n",
       "    .dataframe tbody tr th:only-of-type {\n",
       "        vertical-align: middle;\n",
       "    }\n",
       "\n",
       "    .dataframe tbody tr th {\n",
       "        vertical-align: top;\n",
       "    }\n",
       "\n",
       "    .dataframe thead th {\n",
       "        text-align: right;\n",
       "    }\n",
       "</style>\n",
       "<table border=\"1\" class=\"dataframe\">\n",
       "  <thead>\n",
       "    <tr style=\"text-align: right;\">\n",
       "      <th></th>\n",
       "      <th>count</th>\n",
       "      <th>mean</th>\n",
       "      <th>std</th>\n",
       "      <th>min</th>\n",
       "      <th>25%</th>\n",
       "      <th>50%</th>\n",
       "      <th>75%</th>\n",
       "      <th>max</th>\n",
       "    </tr>\n",
       "  </thead>\n",
       "  <tbody>\n",
       "    <tr>\n",
       "      <th>carat</th>\n",
       "      <td>50000.0</td>\n",
       "      <td>0.799444</td>\n",
       "      <td>0.475173</td>\n",
       "      <td>0.2</td>\n",
       "      <td>0.40</td>\n",
       "      <td>0.70</td>\n",
       "      <td>1.04</td>\n",
       "      <td>5.01</td>\n",
       "    </tr>\n",
       "    <tr>\n",
       "      <th>depth</th>\n",
       "      <td>50000.0</td>\n",
       "      <td>61.753006</td>\n",
       "      <td>1.431088</td>\n",
       "      <td>43.0</td>\n",
       "      <td>61.00</td>\n",
       "      <td>61.80</td>\n",
       "      <td>62.50</td>\n",
       "      <td>79.00</td>\n",
       "    </tr>\n",
       "    <tr>\n",
       "      <th>table</th>\n",
       "      <td>50000.0</td>\n",
       "      <td>57.457830</td>\n",
       "      <td>2.232092</td>\n",
       "      <td>43.0</td>\n",
       "      <td>56.00</td>\n",
       "      <td>57.00</td>\n",
       "      <td>59.00</td>\n",
       "      <td>95.00</td>\n",
       "    </tr>\n",
       "    <tr>\n",
       "      <th>price</th>\n",
       "      <td>50000.0</td>\n",
       "      <td>3944.805440</td>\n",
       "      <td>3997.938105</td>\n",
       "      <td>326.0</td>\n",
       "      <td>951.00</td>\n",
       "      <td>2410.00</td>\n",
       "      <td>5351.00</td>\n",
       "      <td>18823.00</td>\n",
       "    </tr>\n",
       "    <tr>\n",
       "      <th>x</th>\n",
       "      <td>50000.0</td>\n",
       "      <td>5.734403</td>\n",
       "      <td>1.123077</td>\n",
       "      <td>0.0</td>\n",
       "      <td>4.71</td>\n",
       "      <td>5.70</td>\n",
       "      <td>6.54</td>\n",
       "      <td>10.74</td>\n",
       "    </tr>\n",
       "    <tr>\n",
       "      <th>y</th>\n",
       "      <td>50000.0</td>\n",
       "      <td>5.737956</td>\n",
       "      <td>1.145579</td>\n",
       "      <td>0.0</td>\n",
       "      <td>4.72</td>\n",
       "      <td>5.71</td>\n",
       "      <td>6.54</td>\n",
       "      <td>58.90</td>\n",
       "    </tr>\n",
       "    <tr>\n",
       "      <th>z</th>\n",
       "      <td>50000.0</td>\n",
       "      <td>3.541056</td>\n",
       "      <td>0.707065</td>\n",
       "      <td>0.0</td>\n",
       "      <td>2.91</td>\n",
       "      <td>3.53</td>\n",
       "      <td>4.04</td>\n",
       "      <td>31.80</td>\n",
       "    </tr>\n",
       "  </tbody>\n",
       "</table>\n",
       "</div>"
      ],
      "text/plain": [
       "         count         mean          std    min     25%      50%      75%  \\\n",
       "carat  50000.0     0.799444     0.475173    0.2    0.40     0.70     1.04   \n",
       "depth  50000.0    61.753006     1.431088   43.0   61.00    61.80    62.50   \n",
       "table  50000.0    57.457830     2.232092   43.0   56.00    57.00    59.00   \n",
       "price  50000.0  3944.805440  3997.938105  326.0  951.00  2410.00  5351.00   \n",
       "x      50000.0     5.734403     1.123077    0.0    4.71     5.70     6.54   \n",
       "y      50000.0     5.737956     1.145579    0.0    4.72     5.71     6.54   \n",
       "z      50000.0     3.541056     0.707065    0.0    2.91     3.53     4.04   \n",
       "\n",
       "            max  \n",
       "carat      5.01  \n",
       "depth     79.00  \n",
       "table     95.00  \n",
       "price  18823.00  \n",
       "x         10.74  \n",
       "y         58.90  \n",
       "z         31.80  "
      ]
     },
     "execution_count": 8,
     "metadata": {},
     "output_type": "execute_result"
    }
   ],
   "source": [
    "pd.DataFrame(data = df, columns = numericals).describe().transpose()"
   ]
  },
  {
   "cell_type": "code",
   "execution_count": 8,
   "metadata": {},
   "outputs": [
    {
     "data": {
      "text/plain": [
       "17"
      ]
     },
     "execution_count": 8,
     "metadata": {},
     "output_type": "execute_result"
    }
   ],
   "source": [
    "len(df.query('x == 0 | y == 0 | z == 0'))"
   ]
  },
  {
   "cell_type": "code",
   "execution_count": 9,
   "metadata": {},
   "outputs": [
    {
     "data": {
      "text/plain": [
       "49983"
      ]
     },
     "execution_count": 9,
     "metadata": {},
     "output_type": "execute_result"
    }
   ],
   "source": [
    "df = df[(df['x'] != 0) & (df['y'] != 0) & (df['z'] != 0)]\n",
    "len(df)"
   ]
  },
  {
   "cell_type": "code",
   "execution_count": 10,
   "metadata": {},
   "outputs": [
    {
     "data": {
      "text/plain": [
       "5000"
      ]
     },
     "execution_count": 10,
     "metadata": {},
     "output_type": "execute_result"
    }
   ],
   "source": [
    "# Extracting 10% of non-preprocessed dataset for testing the entire solution\n",
    "\n",
    "df = df.sample(frac = 1)\n",
    "test_df = df.iloc[:5000].copy()\n",
    "len(test_df)"
   ]
  },
  {
   "cell_type": "code",
   "execution_count": 11,
   "metadata": {},
   "outputs": [],
   "source": [
    "test_df.to_csv('../data/diamonds_test_data.csv')"
   ]
  },
  {
   "cell_type": "code",
   "execution_count": 12,
   "metadata": {},
   "outputs": [
    {
     "name": "stdout",
     "output_type": "stream",
     "text": [
      "Variables' description: \n",
      "\n",
      "{\n",
      "    \"metadata\": {\n",
      "        \"carat\": \"diamond weight in carat\",\n",
      "        \"cut\": \"diamond cutting qualityuring\",\n",
      "        \"color\": \"diamond color from J (worst) to D (best)\",\n",
      "        \"clarity\": \"measure of diamond clarity (from left to right is worst to best: I1, SI2, SI1, VS2, VS1, VVS2, VVS1, IF)\",\n",
      "        \"depth\": \"percentage depth that is equal to z / mean(x,y)\",\n",
      "        \"table\": \"width of the widest point at the top of the diamond\",\n",
      "        \"price\": \"diamond price\",\n",
      "        \"x\": \"diamond length in mm\",\n",
      "        \"y\": \"diamond width in mm\",\n",
      "        \"z\": \"diamond depth in mm\"\n",
      "    }\n",
      "}\n"
     ]
    }
   ],
   "source": [
    "import json\n",
    "\n",
    "with open('../data/metadata.json', 'r') as file:\n",
    "    metadata = json.load(file)\n",
    "\n",
    "print(\"Variables' description: \\n\")\n",
    "print(json.dumps(metadata, indent = 4))"
   ]
  },
  {
   "cell_type": "markdown",
   "metadata": {},
   "source": [
    "Categorical features (cut, color, clarity) are ordinal, so can be mapped with numerical features instead converting into dummy variables."
   ]
  },
  {
   "cell_type": "code",
   "execution_count": 13,
   "metadata": {},
   "outputs": [],
   "source": [
    "#Mapping cut classes with numerics\n",
    "\n",
    "cut_class = ['Fair', 'Good', 'Very Good', 'Premium', 'Ideal' ]\n",
    "cut_numeric = list(range(1, 6))\n",
    "\n",
    "color_class = ['D', 'E', 'F', 'G', 'H', 'I', 'J']\n",
    "color_numeric = list(range(8, 1, -1))\n",
    "\n",
    "clarity_class = ['I1', 'SI2', 'SI1', 'VS2', 'VS1', 'VVS2', 'VVS1', 'IF']\n",
    "clarity_numeric = list(range(1, 9))"
   ]
  },
  {
   "cell_type": "code",
   "execution_count": 15,
   "metadata": {},
   "outputs": [
    {
     "name": "stdout",
     "output_type": "stream",
     "text": [
      "cut_map: {'Fair': 1, 'Good': 2, 'Very Good': 3, 'Premium': 4, 'Ideal': 5}\n",
      "color_map: {'D': 8, 'E': 7, 'F': 6, 'G': 5, 'H': 4, 'I': 3, 'J': 2}\n",
      "clarity_map: {'I1': 1, 'SI2': 2, 'SI1': 3, 'VS2': 4, 'VS1': 5, 'VVS2': 6, 'VVS1': 7, 'IF': 8}\n"
     ]
    }
   ],
   "source": [
    "maps = ['cut_map', 'color_map', 'clarity_map']\n",
    "classes = [cut_class, color_class, clarity_class]\n",
    "numerics = [cut_numeric, color_numeric, clarity_numeric]\n",
    "\n",
    "for map_name, clas, numeric in zip(maps, classes, numerics):\n",
    "    globals()[map_name] = dict(zip(clas, numeric))\n",
    "\n",
    "print(\"cut_map:\", cut_map)\n",
    "print(\"color_map:\", color_map)\n",
    "print(\"clarity_map:\", clarity_map)\n",
    "        "
   ]
  },
  {
   "cell_type": "code",
   "execution_count": 16,
   "metadata": {},
   "outputs": [],
   "source": [
    "mappings = {\n",
    "    'cut_map': {'Fair': 1, 'Good': 2, 'Very Good': 3, 'Premium': 4, 'Ideal': 5},\n",
    "    'color_map': {'D': 7, 'E': 6, 'F': 5, 'G': 4, 'H': 3, 'I': 2, 'J': 1},\n",
    "    'clarity_map': {'I1': 1, 'SI2': 2, 'SI1': 3, 'VS2': 4, 'VS1': 5, 'VVS2': 6, 'VVS1': 7, 'IF': 8}\n",
    "}\n",
    "\n",
    "with open('../data/mappings.json', 'w') as f:\n",
    "    json.dump(mappings, f, indent = 4)"
   ]
  },
  {
   "cell_type": "code",
   "execution_count": 20,
   "metadata": {},
   "outputs": [
    {
     "data": {
      "text/html": [
       "<div>\n",
       "<style scoped>\n",
       "    .dataframe tbody tr th:only-of-type {\n",
       "        vertical-align: middle;\n",
       "    }\n",
       "\n",
       "    .dataframe tbody tr th {\n",
       "        vertical-align: top;\n",
       "    }\n",
       "\n",
       "    .dataframe thead th {\n",
       "        text-align: right;\n",
       "    }\n",
       "</style>\n",
       "<table border=\"1\" class=\"dataframe\">\n",
       "  <thead>\n",
       "    <tr style=\"text-align: right;\">\n",
       "      <th></th>\n",
       "      <th>carat</th>\n",
       "      <th>cut</th>\n",
       "      <th>color</th>\n",
       "      <th>clarity</th>\n",
       "      <th>depth</th>\n",
       "      <th>table</th>\n",
       "      <th>price</th>\n",
       "      <th>x</th>\n",
       "      <th>y</th>\n",
       "      <th>z</th>\n",
       "    </tr>\n",
       "  </thead>\n",
       "  <tbody>\n",
       "    <tr>\n",
       "      <th>48063</th>\n",
       "      <td>0.73</td>\n",
       "      <td>5</td>\n",
       "      <td>3</td>\n",
       "      <td>5</td>\n",
       "      <td>61.9</td>\n",
       "      <td>56.0</td>\n",
       "      <td>2426</td>\n",
       "      <td>5.77</td>\n",
       "      <td>5.82</td>\n",
       "      <td>3.59</td>\n",
       "    </tr>\n",
       "    <tr>\n",
       "      <th>19867</th>\n",
       "      <td>1.63</td>\n",
       "      <td>2</td>\n",
       "      <td>3</td>\n",
       "      <td>2</td>\n",
       "      <td>63.7</td>\n",
       "      <td>58.0</td>\n",
       "      <td>9556</td>\n",
       "      <td>7.40</td>\n",
       "      <td>7.48</td>\n",
       "      <td>4.74</td>\n",
       "    </tr>\n",
       "    <tr>\n",
       "      <th>14448</th>\n",
       "      <td>1.00</td>\n",
       "      <td>4</td>\n",
       "      <td>7</td>\n",
       "      <td>4</td>\n",
       "      <td>59.9</td>\n",
       "      <td>59.0</td>\n",
       "      <td>6272</td>\n",
       "      <td>6.45</td>\n",
       "      <td>6.38</td>\n",
       "      <td>3.84</td>\n",
       "    </tr>\n",
       "    <tr>\n",
       "      <th>33555</th>\n",
       "      <td>0.40</td>\n",
       "      <td>5</td>\n",
       "      <td>5</td>\n",
       "      <td>5</td>\n",
       "      <td>62.6</td>\n",
       "      <td>57.0</td>\n",
       "      <td>931</td>\n",
       "      <td>4.68</td>\n",
       "      <td>4.75</td>\n",
       "      <td>2.95</td>\n",
       "    </tr>\n",
       "    <tr>\n",
       "      <th>28605</th>\n",
       "      <td>0.33</td>\n",
       "      <td>5</td>\n",
       "      <td>4</td>\n",
       "      <td>5</td>\n",
       "      <td>61.4</td>\n",
       "      <td>57.0</td>\n",
       "      <td>743</td>\n",
       "      <td>4.49</td>\n",
       "      <td>4.44</td>\n",
       "      <td>2.74</td>\n",
       "    </tr>\n",
       "  </tbody>\n",
       "</table>\n",
       "</div>"
      ],
      "text/plain": [
       "       carat  cut  color  clarity  depth  table  price     x     y     z\n",
       "48063   0.73    5      3        5   61.9   56.0   2426  5.77  5.82  3.59\n",
       "19867   1.63    2      3        2   63.7   58.0   9556  7.40  7.48  4.74\n",
       "14448   1.00    4      7        4   59.9   59.0   6272  6.45  6.38  3.84\n",
       "33555   0.40    5      5        5   62.6   57.0    931  4.68  4.75  2.95\n",
       "28605   0.33    5      4        5   61.4   57.0    743  4.49  4.44  2.74"
      ]
     },
     "execution_count": 20,
     "metadata": {},
     "output_type": "execute_result"
    }
   ],
   "source": [
    "new_df = df.iloc[5000:].copy()\n",
    "\n",
    "new_df['cut'] = new_df['cut'].map(cut_map)\n",
    "new_df['color'] = new_df['color'].map(color_map)\n",
    "new_df['clarity'] = new_df['cut'].replace(clarity_map) #why .map() is generating NaN here??\n",
    "\n",
    "new_df.head()"
   ]
  },
  {
   "cell_type": "code",
   "execution_count": 21,
   "metadata": {},
   "outputs": [
    {
     "data": {
      "text/plain": [
       "44983"
      ]
     },
     "execution_count": 21,
     "metadata": {},
     "output_type": "execute_result"
    }
   ],
   "source": [
    "len(new_df)"
   ]
  },
  {
   "cell_type": "code",
   "execution_count": 22,
   "metadata": {},
   "outputs": [
    {
     "data": {
      "text/html": [
       "<div>\n",
       "<style scoped>\n",
       "    .dataframe tbody tr th:only-of-type {\n",
       "        vertical-align: middle;\n",
       "    }\n",
       "\n",
       "    .dataframe tbody tr th {\n",
       "        vertical-align: top;\n",
       "    }\n",
       "\n",
       "    .dataframe thead th {\n",
       "        text-align: right;\n",
       "    }\n",
       "</style>\n",
       "<table border=\"1\" class=\"dataframe\">\n",
       "  <thead>\n",
       "    <tr style=\"text-align: right;\">\n",
       "      <th></th>\n",
       "      <th>carat</th>\n",
       "      <th>cut</th>\n",
       "      <th>color</th>\n",
       "      <th>clarity</th>\n",
       "      <th>depth</th>\n",
       "      <th>table</th>\n",
       "      <th>price</th>\n",
       "      <th>x</th>\n",
       "      <th>y</th>\n",
       "      <th>z</th>\n",
       "    </tr>\n",
       "  </thead>\n",
       "  <tbody>\n",
       "    <tr>\n",
       "      <th>carat</th>\n",
       "      <td>1.000000</td>\n",
       "      <td>-0.136395</td>\n",
       "      <td>-0.290011</td>\n",
       "      <td>-0.136395</td>\n",
       "      <td>0.029525</td>\n",
       "      <td>0.183429</td>\n",
       "      <td>0.921649</td>\n",
       "      <td>0.977604</td>\n",
       "      <td>0.949532</td>\n",
       "      <td>0.976060</td>\n",
       "    </tr>\n",
       "    <tr>\n",
       "      <th>cut</th>\n",
       "      <td>-0.136395</td>\n",
       "      <td>1.000000</td>\n",
       "      <td>0.018288</td>\n",
       "      <td>1.000000</td>\n",
       "      <td>-0.221386</td>\n",
       "      <td>-0.434360</td>\n",
       "      <td>-0.054985</td>\n",
       "      <td>-0.127491</td>\n",
       "      <td>-0.122784</td>\n",
       "      <td>-0.153808</td>\n",
       "    </tr>\n",
       "    <tr>\n",
       "      <th>color</th>\n",
       "      <td>-0.290011</td>\n",
       "      <td>0.018288</td>\n",
       "      <td>1.000000</td>\n",
       "      <td>0.018288</td>\n",
       "      <td>-0.046304</td>\n",
       "      <td>-0.028831</td>\n",
       "      <td>-0.171822</td>\n",
       "      <td>-0.269272</td>\n",
       "      <td>-0.261320</td>\n",
       "      <td>-0.273320</td>\n",
       "    </tr>\n",
       "    <tr>\n",
       "      <th>clarity</th>\n",
       "      <td>-0.136395</td>\n",
       "      <td>1.000000</td>\n",
       "      <td>0.018288</td>\n",
       "      <td>1.000000</td>\n",
       "      <td>-0.221386</td>\n",
       "      <td>-0.434360</td>\n",
       "      <td>-0.054985</td>\n",
       "      <td>-0.127491</td>\n",
       "      <td>-0.122784</td>\n",
       "      <td>-0.153808</td>\n",
       "    </tr>\n",
       "    <tr>\n",
       "      <th>depth</th>\n",
       "      <td>0.029525</td>\n",
       "      <td>-0.221386</td>\n",
       "      <td>-0.046304</td>\n",
       "      <td>-0.221386</td>\n",
       "      <td>1.000000</td>\n",
       "      <td>-0.296771</td>\n",
       "      <td>-0.010687</td>\n",
       "      <td>-0.024331</td>\n",
       "      <td>-0.028535</td>\n",
       "      <td>0.097217</td>\n",
       "    </tr>\n",
       "    <tr>\n",
       "      <th>table</th>\n",
       "      <td>0.183429</td>\n",
       "      <td>-0.434360</td>\n",
       "      <td>-0.028831</td>\n",
       "      <td>-0.434360</td>\n",
       "      <td>-0.296771</td>\n",
       "      <td>1.000000</td>\n",
       "      <td>0.129855</td>\n",
       "      <td>0.197699</td>\n",
       "      <td>0.185212</td>\n",
       "      <td>0.157489</td>\n",
       "    </tr>\n",
       "    <tr>\n",
       "      <th>price</th>\n",
       "      <td>0.921649</td>\n",
       "      <td>-0.054985</td>\n",
       "      <td>-0.171822</td>\n",
       "      <td>-0.054985</td>\n",
       "      <td>-0.010687</td>\n",
       "      <td>0.129855</td>\n",
       "      <td>1.000000</td>\n",
       "      <td>0.887632</td>\n",
       "      <td>0.864321</td>\n",
       "      <td>0.882100</td>\n",
       "    </tr>\n",
       "    <tr>\n",
       "      <th>x</th>\n",
       "      <td>0.977604</td>\n",
       "      <td>-0.127491</td>\n",
       "      <td>-0.269272</td>\n",
       "      <td>-0.127491</td>\n",
       "      <td>-0.024331</td>\n",
       "      <td>0.197699</td>\n",
       "      <td>0.887632</td>\n",
       "      <td>1.000000</td>\n",
       "      <td>0.970481</td>\n",
       "      <td>0.990658</td>\n",
       "    </tr>\n",
       "    <tr>\n",
       "      <th>y</th>\n",
       "      <td>0.949532</td>\n",
       "      <td>-0.122784</td>\n",
       "      <td>-0.261320</td>\n",
       "      <td>-0.122784</td>\n",
       "      <td>-0.028535</td>\n",
       "      <td>0.185212</td>\n",
       "      <td>0.864321</td>\n",
       "      <td>0.970481</td>\n",
       "      <td>1.000000</td>\n",
       "      <td>0.968223</td>\n",
       "    </tr>\n",
       "    <tr>\n",
       "      <th>z</th>\n",
       "      <td>0.976060</td>\n",
       "      <td>-0.153808</td>\n",
       "      <td>-0.273320</td>\n",
       "      <td>-0.153808</td>\n",
       "      <td>0.097217</td>\n",
       "      <td>0.157489</td>\n",
       "      <td>0.882100</td>\n",
       "      <td>0.990658</td>\n",
       "      <td>0.968223</td>\n",
       "      <td>1.000000</td>\n",
       "    </tr>\n",
       "  </tbody>\n",
       "</table>\n",
       "</div>"
      ],
      "text/plain": [
       "            carat       cut     color   clarity     depth     table     price  \\\n",
       "carat    1.000000 -0.136395 -0.290011 -0.136395  0.029525  0.183429  0.921649   \n",
       "cut     -0.136395  1.000000  0.018288  1.000000 -0.221386 -0.434360 -0.054985   \n",
       "color   -0.290011  0.018288  1.000000  0.018288 -0.046304 -0.028831 -0.171822   \n",
       "clarity -0.136395  1.000000  0.018288  1.000000 -0.221386 -0.434360 -0.054985   \n",
       "depth    0.029525 -0.221386 -0.046304 -0.221386  1.000000 -0.296771 -0.010687   \n",
       "table    0.183429 -0.434360 -0.028831 -0.434360 -0.296771  1.000000  0.129855   \n",
       "price    0.921649 -0.054985 -0.171822 -0.054985 -0.010687  0.129855  1.000000   \n",
       "x        0.977604 -0.127491 -0.269272 -0.127491 -0.024331  0.197699  0.887632   \n",
       "y        0.949532 -0.122784 -0.261320 -0.122784 -0.028535  0.185212  0.864321   \n",
       "z        0.976060 -0.153808 -0.273320 -0.153808  0.097217  0.157489  0.882100   \n",
       "\n",
       "                x         y         z  \n",
       "carat    0.977604  0.949532  0.976060  \n",
       "cut     -0.127491 -0.122784 -0.153808  \n",
       "color   -0.269272 -0.261320 -0.273320  \n",
       "clarity -0.127491 -0.122784 -0.153808  \n",
       "depth   -0.024331 -0.028535  0.097217  \n",
       "table    0.197699  0.185212  0.157489  \n",
       "price    0.887632  0.864321  0.882100  \n",
       "x        1.000000  0.970481  0.990658  \n",
       "y        0.970481  1.000000  0.968223  \n",
       "z        0.990658  0.968223  1.000000  "
      ]
     },
     "execution_count": 22,
     "metadata": {},
     "output_type": "execute_result"
    }
   ],
   "source": [
    "new_df.corr()"
   ]
  },
  {
   "cell_type": "markdown",
   "metadata": {},
   "source": [
    "INSIGHT : carat, x, y, z are very strongly correlated with each other, as also with terget variable - price. It is worth examining whether clusters derived upon these criterions will be better to train models dedicated for particular size class. Maybe this approach will improve performance of models (i.e. RMSE to mean)"
   ]
  },
  {
   "cell_type": "code",
   "execution_count": 41,
   "metadata": {},
   "outputs": [
    {
     "data": {
      "image/png": "[encoded data removed]",
      "text/plain": [
       "<Figure size 600x600 with 1 Axes>"
      ]
     },
     "metadata": {},
     "output_type": "display_data"
    },
    {
     "data": {
      "image/png": "[encoded data removed]",
      "text/plain": [
       "<Figure size 450x450 with 1 Axes>"
      ]
     },
     "metadata": {},
     "output_type": "display_data"
    },
    {
     "data": {
      "image/png": "[encoded data removed]",
      "text/plain": [
       "<Figure size 450x450 with 1 Axes>"
      ]
     },
     "metadata": {},
     "output_type": "display_data"
    },
    {
     "data": {
      "image/png": "[encoded data removed]",
      "text/plain": [
       "<Figure size 450x450 with 1 Axes>"
      ]
     },
     "metadata": {},
     "output_type": "display_data"
    }
   ],
   "source": [
    "#First look at outliers\n",
    "\n",
    "import matplotlib.pyplot as plt\n",
    "import seaborn as sns\n",
    "\n",
    "#Dividing plots due to different values' ranges\n",
    "\n",
    "plt.figure(figsize = (8, 8), dpi = 75)\n",
    "sns.boxplot(data = new_df.drop(columns = ['cut', 'color', 'clarity', 'price', 'depth', 'table'], axis = 1))\n",
    "plt.show();\n",
    "\n",
    "plt.figure(figsize = (6, 6), dpi = 75)\n",
    "sns.boxplot(data = new_df.drop(columns = ['cut', 'color', 'clarity', 'price', 'carat', 'x', 'y', 'z'], axis = 1))\n",
    "plt.show()\n",
    "\n",
    "plt.figure(figsize = (6, 6), dpi = 75)\n",
    "sns.boxplot(data = new_df.drop(columns = ['carat', 'depth', 'table', 'x', 'y', 'z', 'price'], axis = 1))\n",
    "plt.show();\n",
    "\n",
    "plt.figure(figsize = (6, 6), dpi = 75)\n",
    "sns.boxplot(data = new_df['price'])\n",
    "plt.show();"
   ]
  },
  {
   "cell_type": "code",
   "execution_count": 24,
   "metadata": {},
   "outputs": [
    {
     "data": {
      "text/plain": [
       "2906"
      ]
     },
     "execution_count": 24,
     "metadata": {},
     "output_type": "execute_result"
    }
   ],
   "source": [
    "len(new_df.query('price > 12000'))"
   ]
  },
  {
   "cell_type": "code",
   "execution_count": 25,
   "metadata": {},
   "outputs": [],
   "source": [
    "def histogram(feature : str, bins : int) :\n",
    "\n",
    "    plt.figure(figsize = (12, 4), dpi = 75)\n",
    "    sns.histplot(df[feature], bins = bins)\n",
    "    plt.title(f'Distribution of {feature}')\n",
    "    plt.xlabel(feature)\n",
    "    plt.ylabel('frequency')\n",
    "    plt.show();"
   ]
  },
  {
   "cell_type": "code",
   "execution_count": 26,
   "metadata": {},
   "outputs": [
    {
     "data": {
      "image/png": "[encoded data removed]",
      "text/plain": [
       "<Figure size 900x300 with 1 Axes>"
      ]
     },
     "metadata": {},
     "output_type": "display_data"
    }
   ],
   "source": [
    "histogram('price', 100)"
   ]
  },
  {
   "cell_type": "code",
   "execution_count": 27,
   "metadata": {},
   "outputs": [
    {
     "data": {
      "image/png": "[encoded data removed]",
      "text/plain": [
       "<Figure size 900x300 with 1 Axes>"
      ]
     },
     "metadata": {},
     "output_type": "display_data"
    }
   ],
   "source": [
    "histogram('carat', 100)"
   ]
  },
  {
   "cell_type": "code",
   "execution_count": 28,
   "metadata": {},
   "outputs": [
    {
     "data": {
      "image/png": "[encoded data removed]",
      "text/plain": [
       "<Figure size 900x300 with 1 Axes>"
      ]
     },
     "metadata": {},
     "output_type": "display_data"
    }
   ],
   "source": [
    "histogram('depth', 100)"
   ]
  },
  {
   "cell_type": "code",
   "execution_count": 29,
   "metadata": {},
   "outputs": [
    {
     "data": {
      "image/png": "[encoded data removed]",
      "text/plain": [
       "<Figure size 900x300 with 1 Axes>"
      ]
     },
     "metadata": {},
     "output_type": "display_data"
    }
   ],
   "source": [
    "histogram('table', 100)"
   ]
  },
  {
   "cell_type": "code",
   "execution_count": 30,
   "metadata": {},
   "outputs": [
    {
     "data": {
      "image/png": "[encoded data removed]",
      "text/plain": [
       "<Figure size 900x300 with 1 Axes>"
      ]
     },
     "metadata": {},
     "output_type": "display_data"
    }
   ],
   "source": [
    "histogram('x', 100)"
   ]
  },
  {
   "cell_type": "code",
   "execution_count": 31,
   "metadata": {},
   "outputs": [
    {
     "data": {
      "image/png": "[encoded data removed]",
      "text/plain": [
       "<Figure size 900x300 with 1 Axes>"
      ]
     },
     "metadata": {},
     "output_type": "display_data"
    }
   ],
   "source": [
    "histogram('y', 100)"
   ]
  },
  {
   "cell_type": "code",
   "execution_count": 32,
   "metadata": {},
   "outputs": [
    {
     "data": {
      "image/png": "[encoded data removed]",
      "text/plain": [
       "<Figure size 900x300 with 1 Axes>"
      ]
     },
     "metadata": {},
     "output_type": "display_data"
    }
   ],
   "source": [
    "histogram('z',100)"
   ]
  },
  {
   "cell_type": "code",
   "execution_count": 33,
   "metadata": {},
   "outputs": [
    {
     "data": {
      "image/png": "[encoded data removed]",
      "text/plain": [
       "<Figure size 900x300 with 1 Axes>"
      ]
     },
     "metadata": {},
     "output_type": "display_data"
    }
   ],
   "source": [
    "histogram('cut', 5)"
   ]
  },
  {
   "cell_type": "code",
   "execution_count": 34,
   "metadata": {},
   "outputs": [
    {
     "data": {
      "image/png": "[encoded data removed]",
      "text/plain": [
       "<Figure size 900x300 with 1 Axes>"
      ]
     },
     "metadata": {},
     "output_type": "display_data"
    }
   ],
   "source": [
    "histogram('color', 7)"
   ]
  },
  {
   "cell_type": "code",
   "execution_count": 35,
   "metadata": {},
   "outputs": [
    {
     "data": {
      "image/png": "[encoded data removed]",
      "text/plain": [
       "<Figure size 900x300 with 1 Axes>"
      ]
     },
     "metadata": {},
     "output_type": "display_data"
    }
   ],
   "source": [
    "histogram('clarity', 8)"
   ]
  },
  {
   "cell_type": "code",
   "execution_count": 36,
   "metadata": {},
   "outputs": [],
   "source": [
    "new_df.to_csv('../data/diamonds_preprocessed.csv', index = False)"
   ]
  },
  {
   "cell_type": "markdown",
   "metadata": {},
   "source": [
    "# To do next in _dev :\n",
    "- analyze data via clustering\n",
    "- experiment with models"
   ]
  }
 ],
 "metadata": {
  "kernelspec": {
   "display_name": "base",
   "language": "python",
   "name": "python3"
  },
  "language_info": {
   "codemirror_mode": {
    "name": "ipython",
    "version": 3
   },
   "file_extension": ".py",
   "mimetype": "text/x-python",
   "name": "python",
   "nbconvert_exporter": "python",
   "pygments_lexer": "ipython3",
   "version": "3.12.4"
  }
 },
 "nbformat": 4,
 "nbformat_minor": 2
}
